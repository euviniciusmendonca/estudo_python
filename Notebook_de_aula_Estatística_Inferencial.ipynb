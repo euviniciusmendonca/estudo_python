{
  "nbformat": 4,
  "nbformat_minor": 0,
  "metadata": {
    "language_info": {
      "codemirror_mode": {
        "name": "ipython",
        "version": 3
      },
      "file_extension": ".py",
      "mimetype": "text/x-python",
      "name": "python",
      "nbconvert_exporter": "python",
      "pygments_lexer": "ipython3",
      "version": "3.7.6"
    },
    "colab": {
      "provenance": [],
      "include_colab_link": true
    }
  },
  "cells": [
    {
      "cell_type": "markdown",
      "metadata": {
        "id": "view-in-github",
        "colab_type": "text"
      },
      "source": [
        "<a href=\"https://colab.research.google.com/github/euviniciusmendonca/estudo_python/blob/main/Notebook_de_aula_Estat%C3%ADstica_Inferencial.ipynb\" target=\"_parent\"><img src=\"https://colab.research.google.com/assets/colab-badge.svg\" alt=\"Open In Colab\"/></a>"
      ]
    },
    {
      "cell_type": "code",
      "metadata": {
        "id": "Q_-BG5B26KWf"
      },
      "source": [
        "import numpy as np\n",
        "import pandas as pd\n",
        "\n",
        "import matplotlib.pyplot as plt\n",
        "import seaborn as sns\n",
        "\n",
        "from scipy.stats import norm\n",
        "import scipy.stats as st\n",
        "\n",
        "import os\n",
        "import random"
      ],
      "execution_count": null,
      "outputs": []
    },
    {
      "cell_type": "markdown",
      "metadata": {
        "id": "7_snsFzp6KWl"
      },
      "source": [
        "### Amostragem"
      ]
    },
    {
      "cell_type": "markdown",
      "metadata": {
        "id": "ckqeL_zR6KWm"
      },
      "source": [
        "Uma produtora deseja fazer um estudo sobre qualidade de queijos e, para isso, conduzir uma amostragem simples aleatória de 20 queijos de um lote de 100. Cada queijo recebeu uma identificação numérica. "
      ]
    },
    {
      "cell_type": "code",
      "metadata": {
        "id": "4yfvqE_26KWn"
      },
      "source": [
        "lista_queijos = list(range(1,101))"
      ],
      "execution_count": null,
      "outputs": []
    },
    {
      "cell_type": "code",
      "metadata": {
        "id": "mhWwQ68Z6KWo",
        "outputId": "d030365a-8f4c-4810-8748-496cb8d9bb4d"
      },
      "source": [
        "random_sample_queijos = random.sample(lista_queijos, k=20)\n",
        "random_sample_queijos"
      ],
      "execution_count": null,
      "outputs": [
        {
          "output_type": "execute_result",
          "data": {
            "text/plain": [
              "[52, 62, 55, 24, 95, 74, 1, 13, 3, 48, 22, 5, 96, 54, 41, 43, 85, 87, 60, 75]"
            ]
          },
          "metadata": {
            "tags": []
          },
          "execution_count": 86
        }
      ]
    },
    {
      "cell_type": "markdown",
      "metadata": {
        "id": "HnEIxf2N6KWq"
      },
      "source": [
        "Um grupo de pesquisa deseja estudar nível de educação em algumas cidades do Brasil. Para isso, precisam selecionar da população original, 2 itens de cada uma das cidades consideradas no estudo para incluir na amostra. "
      ]
    },
    {
      "cell_type": "code",
      "metadata": {
        "id": "YJJ80WmW6KWq"
      },
      "source": [
        "cidades = {\"cidade\": [\"Belo Horizonte\",\"Porto Alegre\", \"Rio de Janeiro\", \"Belem\",\n",
        "                      \"Porto Alegre\", \"Porto Alegre\",\"Vitoria\", \"Maceio\",\"Belem\",\n",
        "                     \"Belo Horizonte\", \"Maceio\", \"Vitoria\", \"Belem\", \"Rio de Janeiro\",\"Belo Horizonte\",\"Porto Alegre\", \"Belo Horizonte\",\n",
        "                     \"Belo Horizonte\", \"Belem\",\"Porto Alegre\", \"Vitoria\", \"Rio de Janeiro\",\n",
        "                      \"Belo Horizonte\", \"Belem\", \"Maceio\", \"Vitoria\"]}"
      ],
      "execution_count": null,
      "outputs": []
    },
    {
      "cell_type": "code",
      "metadata": {
        "id": "93Bx1Wue6KWq",
        "outputId": "83cd3201-4b34-4c42-8c0e-af930223647c"
      },
      "source": [
        "cidades_df = pd.DataFrame(data=cidades)\n",
        "cidades_df"
      ],
      "execution_count": null,
      "outputs": [
        {
          "output_type": "execute_result",
          "data": {
            "text/html": [
              "<div>\n",
              "<style scoped>\n",
              "    .dataframe tbody tr th:only-of-type {\n",
              "        vertical-align: middle;\n",
              "    }\n",
              "\n",
              "    .dataframe tbody tr th {\n",
              "        vertical-align: top;\n",
              "    }\n",
              "\n",
              "    .dataframe thead th {\n",
              "        text-align: right;\n",
              "    }\n",
              "</style>\n",
              "<table border=\"1\" class=\"dataframe\">\n",
              "  <thead>\n",
              "    <tr style=\"text-align: right;\">\n",
              "      <th></th>\n",
              "      <th>cidade</th>\n",
              "    </tr>\n",
              "  </thead>\n",
              "  <tbody>\n",
              "    <tr>\n",
              "      <th>0</th>\n",
              "      <td>Belo Horizonte</td>\n",
              "    </tr>\n",
              "    <tr>\n",
              "      <th>1</th>\n",
              "      <td>Porto Alegre</td>\n",
              "    </tr>\n",
              "    <tr>\n",
              "      <th>2</th>\n",
              "      <td>Rio de Janeiro</td>\n",
              "    </tr>\n",
              "    <tr>\n",
              "      <th>3</th>\n",
              "      <td>Belem</td>\n",
              "    </tr>\n",
              "    <tr>\n",
              "      <th>4</th>\n",
              "      <td>Porto Alegre</td>\n",
              "    </tr>\n",
              "    <tr>\n",
              "      <th>5</th>\n",
              "      <td>Porto Alegre</td>\n",
              "    </tr>\n",
              "    <tr>\n",
              "      <th>6</th>\n",
              "      <td>Vitoria</td>\n",
              "    </tr>\n",
              "    <tr>\n",
              "      <th>7</th>\n",
              "      <td>Maceio</td>\n",
              "    </tr>\n",
              "    <tr>\n",
              "      <th>8</th>\n",
              "      <td>Belem</td>\n",
              "    </tr>\n",
              "    <tr>\n",
              "      <th>9</th>\n",
              "      <td>Belo Horizonte</td>\n",
              "    </tr>\n",
              "    <tr>\n",
              "      <th>10</th>\n",
              "      <td>Maceio</td>\n",
              "    </tr>\n",
              "    <tr>\n",
              "      <th>11</th>\n",
              "      <td>Vitoria</td>\n",
              "    </tr>\n",
              "    <tr>\n",
              "      <th>12</th>\n",
              "      <td>Belem</td>\n",
              "    </tr>\n",
              "    <tr>\n",
              "      <th>13</th>\n",
              "      <td>Rio de Janeiro</td>\n",
              "    </tr>\n",
              "    <tr>\n",
              "      <th>14</th>\n",
              "      <td>Belo Horizonte</td>\n",
              "    </tr>\n",
              "    <tr>\n",
              "      <th>15</th>\n",
              "      <td>Porto Alegre</td>\n",
              "    </tr>\n",
              "    <tr>\n",
              "      <th>16</th>\n",
              "      <td>Belo Horizonte</td>\n",
              "    </tr>\n",
              "    <tr>\n",
              "      <th>17</th>\n",
              "      <td>Belo Horizonte</td>\n",
              "    </tr>\n",
              "    <tr>\n",
              "      <th>18</th>\n",
              "      <td>Belem</td>\n",
              "    </tr>\n",
              "    <tr>\n",
              "      <th>19</th>\n",
              "      <td>Porto Alegre</td>\n",
              "    </tr>\n",
              "    <tr>\n",
              "      <th>20</th>\n",
              "      <td>Vitoria</td>\n",
              "    </tr>\n",
              "    <tr>\n",
              "      <th>21</th>\n",
              "      <td>Rio de Janeiro</td>\n",
              "    </tr>\n",
              "    <tr>\n",
              "      <th>22</th>\n",
              "      <td>Belo Horizonte</td>\n",
              "    </tr>\n",
              "    <tr>\n",
              "      <th>23</th>\n",
              "      <td>Belem</td>\n",
              "    </tr>\n",
              "    <tr>\n",
              "      <th>24</th>\n",
              "      <td>Maceio</td>\n",
              "    </tr>\n",
              "    <tr>\n",
              "      <th>25</th>\n",
              "      <td>Vitoria</td>\n",
              "    </tr>\n",
              "  </tbody>\n",
              "</table>\n",
              "</div>"
            ],
            "text/plain": [
              "            cidade\n",
              "0   Belo Horizonte\n",
              "1     Porto Alegre\n",
              "2   Rio de Janeiro\n",
              "3            Belem\n",
              "4     Porto Alegre\n",
              "5     Porto Alegre\n",
              "6          Vitoria\n",
              "7           Maceio\n",
              "8            Belem\n",
              "9   Belo Horizonte\n",
              "10          Maceio\n",
              "11         Vitoria\n",
              "12           Belem\n",
              "13  Rio de Janeiro\n",
              "14  Belo Horizonte\n",
              "15    Porto Alegre\n",
              "16  Belo Horizonte\n",
              "17  Belo Horizonte\n",
              "18           Belem\n",
              "19    Porto Alegre\n",
              "20         Vitoria\n",
              "21  Rio de Janeiro\n",
              "22  Belo Horizonte\n",
              "23           Belem\n",
              "24          Maceio\n",
              "25         Vitoria"
            ]
          },
          "metadata": {
            "tags": []
          },
          "execution_count": 96
        }
      ]
    },
    {
      "cell_type": "code",
      "metadata": {
        "id": "WuCgo4fX6KWs",
        "outputId": "1c55307f-75f9-4b96-cb1c-c913c577084a"
      },
      "source": [
        "cidades_df.groupby(\"cidade\").apply(lambda x: x.sample(2, random_state=42))"
      ],
      "execution_count": null,
      "outputs": [
        {
          "output_type": "execute_result",
          "data": {
            "text/html": [
              "<div>\n",
              "<style scoped>\n",
              "    .dataframe tbody tr th:only-of-type {\n",
              "        vertical-align: middle;\n",
              "    }\n",
              "\n",
              "    .dataframe tbody tr th {\n",
              "        vertical-align: top;\n",
              "    }\n",
              "\n",
              "    .dataframe thead th {\n",
              "        text-align: right;\n",
              "    }\n",
              "</style>\n",
              "<table border=\"1\" class=\"dataframe\">\n",
              "  <thead>\n",
              "    <tr style=\"text-align: right;\">\n",
              "      <th></th>\n",
              "      <th></th>\n",
              "      <th>cidade</th>\n",
              "    </tr>\n",
              "    <tr>\n",
              "      <th>cidade</th>\n",
              "      <th></th>\n",
              "      <th></th>\n",
              "    </tr>\n",
              "  </thead>\n",
              "  <tbody>\n",
              "    <tr>\n",
              "      <th rowspan=\"2\" valign=\"top\">Belem</th>\n",
              "      <th>8</th>\n",
              "      <td>Belem</td>\n",
              "    </tr>\n",
              "    <tr>\n",
              "      <th>23</th>\n",
              "      <td>Belem</td>\n",
              "    </tr>\n",
              "    <tr>\n",
              "      <th rowspan=\"2\" valign=\"top\">Belo Horizonte</th>\n",
              "      <th>0</th>\n",
              "      <td>Belo Horizonte</td>\n",
              "    </tr>\n",
              "    <tr>\n",
              "      <th>9</th>\n",
              "      <td>Belo Horizonte</td>\n",
              "    </tr>\n",
              "    <tr>\n",
              "      <th rowspan=\"2\" valign=\"top\">Maceio</th>\n",
              "      <th>7</th>\n",
              "      <td>Maceio</td>\n",
              "    </tr>\n",
              "    <tr>\n",
              "      <th>10</th>\n",
              "      <td>Maceio</td>\n",
              "    </tr>\n",
              "    <tr>\n",
              "      <th rowspan=\"2\" valign=\"top\">Porto Alegre</th>\n",
              "      <th>4</th>\n",
              "      <td>Porto Alegre</td>\n",
              "    </tr>\n",
              "    <tr>\n",
              "      <th>19</th>\n",
              "      <td>Porto Alegre</td>\n",
              "    </tr>\n",
              "    <tr>\n",
              "      <th rowspan=\"2\" valign=\"top\">Rio de Janeiro</th>\n",
              "      <th>2</th>\n",
              "      <td>Rio de Janeiro</td>\n",
              "    </tr>\n",
              "    <tr>\n",
              "      <th>13</th>\n",
              "      <td>Rio de Janeiro</td>\n",
              "    </tr>\n",
              "    <tr>\n",
              "      <th rowspan=\"2\" valign=\"top\">Vitoria</th>\n",
              "      <th>11</th>\n",
              "      <td>Vitoria</td>\n",
              "    </tr>\n",
              "    <tr>\n",
              "      <th>25</th>\n",
              "      <td>Vitoria</td>\n",
              "    </tr>\n",
              "  </tbody>\n",
              "</table>\n",
              "</div>"
            ],
            "text/plain": [
              "                           cidade\n",
              "cidade                           \n",
              "Belem          8            Belem\n",
              "               23           Belem\n",
              "Belo Horizonte 0   Belo Horizonte\n",
              "               9   Belo Horizonte\n",
              "Maceio         7           Maceio\n",
              "               10          Maceio\n",
              "Porto Alegre   4     Porto Alegre\n",
              "               19    Porto Alegre\n",
              "Rio de Janeiro 2   Rio de Janeiro\n",
              "               13  Rio de Janeiro\n",
              "Vitoria        11         Vitoria\n",
              "               25         Vitoria"
            ]
          },
          "metadata": {
            "tags": []
          },
          "execution_count": 99
        }
      ]
    },
    {
      "cell_type": "code",
      "metadata": {
        "id": "rLoY2pkW6KWt",
        "outputId": "e21b3f2c-81d1-44cc-a866-292b96892812"
      },
      "source": [
        "cidades_df.groupby(\"cidade\", group_keys=False).apply(lambda x: x.sample(2, random_state=42))"
      ],
      "execution_count": null,
      "outputs": [
        {
          "output_type": "execute_result",
          "data": {
            "text/html": [
              "<div>\n",
              "<style scoped>\n",
              "    .dataframe tbody tr th:only-of-type {\n",
              "        vertical-align: middle;\n",
              "    }\n",
              "\n",
              "    .dataframe tbody tr th {\n",
              "        vertical-align: top;\n",
              "    }\n",
              "\n",
              "    .dataframe thead th {\n",
              "        text-align: right;\n",
              "    }\n",
              "</style>\n",
              "<table border=\"1\" class=\"dataframe\">\n",
              "  <thead>\n",
              "    <tr style=\"text-align: right;\">\n",
              "      <th></th>\n",
              "      <th>cidade</th>\n",
              "    </tr>\n",
              "  </thead>\n",
              "  <tbody>\n",
              "    <tr>\n",
              "      <th>8</th>\n",
              "      <td>Belem</td>\n",
              "    </tr>\n",
              "    <tr>\n",
              "      <th>23</th>\n",
              "      <td>Belem</td>\n",
              "    </tr>\n",
              "    <tr>\n",
              "      <th>0</th>\n",
              "      <td>Belo Horizonte</td>\n",
              "    </tr>\n",
              "    <tr>\n",
              "      <th>9</th>\n",
              "      <td>Belo Horizonte</td>\n",
              "    </tr>\n",
              "    <tr>\n",
              "      <th>7</th>\n",
              "      <td>Maceio</td>\n",
              "    </tr>\n",
              "    <tr>\n",
              "      <th>10</th>\n",
              "      <td>Maceio</td>\n",
              "    </tr>\n",
              "    <tr>\n",
              "      <th>4</th>\n",
              "      <td>Porto Alegre</td>\n",
              "    </tr>\n",
              "    <tr>\n",
              "      <th>19</th>\n",
              "      <td>Porto Alegre</td>\n",
              "    </tr>\n",
              "    <tr>\n",
              "      <th>2</th>\n",
              "      <td>Rio de Janeiro</td>\n",
              "    </tr>\n",
              "    <tr>\n",
              "      <th>13</th>\n",
              "      <td>Rio de Janeiro</td>\n",
              "    </tr>\n",
              "    <tr>\n",
              "      <th>11</th>\n",
              "      <td>Vitoria</td>\n",
              "    </tr>\n",
              "    <tr>\n",
              "      <th>25</th>\n",
              "      <td>Vitoria</td>\n",
              "    </tr>\n",
              "  </tbody>\n",
              "</table>\n",
              "</div>"
            ],
            "text/plain": [
              "            cidade\n",
              "8            Belem\n",
              "23           Belem\n",
              "0   Belo Horizonte\n",
              "9   Belo Horizonte\n",
              "7           Maceio\n",
              "10          Maceio\n",
              "4     Porto Alegre\n",
              "19    Porto Alegre\n",
              "2   Rio de Janeiro\n",
              "13  Rio de Janeiro\n",
              "11         Vitoria\n",
              "25         Vitoria"
            ]
          },
          "metadata": {
            "tags": []
          },
          "execution_count": 102
        }
      ]
    },
    {
      "cell_type": "markdown",
      "metadata": {
        "id": "fKoABOUb6KWt"
      },
      "source": [
        "### Teorema do Limite Central"
      ]
    },
    {
      "cell_type": "code",
      "metadata": {
        "id": "F6A0oDyM6KWu",
        "outputId": "75aa038c-e01b-4185-d9b1-5eebc09ea9a5"
      },
      "source": [
        "pop = range(3000)\n",
        "means = []\n",
        "\n",
        "#montando distribuição amostral, n=30\n",
        "for i in range(20):\n",
        "    sample = random.sample(pop, k=40)\n",
        "    means.append(np.mean(sample))\n",
        "\n",
        "means"
      ],
      "execution_count": null,
      "outputs": [
        {
          "output_type": "execute_result",
          "data": {
            "text/plain": [
              "[1524.975,\n",
              " 1270.6,\n",
              " 1444.25,\n",
              " 1626.875,\n",
              " 1596.975,\n",
              " 1495.85,\n",
              " 1587.85,\n",
              " 1260.4,\n",
              " 1490.45,\n",
              " 1545.1,\n",
              " 1676.8,\n",
              " 1420.925,\n",
              " 1588.775,\n",
              " 1440.825,\n",
              " 1552.35,\n",
              " 1509.2,\n",
              " 1385.75,\n",
              " 1599.05,\n",
              " 1515.075,\n",
              " 1457.375]"
            ]
          },
          "metadata": {
            "tags": []
          },
          "execution_count": 113
        }
      ]
    },
    {
      "cell_type": "code",
      "metadata": {
        "id": "bNeONuRG6KWu",
        "outputId": "f518981e-8bd4-43a6-f20a-f0c9d406fe8c"
      },
      "source": [
        "np.mean(means)"
      ],
      "execution_count": null,
      "outputs": [
        {
          "output_type": "execute_result",
          "data": {
            "text/plain": [
              "1499.4725"
            ]
          },
          "metadata": {
            "tags": []
          },
          "execution_count": 114
        }
      ]
    },
    {
      "cell_type": "code",
      "metadata": {
        "id": "-lRdnmMe6KWu",
        "outputId": "d78699ac-5f86-40bc-bab3-ce45372fae8c"
      },
      "source": [
        "np.mean(pop)"
      ],
      "execution_count": null,
      "outputs": [
        {
          "output_type": "execute_result",
          "data": {
            "text/plain": [
              "1499.5"
            ]
          },
          "metadata": {
            "tags": []
          },
          "execution_count": 115
        }
      ]
    },
    {
      "cell_type": "markdown",
      "metadata": {
        "id": "Kd_0BdZB6KWv"
      },
      "source": [
        "### Distribuição Normal"
      ]
    },
    {
      "cell_type": "code",
      "metadata": {
        "id": "JRRP-gT_6KWv",
        "outputId": "54a8546d-f000-4881-be06-f4b16a322ea6"
      },
      "source": [
        "data"
      ],
      "execution_count": null,
      "outputs": [
        {
          "output_type": "execute_result",
          "data": {
            "text/plain": [
              "array([-10.        ,  -9.7979798 ,  -9.5959596 ,  -9.39393939,\n",
              "        -9.19191919,  -8.98989899,  -8.78787879,  -8.58585859,\n",
              "        -8.38383838,  -8.18181818,  -7.97979798,  -7.77777778,\n",
              "        -7.57575758,  -7.37373737,  -7.17171717,  -6.96969697,\n",
              "        -6.76767677,  -6.56565657,  -6.36363636,  -6.16161616,\n",
              "        -5.95959596,  -5.75757576,  -5.55555556,  -5.35353535,\n",
              "        -5.15151515,  -4.94949495,  -4.74747475,  -4.54545455,\n",
              "        -4.34343434,  -4.14141414,  -3.93939394,  -3.73737374,\n",
              "        -3.53535354,  -3.33333333,  -3.13131313,  -2.92929293,\n",
              "        -2.72727273,  -2.52525253,  -2.32323232,  -2.12121212,\n",
              "        -1.91919192,  -1.71717172,  -1.51515152,  -1.31313131,\n",
              "        -1.11111111,  -0.90909091,  -0.70707071,  -0.50505051,\n",
              "        -0.3030303 ,  -0.1010101 ,   0.1010101 ,   0.3030303 ,\n",
              "         0.50505051,   0.70707071,   0.90909091,   1.11111111,\n",
              "         1.31313131,   1.51515152,   1.71717172,   1.91919192,\n",
              "         2.12121212,   2.32323232,   2.52525253,   2.72727273,\n",
              "         2.92929293,   3.13131313,   3.33333333,   3.53535354,\n",
              "         3.73737374,   3.93939394,   4.14141414,   4.34343434,\n",
              "         4.54545455,   4.74747475,   4.94949495,   5.15151515,\n",
              "         5.35353535,   5.55555556,   5.75757576,   5.95959596,\n",
              "         6.16161616,   6.36363636,   6.56565657,   6.76767677,\n",
              "         6.96969697,   7.17171717,   7.37373737,   7.57575758,\n",
              "         7.77777778,   7.97979798,   8.18181818,   8.38383838,\n",
              "         8.58585859,   8.78787879,   8.98989899,   9.19191919,\n",
              "         9.39393939,   9.5959596 ,   9.7979798 ,  10.        ])"
            ]
          },
          "metadata": {
            "tags": []
          },
          "execution_count": 36
        }
      ]
    },
    {
      "cell_type": "code",
      "metadata": {
        "id": "NFXbIOVS6KWw",
        "outputId": "c3c166e2-160d-4136-bf91-140398ed47b8"
      },
      "source": [
        "fig, ax = plt.subplots()\n",
        "\n",
        "stds = [1.0, 2.0, 3.0, 4.0]\n",
        "\n",
        "for std in stds:\n",
        "    ax.plot(data, norm.pdf(data,scale=std), label='std=%.1f' % std)\n",
        "    \n",
        "ax.set_xlabel('x')\n",
        "ax.set_ylabel('pdf(x)')\n",
        "ax.set_title('Normal Distribution')\n",
        "ax.legend(loc='best', frameon=True)\n",
        "ax.grid(True)"
      ],
      "execution_count": null,
      "outputs": [
        {
          "output_type": "display_data",
          "data": {
            "image/png": "[encoded data removed]",
            "text/plain": [
              "<Figure size 432x288 with 1 Axes>"
            ]
          },
          "metadata": {
            "tags": [],
            "needs_background": "light"
          }
        }
      ]
    },
    {
      "cell_type": "code",
      "metadata": {
        "id": "XT2j-_0w6KWw",
        "outputId": "e33ac1a9-29b6-4599-bcc5-6059ba5044fb"
      },
      "source": [
        "fig, ax = plt.subplots()\n",
        "\n",
        "means = [0.0, 1.0, 2.0, 5.0]\n",
        "for mean in means:\n",
        "    ax.plot(data, norm.pdf(data,loc=mean), label='mean=%.1f' % mean)\n",
        "    \n",
        "ax.set_xlabel('x')\n",
        "ax.set_ylabel('pdf(x)')\n",
        "ax.set_title('Normal Distribution')\n",
        "ax.legend(loc='best', frameon=True)\n",
        "ax.grid(True)"
      ],
      "execution_count": null,
      "outputs": [
        {
          "output_type": "display_data",
          "data": {
            "image/png": "[encoded data removed]",
            "text/plain": [
              "<Figure size 432x288 with 1 Axes>"
            ]
          },
          "metadata": {
            "tags": [],
            "needs_background": "light"
          }
        }
      ]
    },
    {
      "cell_type": "code",
      "metadata": {
        "id": "55qbjjL66KWx",
        "outputId": "5ceaf8a4-3421-4429-d123-acd9bd417892"
      },
      "source": [
        "fig, ax = plt.subplots()\n",
        "\n",
        "data = np.linspace(-2.5,12.5,100)\n",
        "\n",
        "ax.plot(data, norm.pdf(data,loc=4.0, scale=1.0), label='mean=%.1f' % 4.0)\n",
        "ax.plot(data, norm.pdf(data,loc=6.0, scale=2.0), label='mean=%.1f' % 6.0)\n",
        "\n",
        "    \n",
        "ax.set_xlabel('x')\n",
        "ax.set_ylabel('pdf(x)')\n",
        "ax.set_title('Normal Distribution')\n",
        "ax.legend(loc='best', frameon=True)\n",
        "ax.grid(True)"
      ],
      "execution_count": null,
      "outputs": [
        {
          "output_type": "display_data",
          "data": {
            "image/png": "[encoded data removed]",
            "text/plain": [
              "<Figure size 432x288 with 1 Axes>"
            ]
          },
          "metadata": {
            "tags": [],
            "needs_background": "light"
          }
        }
      ]
    },
    {
      "cell_type": "markdown",
      "metadata": {
        "id": "KovglcCa6KWx"
      },
      "source": [
        "Média de altura de uma população normalmente distribuída é 1.60 m, com desvio de 0.4m. Qual a probabilidade de selecionarmos uma pessoa aleatória e essa pessoa ser mais baixa que 1.40m?"
      ]
    },
    {
      "cell_type": "code",
      "metadata": {
        "id": "lx7D9Zcc6KWx",
        "outputId": "713a24c4-ca28-4477-a2cc-b141a69da758"
      },
      "source": [
        "fig, ax = plt.subplots()\n",
        "\n",
        "data = np.linspace(1.0, 2.5, 100)\n",
        "\n",
        "ax.plot(data, norm.pdf(data,loc=1.6, scale=0.2), label='mean=%.1f' % 1.6)\n",
        "    \n",
        "ax.set_xlabel('x')\n",
        "ax.set_ylabel('pdf(x)')\n",
        "ax.set_title('Normal Distribution')\n",
        "ax.legend(loc='best', frameon=True)\n",
        "ax.grid(True)"
      ],
      "execution_count": null,
      "outputs": [
        {
          "output_type": "display_data",
          "data": {
            "image/png": "[encoded data removed]",
            "text/plain": [
              "<Figure size 432x288 with 1 Axes>"
            ]
          },
          "metadata": {
            "tags": [],
            "needs_background": "light"
          }
        }
      ]
    },
    {
      "cell_type": "code",
      "metadata": {
        "id": "Zv2JhL2_6KWy",
        "outputId": "7e850358-a0dd-43bb-b54b-9df9e6e382ca"
      },
      "source": [
        "norm(loc=1.60, scale=0.2).cdf(1.40)"
      ],
      "execution_count": null,
      "outputs": [
        {
          "output_type": "execute_result",
          "data": {
            "text/plain": [
              "0.15865525393145685"
            ]
          },
          "metadata": {
            "tags": []
          },
          "execution_count": 66
        }
      ]
    },
    {
      "cell_type": "markdown",
      "metadata": {
        "id": "KPHe9eNS6KWy"
      },
      "source": [
        "### Intervalo de Confiança"
      ]
    },
    {
      "cell_type": "markdown",
      "metadata": {
        "id": "n7jDsk136KWy"
      },
      "source": [
        "Peso de uma população, vamos criar um intervalo de confiança com nível de confiança 95% para o peso populacional médio.\n",
        "Usar a distribuição t (n<30)"
      ]
    },
    {
      "cell_type": "code",
      "metadata": {
        "id": "GX6DYAHv6KWy"
      },
      "source": [
        "sample = [12, 12, 13, 13, 15, 16, 17, 22, 23, 25, 26, 27, 28, 28, 29]\n",
        "\n",
        "teste_peso_95 = st.t.interval(alpha=0.95, df=len(sample)-1, loc=np.mean(sample), scale=st.sem(sample)) "
      ],
      "execution_count": null,
      "outputs": []
    },
    {
      "cell_type": "code",
      "metadata": {
        "id": "INSvzhpj6KWz",
        "outputId": "c64aa1fb-3119-4f1e-9631-de1ff28c56c1"
      },
      "source": [
        "teste_peso_95"
      ],
      "execution_count": null,
      "outputs": [
        {
          "output_type": "execute_result",
          "data": {
            "text/plain": [
              "(16.75776979778498, 24.042230202215016)"
            ]
          },
          "metadata": {
            "tags": []
          },
          "execution_count": 118
        }
      ]
    },
    {
      "cell_type": "markdown",
      "metadata": {
        "id": "SORmnHji6KWz"
      },
      "source": [
        "Usando nível de confiança de 99%"
      ]
    },
    {
      "cell_type": "code",
      "metadata": {
        "id": "MxaRVYVo6KWz"
      },
      "source": [
        "teste_peso_99 = st.t.interval(alpha=0.99, df=len(sample)-1, loc=np.mean(sample), scale=st.sem(sample)) "
      ],
      "execution_count": null,
      "outputs": []
    },
    {
      "cell_type": "code",
      "metadata": {
        "id": "QRI_WxRP6KW0",
        "outputId": "ef3082c5-6266-447b-dc6d-b28818665d39"
      },
      "source": [
        "teste_peso_99"
      ],
      "execution_count": null,
      "outputs": [
        {
          "output_type": "execute_result",
          "data": {
            "text/plain": [
              "(15.3447902793728, 25.455209720627195)"
            ]
          },
          "metadata": {
            "tags": []
          },
          "execution_count": 120
        }
      ]
    },
    {
      "cell_type": "markdown",
      "metadata": {
        "id": "oZOd3MwY6KW0"
      },
      "source": [
        "Usando teste z para distribuição normal ou quando temos n>=30."
      ]
    },
    {
      "cell_type": "code",
      "metadata": {
        "id": "TQnK9BcR6KW1"
      },
      "source": [
        "np.random.seed(42)\n",
        "sample_data = np.random.randint(10, 30, 50)\n",
        "\n",
        "test_norm_95 = st.norm.interval(alpha=0.95, loc=np.mean(sample_data), scale=st.sem(sample_data))"
      ],
      "execution_count": null,
      "outputs": []
    },
    {
      "cell_type": "code",
      "metadata": {
        "id": "8h9IgQ4i6KW1",
        "outputId": "e733d0f8-3efa-4806-ebe5-30e51fdee6cf"
      },
      "source": [
        "test_norm_95"
      ],
      "execution_count": null,
      "outputs": [
        {
          "output_type": "execute_result",
          "data": {
            "text/plain": [
              "(18.25642372955045, 21.46357627044955)"
            ]
          },
          "metadata": {
            "tags": []
          },
          "execution_count": 126
        }
      ]
    },
    {
      "cell_type": "markdown",
      "metadata": {
        "id": "VLHIGokn6KW2"
      },
      "source": [
        "### Teste de Hipotese"
      ]
    },
    {
      "cell_type": "code",
      "metadata": {
        "id": "d9y1kTRN6KW2",
        "outputId": "976af6d8-575b-4620-d10e-09f8572a35ed"
      },
      "source": [
        "sample_a = np.random.normal(24, 10, 10000)\n",
        "sample_b_1 = np.random.normal(24, 10, 10000)\n",
        "sample_b_2 = np.random.normal(25, 10, 10000)\n",
        "plt.figure(figsize=(20, 10))\n",
        "sns.kdeplot(sample_a, label=\"A\", shade = True, color = '#000000')\n",
        "sns.kdeplot(sample_b_1, label=\"B_1\", shade = True, color = '#B22222')\n",
        "sns.kdeplot(sample_b_2, label=\"B_2\", shade = True, color = '#00008B')\n",
        "plt.legend()"
      ],
      "execution_count": null,
      "outputs": [
        {
          "output_type": "execute_result",
          "data": {
            "text/plain": [
              "<matplotlib.legend.Legend at 0x26ddaba9948>"
            ]
          },
          "metadata": {
            "tags": []
          },
          "execution_count": 69
        },
        {
          "output_type": "display_data",
          "data": {
            "image/png": "[encoded data removed]",
            "text/plain": [
              "<Figure size 1440x720 with 1 Axes>"
            ]
          },
          "metadata": {
            "tags": [],
            "needs_background": "light"
          }
        }
      ]
    },
    {
      "cell_type": "code",
      "metadata": {
        "id": "yFea8I4p6KW2",
        "outputId": "296abf8b-dd20-40fc-c5a8-b271782e24b0"
      },
      "source": [
        "import scipy.stats as stats\n",
        "## H0: A = B\n",
        "## H1: A != B\n",
        "test_1 = stats.ttest_ind(sample_b_1,sample_a, equal_var = True)\n",
        "test_2 = stats.ttest_ind(sample_b_2,sample_a, equal_var = True)\n",
        "print(test_1)\n",
        "print(test_2)"
      ],
      "execution_count": null,
      "outputs": [
        {
          "output_type": "stream",
          "text": [
            "Ttest_indResult(statistic=-0.3082277434306113, pvalue=0.7579122535649712)\n",
            "Ttest_indResult(statistic=7.523314308207183, pvalue=5.566084056398366e-14)\n"
          ],
          "name": "stdout"
        }
      ]
    },
    {
      "cell_type": "code",
      "metadata": {
        "id": "glX_5BYp6KW2"
      },
      "source": [],
      "execution_count": null,
      "outputs": []
    }
  ]
}