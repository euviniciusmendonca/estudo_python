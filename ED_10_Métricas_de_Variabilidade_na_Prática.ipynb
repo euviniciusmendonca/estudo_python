{
  "nbformat": 4,
  "nbformat_minor": 5,
  "metadata": {
    "kernelspec": {
      "display_name": "Python 3",
      "language": "python",
      "name": "python3"
    },
    "language_info": {
      "codemirror_mode": {
        "name": "ipython",
        "version": 3
      },
      "file_extension": ".py",
      "mimetype": "text/x-python",
      "name": "python",
      "nbconvert_exporter": "python",
      "pygments_lexer": "ipython3",
      "version": "3.8.10"
    },
    "colab": {
      "name": "ED 10 - Métricas de Variabilidade na Prática.ipynb",
      "provenance": [],
      "include_colab_link": true
    }
  },
  "cells": [
    {
      "cell_type": "markdown",
      "metadata": {
        "id": "view-in-github",
        "colab_type": "text"
      },
      "source": [
        "<a href=\"https://colab.research.google.com/github/euviniciusmendonca/python/blob/main/ED_10_M%C3%A9tricas_de_Variabilidade_na_Pr%C3%A1tica.ipynb\" target=\"_parent\"><img src=\"https://colab.research.google.com/assets/colab-badge.svg\" alt=\"Open In Colab\"/></a>"
      ]
    },
    {
      "cell_type": "markdown",
      "metadata": {
        "id": "b21e135f-fdd4-42c3-b899-0445e24f021f"
      },
      "source": [
        "# 5 MÉTRICAS DE VARIABBILIDADE"
      ],
      "id": "b21e135f-fdd4-42c3-b899-0445e24f021f"
    },
    {
      "cell_type": "markdown",
      "metadata": {
        "id": "9076b16f-7a13-4d2d-a618-677f9bf55436"
      },
      "source": [
        "## 5.1 AMPLITUDE"
      ],
      "id": "9076b16f-7a13-4d2d-a618-677f9bf55436"
    },
    {
      "cell_type": "code",
      "metadata": {
        "id": "2d026910-c83c-49aa-ae89-9f3081b567a6",
        "outputId": "68f25ba3-81b8-4cf4-847a-ac806128c409"
      },
      "source": [
        "range1 = np.ptp(s1)\n",
        "range1"
      ],
      "id": "2d026910-c83c-49aa-ae89-9f3081b567a6",
      "execution_count": null,
      "outputs": [
        {
          "output_type": "execute_result",
          "data": {
            "text/plain": [
              "8"
            ]
          },
          "metadata": {
            "tags": []
          },
          "execution_count": 21
        }
      ]
    },
    {
      "cell_type": "code",
      "metadata": {
        "id": "cfd7ccce-46d1-446b-bce2-59cd5f65b67c",
        "outputId": "d9bec4d0-8fa2-4386-9a75-03e464ee23dc"
      },
      "source": [
        "range2 = np.ptp(s2)\n",
        "range2"
      ],
      "id": "cfd7ccce-46d1-446b-bce2-59cd5f65b67c",
      "execution_count": null,
      "outputs": [
        {
          "output_type": "execute_result",
          "data": {
            "text/plain": [
              "9"
            ]
          },
          "metadata": {
            "tags": []
          },
          "execution_count": 22
        }
      ]
    },
    {
      "cell_type": "code",
      "metadata": {
        "id": "270843a1-4fbc-4e7d-b7cb-401fad461dd2",
        "outputId": "07d6d23e-927b-406b-8f55-97ea6090a265"
      },
      "source": [
        "range3 = np.ptp(s3)\n",
        "range3"
      ],
      "id": "270843a1-4fbc-4e7d-b7cb-401fad461dd2",
      "execution_count": null,
      "outputs": [
        {
          "output_type": "execute_result",
          "data": {
            "text/plain": [
              "5"
            ]
          },
          "metadata": {
            "tags": []
          },
          "execution_count": 23
        }
      ]
    },
    {
      "cell_type": "markdown",
      "metadata": {
        "id": "3e323ef9-dd25-4e46-bce8-f6fd8effdfc6"
      },
      "source": [
        "## 5.2 VARIÂNCIA"
      ],
      "id": "3e323ef9-dd25-4e46-bce8-f6fd8effdfc6"
    },
    {
      "cell_type": "code",
      "metadata": {
        "id": "0de933cb-8cb1-402c-b14e-a74f868426b7",
        "outputId": "5f3deaa1-738d-4d97-ee15-da4ab3460729"
      },
      "source": [
        "# NumPy calcula por padrão variância populacional. Para amostra, ddof = 1\n",
        "var1 = np.var(s1, ddof = 1)\n",
        "# Converte para np.float64\n",
        "var1 = np.float64(var1)\n",
        "var1\n",
        "\n",
        "# Código alternativo\n",
        "#s1.var(axis = 0)"
      ],
      "id": "0de933cb-8cb1-402c-b14e-a74f868426b7",
      "execution_count": null,
      "outputs": [
        {
          "output_type": "execute_result",
          "data": {
            "text/plain": [
              "5.8"
            ]
          },
          "metadata": {
            "tags": []
          },
          "execution_count": 24
        }
      ]
    },
    {
      "cell_type": "code",
      "metadata": {
        "id": "1be61f46-85ce-4b97-9a4f-48ad7e927654",
        "outputId": "d1c1cd5f-c54c-42bd-b94e-1a11d58ed1cc"
      },
      "source": [
        "var2 = np.var(s2, ddof = 1)\n",
        "# Converte para np.float64\n",
        "var2 = np.float64(var2)\n",
        "var2"
      ],
      "id": "1be61f46-85ce-4b97-9a4f-48ad7e927654",
      "execution_count": null,
      "outputs": [
        {
          "output_type": "execute_result",
          "data": {
            "text/plain": [
              "5.776315789473684"
            ]
          },
          "metadata": {
            "tags": []
          },
          "execution_count": 25
        }
      ]
    },
    {
      "cell_type": "code",
      "metadata": {
        "id": "a5463435-9a1b-4c75-87d1-d305055deace",
        "outputId": "899808fb-9f9a-4b46-8581-394800f86b83"
      },
      "source": [
        "var3 = np.var(s3, ddof = 1)\n",
        "# Converte para np.float64\n",
        "var3 = np.float64(var3)\n",
        "var3"
      ],
      "id": "a5463435-9a1b-4c75-87d1-d305055deace",
      "execution_count": null,
      "outputs": [
        {
          "output_type": "execute_result",
          "data": {
            "text/plain": [
              "1.105263157894737"
            ]
          },
          "metadata": {
            "tags": []
          },
          "execution_count": 26
        }
      ]
    },
    {
      "cell_type": "markdown",
      "metadata": {
        "id": "f1e2a000-0ee3-4a38-b5e4-4d7b07070f53"
      },
      "source": [
        "## 5.3 Desvio Padrão"
      ],
      "id": "f1e2a000-0ee3-4a38-b5e4-4d7b07070f53"
    },
    {
      "cell_type": "code",
      "metadata": {
        "id": "b0b80dce-6039-418d-8a84-988bc870ae7e",
        "outputId": "fd1f1d76-5a8e-4491-bb86-55cc61aa263c"
      },
      "source": [
        "sd1 = np.std(s1, ddof = 1)\n",
        "sd1 = np.float64(sd1)\n",
        "sd1\n",
        "\n",
        "# Código alternatico\n",
        "# s1.std()"
      ],
      "id": "b0b80dce-6039-418d-8a84-988bc870ae7e",
      "execution_count": null,
      "outputs": [
        {
          "output_type": "execute_result",
          "data": {
            "text/plain": [
              "2.4083189157584592"
            ]
          },
          "metadata": {
            "tags": []
          },
          "execution_count": 27
        }
      ]
    },
    {
      "cell_type": "code",
      "metadata": {
        "id": "ddb5b96c-7127-4122-9340-ff22380d612d",
        "outputId": "fb065c22-b5d6-479f-929e-bcc76d2e7b39"
      },
      "source": [
        "sd2 = np.std(s2, ddof = 1)\n",
        "sd2 = np.float64(sd2)\n",
        "sd2"
      ],
      "id": "ddb5b96c-7127-4122-9340-ff22380d612d",
      "execution_count": null,
      "outputs": [
        {
          "output_type": "execute_result",
          "data": {
            "text/plain": [
              "2.403396719119356"
            ]
          },
          "metadata": {
            "tags": []
          },
          "execution_count": 28
        }
      ]
    },
    {
      "cell_type": "code",
      "metadata": {
        "id": "07d5356c-2ed4-4df1-8e98-1a40ec0b7225",
        "outputId": "2a14c9cf-69bd-4c07-8347-ab78209250f5"
      },
      "source": [
        "sd3 = np.std(s3, ddof = 1)\n",
        "sd3 = np.float64(sd3)\n",
        "sd3"
      ],
      "id": "07d5356c-2ed4-4df1-8e98-1a40ec0b7225",
      "execution_count": null,
      "outputs": [
        {
          "output_type": "execute_result",
          "data": {
            "text/plain": [
              "1.0513149660756937"
            ]
          },
          "metadata": {
            "tags": []
          },
          "execution_count": 29
        }
      ]
    }
  ]
}