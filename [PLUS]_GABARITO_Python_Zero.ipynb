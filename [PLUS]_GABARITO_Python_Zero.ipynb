{
  "nbformat": 4,
  "nbformat_minor": 0,
  "metadata": {
    "colab": {
      "name": "[PLUS] GABARITO Python Zero.ipynb",
      "provenance": [],
      "collapsed_sections": [],
      "include_colab_link": true
    },
    "kernelspec": {
      "name": "python3",
      "display_name": "Python 3"
    },
    "language_info": {
      "name": "python"
    }
  },
  "cells": [
    {
      "cell_type": "markdown",
      "metadata": {
        "id": "view-in-github",
        "colab_type": "text"
      },
      "source": [
        "<a href=\"https://colab.research.google.com/github/euviniciusmendonca/estudo_python/blob/main/%5BPLUS%5D_GABARITO_Python_Zero.ipynb\" target=\"_parent\"><img src=\"https://colab.research.google.com/assets/colab-badge.svg\" alt=\"Open In Colab\"/></a>"
      ]
    },
    {
      "cell_type": "markdown",
      "source": [
        "![dnc.png](data:image/png;base64,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)"
      ],
      "metadata": {
        "id": "pbCDY3Tqrw69"
      }
    },
    {
      "cell_type": "markdown",
      "source": [
        "## ATENÇÃO! Crie uma cópia deste colab para uso individual das atividades"
      ],
      "metadata": {
        "id": "DcaIJdWy6SGr"
      }
    },
    {
      "cell_type": "markdown",
      "source": [
        "#Condicionais"
      ],
      "metadata": {
        "id": "OcPfO_Blr05d"
      }
    },
    {
      "cell_type": "markdown",
      "source": [
        "##A- Crie um programa que recebe dois números do usuário. Compare os dois números e mostre na tela qual é maior."
      ],
      "metadata": {
        "id": "GkU5gMYNr2UK"
      }
    },
    {
      "cell_type": "code",
      "source": [
        "a = int(input(\"Digite o primeiro número: \"))\n",
        "b = int(input(\"Digite o segundo número: \"))\n",
        "\n",
        "if a > b:\n",
        "  print(\"O primeiro número é maior.\")\n",
        "elif a < b:\n",
        "  print(\"O segundo número é maior.\")\n",
        "else:\n",
        "  print(\"Os números são iguais.\")"
      ],
      "metadata": {
        "id": "hy4KgjLmr1NA"
      },
      "execution_count": null,
      "outputs": []
    },
    {
      "cell_type": "markdown",
      "source": [
        "##B- Crie um programa o tipo de uma variável digitada pelo usuário, se for um número, mostre na tela: \"É um número\", se for uma letra, mostre na tela: \"É uma letra\"."
      ],
      "metadata": {
        "id": "w5kCqPZ4sSA7"
      }
    },
    {
      "cell_type": "code",
      "source": [
        "a = input(\"Digite alguma coisa: \")\n",
        "\n",
        "if type(a) == 'int':\n",
        "  print(\"É um número\")\n",
        "else:\n",
        "  print(\"É uma letra\")"
      ],
      "metadata": {
        "id": "O2j1U8QGsODr"
      },
      "execution_count": null,
      "outputs": []
    },
    {
      "cell_type": "markdown",
      "source": [
        "##C- Crie um programa que recebe o nome, peso e altura de uma pessoa. Calcule o IMC e imprima o resultado conforme a tabela abaixo:\n",
        "\n",
        "![tabela_imc.jpg](data:image/jpeg;base64,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)\n",
        "\n",
        "(imagem tirada da internet)"
      ],
      "metadata": {
        "id": "9kOMRe7bsvzK"
      }
    },
    {
      "cell_type": "code",
      "source": [
        "nome = input(\"Digite o nome: \")\n",
        "altura = float(input(\"Digite a altura: \"))\n",
        "peso = int(input(\"Digite o peso: \"))\n",
        "\n",
        "imc = peso/(altura**2)\n",
        "\n",
        "if imc < 18.5:\n",
        "  print(\"{} está abaixo do peso normal, seu IMC é: {}\".format(nome, imc))\n",
        "elif imc >= 18.5 and imc <= 24.9:\n",
        "  print(\"{} está com peso normal, seu IMC é: {}\".format(nome, imc))\n",
        "\n",
        "elif imc >= 25.0 and imc <= 29.9:\n",
        "  print(\"{} está com excesso de peso , seu IMC é: {}\".format(nome, imc))\n",
        "\n",
        "elif imc >= 30.0 and imc <= 34.9:\n",
        "  print(\"{} está com oobesidade classe I, seu IMC é: {}\".format(nome, imc))\n",
        "\n",
        "elif imc >= 35.0 and imc <= 39.9:\n",
        "  print(\"{} está com oobesidade classe II, seu IMC é: {}\".format(nome, imc))\n",
        "\n",
        "else:\n",
        "  print(\"{} está com Obesidade classe III, seu IMC é: {}\".format(nome, imc))"
      ],
      "metadata": {
        "id": "Ubtq3T8PstaD"
      },
      "execution_count": null,
      "outputs": []
    },
    {
      "cell_type": "markdown",
      "source": [
        "##D- Crie um programa que recebe o nome de uma pessoa, 3 notas e a taxa de presença. Ela será aprovada se tiver média maior que 6, e presença maior que 75. Imprima se foi aprovado ou não."
      ],
      "metadata": {
        "id": "DlcEq7hgvzSV"
      }
    },
    {
      "cell_type": "code",
      "source": [
        "nome = input(\"Digite o nome: \")\n",
        "nota1 = float(input(\"Digite a primeira nota: \"))\n",
        "nota2 = float(input(\"Digite a segunda nota: \"))\n",
        "nota3 = float(input(\"Digite a terceira nota: \"))\n",
        "presenca = float(input(\"Digite a taxa de presença: \"))\n",
        "\n",
        "media = (nota1+nota2+nota3)/3\n",
        "\n",
        "if media > 6.0 and presenca > 75.0:\n",
        "  print(\"O aluno {} foi aprovado com media: {}\".format(nome, media))\n",
        "\n",
        "elif media > 6.0 and presenca < 75.0:\n",
        "  print(\"O aluno {} não foi aprovado por ter uma taxa de presença baixa.\".format(nome))\n",
        "\n",
        "else:\n",
        "  print(\"O aluno não foi aprovado.\")"
      ],
      "metadata": {
        "id": "NURW--lAueAG"
      },
      "execution_count": null,
      "outputs": []
    },
    {
      "cell_type": "markdown",
      "source": [
        "#Repetições (for, while)"
      ],
      "metadata": {
        "id": "g1dYf9lyxmF0"
      }
    },
    {
      "cell_type": "markdown",
      "source": [
        "##A- Faça um for de 1 a 51 e calcule a soma dos números que forem primos."
      ],
      "metadata": {
        "id": "lEH7b6yXxovG"
      }
    },
    {
      "cell_type": "code",
      "source": [
        "soma = 0\n",
        "for i in range(1, 51):\n",
        "  if (i % 2) > 0:\n",
        "    soma = soma + i\n",
        "\n",
        "print(soma)"
      ],
      "metadata": {
        "id": "HxjQ95ERxpje"
      },
      "execution_count": null,
      "outputs": []
    },
    {
      "cell_type": "markdown",
      "source": [
        "##B- Crie um programa que calcula a tabuada do 7 (1 até 10). "
      ],
      "metadata": {
        "id": "3bD-mLG3x69a"
      }
    },
    {
      "cell_type": "code",
      "source": [
        "for i in range(1, 11):\n",
        "  print(\"{} x 7 = {}\".format(i, i*7))"
      ],
      "metadata": {
        "id": "3R6Xrtrbx2fW"
      },
      "execution_count": null,
      "outputs": []
    },
    {
      "cell_type": "markdown",
      "source": [
        "##C- Crie um programa que recebe um número do usuário, e calcula a tabuada deste número. O programa só encerra quando o usuário digita \"-1\"."
      ],
      "metadata": {
        "id": "XPVBfzORyHSz"
      }
    },
    {
      "cell_type": "code",
      "source": [
        "entrada = 0\n",
        "while entrada != -1:\n",
        "  entrada = int(input('Digite um número: '))\n",
        "\n",
        "  if entrada == -1:\n",
        "    break\n",
        "\n",
        "  else:\n",
        "    print(\"Tabuada: \")\n",
        "    for i in range(1, 11):\n",
        "      \n",
        "      print(\"{} x {} = {}\".format(i, entrada, i*entrada))\n",
        "    print(\"\\n\")\n",
        "    entrada = 0"
      ],
      "metadata": {
        "id": "7_wKiH9xyFh-"
      },
      "execution_count": null,
      "outputs": []
    },
    {
      "cell_type": "markdown",
      "source": [
        "##D- Crie um programa que recebe o nome, altura e peso de 5 pessoas. Calcule o IMC e com base na tabela abaixo, mostre o resultado para cada uma delas.\n",
        "\n",
        "![tabela_imc.jpg](data:image/jpeg;base64,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)\n",
        "\n",
        "(imagem tirada da internet)"
      ],
      "metadata": {
        "id": "elyizOXB0EUq"
      }
    },
    {
      "cell_type": "code",
      "source": [
        "for i in range(3):  \n",
        "  nome = input(\"Digite o nome: \")\n",
        "  altura = float(input(\"Digite a altura: \"))\n",
        "  peso = int(input(\"Digite o peso: \"))\n",
        "\n",
        "  imc = peso/(altura**2)\n",
        "\n",
        "  if imc < 18.5:\n",
        "    print(\"{} está abaixo do peso normal, seu IMC é: {}\".format(nome, imc))\n",
        "  elif imc >= 18.5 and imc <= 24.9:\n",
        "    print(\"{} está com peso normal, seu IMC é: {}\".format(nome, imc))\n",
        "\n",
        "  elif imc >= 25.0 and imc <= 29.9:\n",
        "    print(\"{} está com excesso de peso , seu IMC é: {}\".format(nome, imc))\n",
        "\n",
        "  elif imc >= 30.0 and imc <= 34.9:\n",
        "    print(\"{} está com oobesidade classe I, seu IMC é: {}\".format(nome, imc))\n",
        "\n",
        "  elif imc >= 35.0 and imc <= 39.9:\n",
        "    print(\"{} está com oobesidade classe II, seu IMC é: {}\".format(nome, imc))\n",
        "\n",
        "  else:\n",
        "    print(\"{} está com Obesidade classe III, seu IMC é: {}\".format(nome, imc))"
      ],
      "metadata": {
        "id": "g5-sxZxXyku9"
      },
      "execution_count": null,
      "outputs": []
    },
    {
      "cell_type": "markdown",
      "source": [
        "#Tuplas"
      ],
      "metadata": {
        "id": "0OW6SaNa0kqt"
      }
    },
    {
      "cell_type": "markdown",
      "source": [
        "##A- Calcule o tamanho da tupla abaixo:\n",
        "\n",
        "(1, 'a', 2, 'b', 3, 7, 'z')"
      ],
      "metadata": {
        "id": "fJS_bsdc0okj"
      }
    },
    {
      "cell_type": "code",
      "source": [
        "tupla = (1, 'a', 2, 'b', 3, 7, 'z')\n",
        "print(len(tupla))"
      ],
      "metadata": {
        "id": "Ejw_JyrP0Mn6"
      },
      "execution_count": null,
      "outputs": []
    },
    {
      "cell_type": "markdown",
      "source": [
        "##B- Use a mesma tupla do exercício anterior, e tente mudar o primeiro e ultimo registro por 'DNC'. "
      ],
      "metadata": {
        "id": "jMqz1GgI0vpR"
      }
    },
    {
      "cell_type": "code",
      "source": [
        "tupla[0] = 'DNC'"
      ],
      "metadata": {
        "id": "Hjw7SGf50ton"
      },
      "execution_count": null,
      "outputs": []
    },
    {
      "cell_type": "markdown",
      "source": [
        "##C- Crie uma programa que armazena 5 valores que o usuário digitar, em uma tupla"
      ],
      "metadata": {
        "id": "ZPN_QEJo03eF"
      }
    },
    {
      "cell_type": "code",
      "source": [
        "tupla = ()\n",
        "\n",
        "for i in range(5):\n",
        "  x = int(input(\"Digite um valor: \"))\n",
        "  tupla = tupla + (x, )\n",
        "\n",
        "print(tupla)"
      ],
      "metadata": {
        "id": "Gpaco7_m00Z7"
      },
      "execution_count": null,
      "outputs": []
    },
    {
      "cell_type": "markdown",
      "source": [
        "##D- Exclua todos os elementos da Tupla que não são números.\n",
        "\n",
        "(1, 'a', 2, 'b', 3, 7, 'z')"
      ],
      "metadata": {
        "id": "lOcUBFt9_D_3"
      }
    },
    {
      "cell_type": "code",
      "source": [
        "tupla = (1, 'a', 2, 'b', 3, 7, 'z')\n",
        "tupla_lista = list(tupla)\n",
        "\n",
        "tupla_lista.pop(1)\n",
        "tupla_lista.pop(2)\n",
        "tupla_lista.pop(4)\n",
        "\n",
        "nova_tupla = tuple(tupla_lista)\n",
        "\n",
        "print(nova_tupla)"
      ],
      "metadata": {
        "id": "OTjvN_hy9b2s"
      },
      "execution_count": null,
      "outputs": []
    },
    {
      "cell_type": "markdown",
      "source": [
        "##E- Usando a tupla abaixo, conte a quantidade de números \"1\", contidos na tupla.\n",
        "\n",
        "(0, 1, 0, 0, 0, 1, 0, 0, 0, 1, 1, 0, 0, 0, 0, 1, 0, 1, 1,1, 0,1,0,0, 0,1,1,0,0,0,0,1 ,0,0,1,0,0,0,0,0, 0,1,0,1,0,0,1,1, 0,1,1,0,0,0,1,1, 0,1,1,0,1,0,0,1 ,0,1,1,0,0,1,0,1, 0,1,1,0,1,1,1,0, 0,1,1,1,0,1,0,0, 0,1,1,0,1,0,0,1, 0,1,1,1,0,0,1,1, 0,1,1,1,0,1,0,0)"
      ],
      "metadata": {
        "id": "Qh_XH-U4Bvjx"
      }
    },
    {
      "cell_type": "code",
      "source": [
        "tupla = (0, 1, 0, 0, 0, 1, 0, 0, 0, 1, 1, 0, 0, 0, 0, 1, 0, 1, 1,1, 0,1,0,0, 0,1,1,0,0,0,0,1 ,0,0,1,0,0,0,0,0, 0,\n",
        "1,0,1,0,0,1,1, 0,1,1,0,0,0,1,1, 0,1,1,0,1,0,0,1 ,0,1,1,0,0,1,0,1, 0,1,1,0,1,1,1,0, 0,1,1,1,0,1,0,0, 0,1,1,0,1,0,0,1, 0,1,1,1,0,0,1,1, 0,1,1,1,0,1,0,0)\n",
        "\n",
        "print(tupla.count(1))"
      ],
      "metadata": {
        "id": "KrMF05zTA072"
      },
      "execution_count": null,
      "outputs": []
    },
    {
      "cell_type": "markdown",
      "source": [
        "#Listas Simples"
      ],
      "metadata": {
        "id": "zOCx8x-iB4Ne"
      }
    },
    {
      "cell_type": "markdown",
      "source": [
        "##A- Faça um for de 1 a 101, e adicione valores apenas valores pares em uma lista. "
      ],
      "metadata": {
        "id": "WlYSxO7eB41U"
      }
    },
    {
      "cell_type": "code",
      "source": [
        "lista = []\n",
        "for i in range(1, 101):\n",
        "  if (i % 2) == 0:\n",
        "    lista.append(i)\n",
        "\n",
        "print(lista)"
      ],
      "metadata": {
        "id": "CKJnGHc_B08J"
      },
      "execution_count": null,
      "outputs": []
    },
    {
      "cell_type": "markdown",
      "source": [
        "##B- Conte o tamanho da lista"
      ],
      "metadata": {
        "id": "ELY8vQVKE61J"
      }
    },
    {
      "cell_type": "code",
      "source": [
        "print(len(lista))"
      ],
      "metadata": {
        "id": "o-1HDLqyCGOg"
      },
      "execution_count": null,
      "outputs": []
    },
    {
      "cell_type": "markdown",
      "source": [
        "##C- Calcule a soma e a média da lista."
      ],
      "metadata": {
        "id": "YbT0QdCQE9Sn"
      }
    },
    {
      "cell_type": "code",
      "source": [
        "print(\"Soma: \", sum(lista))\n",
        "print(\"Média: \", sum(lista)/len(lista))"
      ],
      "metadata": {
        "id": "ScDiya5EE_ed"
      },
      "execution_count": null,
      "outputs": []
    },
    {
      "cell_type": "markdown",
      "source": [
        "##D- Usando a lista abaixo, mostre o maior e o menor valor dela.\n",
        "\n",
        "[3, 1, 6, -4, 5, 89, 100, 7, 13, -100]"
      ],
      "metadata": {
        "id": "VRnEYwk6FABH"
      }
    },
    {
      "cell_type": "code",
      "source": [
        "lista = [3, 1, 6, -4, 5, 89, 100, 7, 13, -100]\n",
        "print(\"Max: \", max(lista))\n",
        "print(\"Min: \", min(lista))"
      ],
      "metadata": {
        "id": "9k845bSfFCf7"
      },
      "execution_count": null,
      "outputs": []
    },
    {
      "cell_type": "markdown",
      "source": [
        "##E- Crie uma lista com 10 números aleatórios (a sua escolha), e substitua o primeiro e o ultimo valor por \"DNC\"."
      ],
      "metadata": {
        "id": "x7nm6PwFFEBv"
      }
    },
    {
      "cell_type": "code",
      "source": [
        "lista = [3, 1, 6, -4, 5, 89, 100, 7, 13, -100]\n",
        "lista[0] = 'DNC'\n",
        "lista[-1] = 'DNC'\n",
        "print(lista)"
      ],
      "metadata": {
        "id": "w50b4PV4FEXr",
        "colab": {
          "base_uri": "https://localhost:8080/"
        },
        "outputId": "9a247727-3d34-44b7-95bb-1439717cd5b7"
      },
      "execution_count": null,
      "outputs": [
        {
          "output_type": "stream",
          "name": "stdout",
          "text": [
            "['DNC', 1, 6, -4, 5, 89, 100, 7, 13, 'DNC']\n"
          ]
        }
      ]
    },
    {
      "cell_type": "markdown",
      "source": [
        "##F- Use a mesma lista criada no exercício anterior, e printe o tipo de cada posição dela."
      ],
      "metadata": {
        "id": "KAREjSrEFF0W"
      }
    },
    {
      "cell_type": "code",
      "source": [
        "for i in range(len(lista)):\n",
        "  print(type(lista[i]))"
      ],
      "metadata": {
        "id": "UEC_I9c-FHro"
      },
      "execution_count": null,
      "outputs": []
    },
    {
      "cell_type": "markdown",
      "source": [
        "##G- Receba 10 valores do usuário, adicione cada um em uma lista e mostre na tela o maior."
      ],
      "metadata": {
        "id": "w5qJMWzWFIKO"
      }
    },
    {
      "cell_type": "code",
      "source": [
        "lista = []\n",
        "for i in range(10):\n",
        "  x = int(input(\"Digite um número: \"))\n",
        "  lista.append(x)\n",
        "\n",
        "print(max(lista))"
      ],
      "metadata": {
        "id": "-hybHlT7FKR2"
      },
      "execution_count": null,
      "outputs": []
    },
    {
      "cell_type": "markdown",
      "source": [
        "##H- Exclua da lista abaixo, todas os elementos que não forem números. Depois, mostre a lista na tela. \n",
        "\n",
        "[1, 'a', 2, 'b', 3, 7, 'z']"
      ],
      "metadata": {
        "id": "vYCPNzWqFIC9"
      }
    },
    {
      "cell_type": "code",
      "source": [
        "lista = [1, 'a', 2, 'b', 3, 7, 'z']\n",
        "\n",
        "for i in range(len(lista)-2):\n",
        "  if type(lista[i]) == str:\n",
        "    lista.pop(i)\n",
        "\n",
        "print(lista)"
      ],
      "metadata": {
        "id": "T2wsL9QdFL6o"
      },
      "execution_count": null,
      "outputs": []
    },
    {
      "cell_type": "markdown",
      "source": [
        "#Listas Compostas"
      ],
      "metadata": {
        "id": "PfQK2v4eKqk4"
      }
    },
    {
      "cell_type": "markdown",
      "source": [
        "##A- Calcule a soma dos valores da diagonal principal da lista composta abaixo.\n",
        "\n",
        "[[1, 0, 0, 0],\n",
        " [0, 1, 0, 0],\n",
        " [0, 0, 1, 0],\n",
        " [0, 0, 0, 1]]"
      ],
      "metadata": {
        "id": "xZ6pxChJKulO"
      }
    },
    {
      "cell_type": "code",
      "source": [
        "lista = [[1, 0, 0, 0],\n",
        " [0, 1, 0, 0],\n",
        " [0, 0, 1, 0],\n",
        " [0, 0, 0, 1]]\n",
        "\n",
        "\n",
        "soma = 0\n",
        "for i in range(4):\n",
        "  for j in range(4):\n",
        "    if i == j:\n",
        "      soma = soma + lista[i][j] \n",
        "\n",
        "print(soma)"
      ],
      "metadata": {
        "id": "hmt1WRE8J4h-"
      },
      "execution_count": null,
      "outputs": []
    },
    {
      "cell_type": "markdown",
      "source": [
        "##B- Substitua os zeros na lista composta do exercício anterior, pelo número dois. "
      ],
      "metadata": {
        "id": "CTGIOoNKLUKw"
      }
    },
    {
      "cell_type": "code",
      "source": [
        "for i in range(4):\n",
        "  for j in range(4):\n",
        "    if lista[i][j] == 0:\n",
        "      lista[i][j] = 2\n",
        "\n",
        "print(lista)"
      ],
      "metadata": {
        "id": "DCUvwC-3K4ZA"
      },
      "execution_count": null,
      "outputs": []
    },
    {
      "cell_type": "markdown",
      "source": [
        "##C- Ordene cada lista ou \"linha\" dentro da lista composta abaixo:\n",
        "\n",
        "[[1, 4, 0, 2, 8],\n",
        " [0, 9, -6, 3, 13],\n",
        " [10, 5, 1, 5, 3.2],\n",
        " [-1, 0, 7, -0.4, 9]]"
      ],
      "metadata": {
        "id": "ysOxMnTSLi_J"
      }
    },
    {
      "cell_type": "code",
      "source": [
        "lista = [[1, 4, 0, 2, 8],\n",
        " [0, 9, -6, 3, 13],\n",
        " [10, 5, 1, 5, 3.2],\n",
        " [-1, 0, 7, -0.4, 9]]\n",
        "\n",
        "nova = []\n",
        "\n",
        "for i in range(4):\n",
        "  nova.append(sorted(lista[i]))\n",
        "\n",
        "print(nova)"
      ],
      "metadata": {
        "id": "JZgHyTY4Lhw5"
      },
      "execution_count": null,
      "outputs": []
    },
    {
      "cell_type": "markdown",
      "source": [
        "##D- Mostre o maior e o menor valor da lista composta do exercício anterior."
      ],
      "metadata": {
        "id": "fTzwdCaJL9R2"
      }
    },
    {
      "cell_type": "code",
      "source": [
        "lista_max = []\n",
        "\n",
        "for i in range(4):\n",
        "  lista_max.append(max(lista[i]))\n",
        "\n",
        "print(max(lista_max))"
      ],
      "metadata": {
        "id": "qFb2BruLL1lC"
      },
      "execution_count": null,
      "outputs": []
    },
    {
      "cell_type": "markdown",
      "source": [
        "##E- Use a mesma lista composta e troque os valores que forem menor que zero, pela palavra \"DNC\"."
      ],
      "metadata": {
        "id": "0HiEgYueMYoC"
      }
    },
    {
      "cell_type": "code",
      "source": [
        "for i in range(4):\n",
        "  for j in range(5):\n",
        "    if lista[i][j] < 0:\n",
        "      lista[i][j] = 'DNC'\n",
        "    \n",
        "print(lista)"
      ],
      "metadata": {
        "id": "l8TwrGE9MFVV"
      },
      "execution_count": null,
      "outputs": []
    },
    {
      "cell_type": "markdown",
      "source": [
        "#Dicionários"
      ],
      "metadata": {
        "id": "CJuTH2kjMxY5"
      }
    },
    {
      "cell_type": "markdown",
      "source": [
        "##A- Crie um programa que recebe do usuário, nome, cidade e o nome do curso. Armaze em um dicionário os valores e suas respectivas chaves."
      ],
      "metadata": {
        "id": "If1JUH9YMxL_"
      }
    },
    {
      "cell_type": "code",
      "source": [
        "nome = input(\"Digite o nome: \")\n",
        "cidade = input(\"Digite a cidade: \")\n",
        "curso = input(\"Digite o curso: \")\n",
        "\n",
        "dicionario = {'Nome: ': nome, 'Cidade': cidade, 'Curso':curso}\n",
        "print(dicionario)"
      ],
      "metadata": {
        "id": "LsoROIAEMoNt"
      },
      "execution_count": null,
      "outputs": []
    },
    {
      "cell_type": "markdown",
      "source": [
        "##B- Crie um programa que recebe do usuário, marca, sabor e preço de 5 refrigerantes, guarde em um dicionário, armazene cada dicionário em uma posição de uma lista."
      ],
      "metadata": {
        "id": "wa3G-eSpNQSP"
      }
    },
    {
      "cell_type": "code",
      "source": [
        "lista = []\n",
        "for i in range(5):\n",
        "  marca = input(\"Digite a marca: \")\n",
        "  sabor = input(\"Digite o sabor: \")\n",
        "  preco = float(input(\"Digite o preço: \"))\n",
        "\n",
        "  dici = {'Marca': marca, 'Sabor':sabor, 'Preço':preco}\n",
        "  lista.append(dici)\n",
        "\n",
        "print(lista)"
      ],
      "metadata": {
        "id": "3Kewg_fuNNtY"
      },
      "execution_count": null,
      "outputs": []
    },
    {
      "cell_type": "markdown",
      "source": [
        "##C- Usando a lista de dicionários do exercício anterior, mostre na tela apenas os preços dos refrigerantes."
      ],
      "metadata": {
        "id": "jsU0CyWIOB1y"
      }
    },
    {
      "cell_type": "code",
      "source": [
        "print(\"Preços: \")\n",
        "for i in range(len(lista)):\n",
        "  print(f\"R$ {lista[i]['Preço']}\")\n",
        "\n"
      ],
      "metadata": {
        "id": "wFycObMoN3k-"
      },
      "execution_count": null,
      "outputs": []
    },
    {
      "cell_type": "markdown",
      "source": [
        "##D- Calcule a média de preços dos refrigerantes."
      ],
      "metadata": {
        "id": "a8OrRmlwOcps"
      }
    },
    {
      "cell_type": "code",
      "source": [
        "media = []\n",
        "\n",
        "for i in range(len(lista)):\n",
        "  media.append(lista[i]['Preço'])\n",
        "\n",
        "print(\"Media de preços: \", sum(media)/len(media))"
      ],
      "metadata": {
        "id": "AeOyepKQOITG"
      },
      "execution_count": null,
      "outputs": []
    },
    {
      "cell_type": "markdown",
      "source": [
        "##E- Mostre na tela o menor preço e o seu respectivo sabor."
      ],
      "metadata": {
        "id": "VOO8ypJIO3R6"
      }
    },
    {
      "cell_type": "code",
      "source": [
        "next((item for item in lista if item[\"Preço\"] == min(media)), None)"
      ],
      "metadata": {
        "id": "w6Jr686JPJ45"
      },
      "execution_count": null,
      "outputs": []
    }
  ]
}