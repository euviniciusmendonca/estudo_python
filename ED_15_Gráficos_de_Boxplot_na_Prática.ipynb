{
  "nbformat": 4,
  "nbformat_minor": 5,
  "metadata": {
    "kernelspec": {
      "display_name": "Python 3",
      "language": "python",
      "name": "python3"
    },
    "language_info": {
      "codemirror_mode": {
        "name": "ipython",
        "version": 3
      },
      "file_extension": ".py",
      "mimetype": "text/x-python",
      "name": "python",
      "nbconvert_exporter": "python",
      "pygments_lexer": "ipython3",
      "version": "3.8.10"
    },
    "colab": {
      "name": "ED 15 - Gráficos de Boxplot na Prática.ipynb",
      "provenance": [],
      "include_colab_link": true
    }
  },
  "cells": [
    {
      "cell_type": "markdown",
      "metadata": {
        "id": "view-in-github",
        "colab_type": "text"
      },
      "source": [
        "<a href=\"https://colab.research.google.com/github/euviniciusmendonca/python/blob/main/ED_15_Gr%C3%A1ficos_de_Boxplot_na_Pr%C3%A1tica.ipynb\" target=\"_parent\"><img src=\"https://colab.research.google.com/assets/colab-badge.svg\" alt=\"Open In Colab\"/></a>"
      ]
    },
    {
      "cell_type": "markdown",
      "metadata": {
        "id": "f8512c79-13ce-4eb9-9f50-73be4ef15b26"
      },
      "source": [
        "# 7 GRÁFICO BOX-PLOT"
      ],
      "id": "f8512c79-13ce-4eb9-9f50-73be4ef15b26"
    },
    {
      "cell_type": "markdown",
      "metadata": {
        "id": "aff7fa50-ad2a-4420-ac19-04eba918abb4"
      },
      "source": [
        "## 7.1 Gráfico único"
      ],
      "id": "aff7fa50-ad2a-4420-ac19-04eba918abb4"
    },
    {
      "cell_type": "code",
      "metadata": {
        "id": "344c3492-9a5a-495e-8f64-6f0842c54940",
        "outputId": "7a80529b-498d-4e12-8fe5-61ed2a7f104c",
        "colab": {
          "base_uri": "https://localhost:8080/",
          "height": 165
        }
      },
      "source": [
        "plt.close('all')"
      ],
      "id": "344c3492-9a5a-495e-8f64-6f0842c54940",
      "execution_count": null,
      "outputs": [
        {
          "output_type": "error",
          "ename": "NameError",
          "evalue": "ignored",
          "traceback": [
            "\u001b[0;31m---------------------------------------------------------------------------\u001b[0m",
            "\u001b[0;31mNameError\u001b[0m                                 Traceback (most recent call last)",
            "\u001b[0;32m<ipython-input-1-19331ffd4e3d>\u001b[0m in \u001b[0;36m<module>\u001b[0;34m()\u001b[0m\n\u001b[0;32m----> 1\u001b[0;31m \u001b[0mplt\u001b[0m\u001b[0;34m.\u001b[0m\u001b[0mclose\u001b[0m\u001b[0;34m(\u001b[0m\u001b[0;34m'all'\u001b[0m\u001b[0;34m)\u001b[0m\u001b[0;34m\u001b[0m\u001b[0;34m\u001b[0m\u001b[0m\n\u001b[0m",
            "\u001b[0;31mNameError\u001b[0m: name 'plt' is not defined"
          ]
        }
      ]
    },
    {
      "cell_type": "code",
      "metadata": {
        "id": "5ed802b9-6e86-46a7-a4f5-b055e0648b57",
        "colab": {
          "referenced_widgets": [
            "272f8d105f3748a2a0dac9a6fa81010e"
          ]
        },
        "outputId": "e67fa734-897b-4d72-fa8e-b0cbb1c24b53"
      },
      "source": [
        "fig = plt.figure()\n",
        "plt.boxplot(s2, showmeans = True)\n",
        "plt.ylabel('Valores')\n",
        "\n",
        "# Remove o valor do eixo x\n",
        "plt.xticks([1], [''])\n",
        "\n",
        "# Remove o tick do eixo x\n",
        "plt.tick_params(axis = \"x\", which = \"both\", bottom = False, top = False)\n",
        "\n",
        "plt.title('Gráfico Box-Plot da Variável s2', loc = 'left')"
      ],
      "id": "5ed802b9-6e86-46a7-a4f5-b055e0648b57",
      "execution_count": null,
      "outputs": [
        {
          "output_type": "display_data",
          "data": {
            "application/vnd.jupyter.widget-view+json": {
              "model_id": "272f8d105f3748a2a0dac9a6fa81010e",
              "version_major": 2,
              "version_minor": 0
            },
            "text/plain": [
              "Canvas(toolbar=Toolbar(toolitems=[('Home', 'Reset original view', 'home', 'home'), ('Back', 'Back to previous …"
            ]
          },
          "metadata": {
            "tags": []
          }
        },
        {
          "output_type": "execute_result",
          "data": {
            "text/plain": [
              "Text(0.0, 1.0, 'Gráfico Box-Plot da Variável s2')"
            ]
          },
          "metadata": {
            "tags": []
          },
          "execution_count": 55
        }
      ]
    },
    {
      "cell_type": "markdown",
      "metadata": {
        "id": "e0b9fb47-96a3-4062-9957-8b793337230e"
      },
      "source": [
        "## 7.2 Múltiplas variáveis em um gráfico"
      ],
      "id": "e0b9fb47-96a3-4062-9957-8b793337230e"
    },
    {
      "cell_type": "code",
      "metadata": {
        "id": "b468936e-4b3f-49f3-a0e8-7bb1478a31d9",
        "colab": {
          "referenced_widgets": [
            "5b92ace5231948d199fda37e7b770de5"
          ]
        },
        "outputId": "5f2b60ca-a10e-46a7-a147-a957d811148d"
      },
      "source": [
        "fig = plt.figure()\n",
        "plt.boxplot([s1, s2, s3], showmeans = True)\n",
        "plt.xticks([1, 2, 3], ['s1', 's2', 's3'])\n",
        "plt.ylabel('Valores')\n",
        "plt.title('Gráfico Box-plot', loc = 'left')"
      ],
      "id": "b468936e-4b3f-49f3-a0e8-7bb1478a31d9",
      "execution_count": null,
      "outputs": [
        {
          "output_type": "display_data",
          "data": {
            "application/vnd.jupyter.widget-view+json": {
              "model_id": "5b92ace5231948d199fda37e7b770de5",
              "version_major": 2,
              "version_minor": 0
            },
            "text/plain": [
              "Canvas(toolbar=Toolbar(toolitems=[('Home', 'Reset original view', 'home', 'home'), ('Back', 'Back to previous …"
            ]
          },
          "metadata": {
            "tags": []
          }
        },
        {
          "output_type": "execute_result",
          "data": {
            "text/plain": [
              "Text(0.0, 1.0, 'Gráfico Box-plot')"
            ]
          },
          "metadata": {
            "tags": []
          },
          "execution_count": 56
        }
      ]
    }
  ]
}