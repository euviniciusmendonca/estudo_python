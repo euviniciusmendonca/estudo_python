{
  "nbformat": 4,
  "nbformat_minor": 5,
  "metadata": {
    "kernelspec": {
      "display_name": "Python 3",
      "language": "python",
      "name": "python3"
    },
    "language_info": {
      "codemirror_mode": {
        "name": "ipython",
        "version": 3
      },
      "file_extension": ".py",
      "mimetype": "text/x-python",
      "name": "python",
      "nbconvert_exporter": "python",
      "pygments_lexer": "ipython3",
      "version": "3.8.10"
    },
    "colab": {
      "name": "ED 08 - Métricas de Centralização na Prática.ipynb",
      "provenance": [],
      "include_colab_link": true
    }
  },
  "cells": [
    {
      "cell_type": "markdown",
      "metadata": {
        "id": "view-in-github",
        "colab_type": "text"
      },
      "source": [
        "<a href=\"https://colab.research.google.com/github/euviniciusmendonca/python/blob/main/ED_08_M%C3%A9tricas_de_Centraliza%C3%A7%C3%A3o_na_Pr%C3%A1tica.ipynb\" target=\"_parent\"><img src=\"https://colab.research.google.com/assets/colab-badge.svg\" alt=\"Open In Colab\"/></a>"
      ]
    },
    {
      "cell_type": "markdown",
      "metadata": {
        "id": "3e62324a-36a8-405f-94a1-78d25362fdd7"
      },
      "source": [
        "# EXEMPLOS DE ESTATÍSTIVA BÁSICA"
      ],
      "id": "3e62324a-36a8-405f-94a1-78d25362fdd7"
    },
    {
      "cell_type": "markdown",
      "metadata": {
        "id": "b85bba32-3e0c-4647-9394-59d6dccad66b"
      },
      "source": [
        "# 4 MEDIDAS DE CENTRALIZAÇÃO"
      ],
      "id": "b85bba32-3e0c-4647-9394-59d6dccad66b"
    },
    {
      "cell_type": "markdown",
      "metadata": {
        "id": "4eae0df2-8ab5-4d8b-a65f-ffb7eebf6735"
      },
      "source": [
        "## 4.1 Moda"
      ],
      "id": "4eae0df2-8ab5-4d8b-a65f-ffb7eebf6735"
    },
    {
      "cell_type": "code",
      "metadata": {
        "id": "d099e62a-2a6d-462c-8c65-6c0db34d5f5b",
        "outputId": "ed7cda9f-f1b0-46db-ee56-7f8e288c64b1"
      },
      "source": [
        "moda1, count1 = stats.mode(s1)\n",
        "# Converte o objeto para np.float64\n",
        "moda1 = np.float64(moda1[0])\n",
        "moda1\n",
        "\n",
        "# Código alternativo\n",
        "# s1.mode()"
      ],
      "id": "d099e62a-2a6d-462c-8c65-6c0db34d5f5b",
      "execution_count": null,
      "outputs": [
        {
          "output_type": "execute_result",
          "data": {
            "text/plain": [
              "3.0"
            ]
          },
          "metadata": {
            "tags": []
          },
          "execution_count": 8
        }
      ]
    },
    {
      "cell_type": "code",
      "metadata": {
        "id": "e081a200-3067-4dda-8584-99b42b07e971",
        "outputId": "a475eaf0-46d4-48be-afa9-ca55a743cfc6"
      },
      "source": [
        "moda2, count2 = stats.mode(s2)\n",
        "# Converte o objeto para np.float64\n",
        "moda2 = np.float64(moda2[0])\n",
        "moda2"
      ],
      "id": "e081a200-3067-4dda-8584-99b42b07e971",
      "execution_count": null,
      "outputs": [
        {
          "output_type": "execute_result",
          "data": {
            "text/plain": [
              "4.0"
            ]
          },
          "metadata": {
            "tags": []
          },
          "execution_count": 9
        }
      ]
    },
    {
      "cell_type": "code",
      "metadata": {
        "id": "03117aea-b307-4eab-8dff-943747d04260",
        "outputId": "03a98a4e-d1ca-4c05-c5ca-3882834907c6"
      },
      "source": [
        "moda3, count3 = stats.mode(s3)\n",
        "# Converte o objeto para np.float64\n",
        "moda3 = np.float64(moda3[0])\n",
        "moda3"
      ],
      "id": "03117aea-b307-4eab-8dff-943747d04260",
      "execution_count": null,
      "outputs": [
        {
          "output_type": "execute_result",
          "data": {
            "text/plain": [
              "8.0"
            ]
          },
          "metadata": {
            "tags": []
          },
          "execution_count": 10
        }
      ]
    },
    {
      "cell_type": "markdown",
      "metadata": {
        "id": "45b64064-f81d-47df-8963-8544267dadef"
      },
      "source": [
        "# 4.2 Mediana"
      ],
      "id": "45b64064-f81d-47df-8963-8544267dadef"
    },
    {
      "cell_type": "code",
      "metadata": {
        "id": "2397e41c-3f95-42cc-bf0a-1459c03e7962",
        "outputId": "5f2558ce-7488-4335-fef2-6c90e747dee0"
      },
      "source": [
        "# A mediana já é retornada como np.float64\n",
        "mediana1 = np.median(s1)\n",
        "mediana1\n",
        "\n",
        "# Código alternativo\n",
        "# s2.median()"
      ],
      "id": "2397e41c-3f95-42cc-bf0a-1459c03e7962",
      "execution_count": null,
      "outputs": [
        {
          "output_type": "execute_result",
          "data": {
            "text/plain": [
              "4.5"
            ]
          },
          "metadata": {
            "tags": []
          },
          "execution_count": 11
        }
      ]
    },
    {
      "cell_type": "code",
      "metadata": {
        "id": "d538dc00-a7d1-4d1b-834b-5564a3cc0f60",
        "outputId": "9d4cfc78-60da-408b-81d7-7082dfb60fe3"
      },
      "source": [
        "# A mediana já é retornada como np.float64\n",
        "mediana2 = np.median(s2)\n",
        "mediana2"
      ],
      "id": "d538dc00-a7d1-4d1b-834b-5564a3cc0f60",
      "execution_count": null,
      "outputs": [
        {
          "output_type": "execute_result",
          "data": {
            "text/plain": [
              "4.5"
            ]
          },
          "metadata": {
            "tags": []
          },
          "execution_count": 12
        }
      ]
    },
    {
      "cell_type": "code",
      "metadata": {
        "id": "d40ce5f5-211d-4f3a-a991-b5d49bdcc630",
        "outputId": "9d0eb46d-632f-41bd-e18a-80d55273d9c3"
      },
      "source": [
        "# A mediana já é retornada como np.float64\n",
        "mediana3 = np.median(s3)\n",
        "mediana3"
      ],
      "id": "d40ce5f5-211d-4f3a-a991-b5d49bdcc630",
      "execution_count": null,
      "outputs": [
        {
          "output_type": "execute_result",
          "data": {
            "text/plain": [
              "8.0"
            ]
          },
          "metadata": {
            "tags": []
          },
          "execution_count": 13
        }
      ]
    },
    {
      "cell_type": "markdown",
      "metadata": {
        "id": "bd7319b3-9e49-4263-9a14-cbec9c6aefff"
      },
      "source": [
        "# 4.3 Média"
      ],
      "id": "bd7319b3-9e49-4263-9a14-cbec9c6aefff"
    },
    {
      "cell_type": "code",
      "metadata": {
        "id": "fcae8ac2-083f-44bc-ade2-674949675eda",
        "outputId": "7fd082fb-3f93-42a5-c6dc-1c05f6e1bf79"
      },
      "source": [
        "media1 = np.mean(s1)\n",
        "# Converte o objeto para np.float64\n",
        "media1 = np.float64(media1)\n",
        "media1\n",
        "\n",
        "# Código alternativo\n",
        "# s1.mean(axis = 0)"
      ],
      "id": "fcae8ac2-083f-44bc-ade2-674949675eda",
      "execution_count": null,
      "outputs": [
        {
          "output_type": "execute_result",
          "data": {
            "text/plain": [
              "4.7"
            ]
          },
          "metadata": {
            "tags": []
          },
          "execution_count": 14
        }
      ]
    },
    {
      "cell_type": "code",
      "metadata": {
        "id": "cdb21757-ed08-46f2-9b53-35026c780f22",
        "outputId": "a128d448-93fc-4158-eb13-c947c92daf28"
      },
      "source": [
        "media2 = np.mean(s2)\n",
        "# Converte o objeto para np.float64\n",
        "media2 = np.float64(media2)\n",
        "media2\n",
        "\n",
        "# Código alternativo\n",
        "# s2.mean(axis = 0)"
      ],
      "id": "cdb21757-ed08-46f2-9b53-35026c780f22",
      "execution_count": null,
      "outputs": [
        {
          "output_type": "execute_result",
          "data": {
            "text/plain": [
              "5.25"
            ]
          },
          "metadata": {
            "tags": []
          },
          "execution_count": 15
        }
      ]
    },
    {
      "cell_type": "code",
      "metadata": {
        "id": "65902e5a-e0bd-4697-9d35-1c4f0b2a484a",
        "outputId": "41898490-4842-4b7d-ec9c-9311174ac8b4"
      },
      "source": [
        "media3 = np.mean(s3)\n",
        "# Converte o objeto para np.float64\n",
        "media3 = np.float64(media3)\n",
        "media3\n",
        "\n",
        "# Código alternativo\n",
        "# s3.mean(axis = 0)"
      ],
      "id": "65902e5a-e0bd-4697-9d35-1c4f0b2a484a",
      "execution_count": null,
      "outputs": [
        {
          "output_type": "execute_result",
          "data": {
            "text/plain": [
              "7.5"
            ]
          },
          "metadata": {
            "tags": []
          },
          "execution_count": 16
        }
      ]
    },
    {
      "cell_type": "markdown",
      "metadata": {
        "id": "afeb603e-5efa-4c61-99d3-f64bb85f6721"
      },
      "source": [
        "# 4.4 Vizualização"
      ],
      "id": "afeb603e-5efa-4c61-99d3-f64bb85f6721"
    },
    {
      "cell_type": "code",
      "metadata": {
        "id": "9e9f8d48-4ac2-422a-bbcc-115caebd5eb3"
      },
      "source": [
        "xCoords = pd.Series([moda1, mediana1, media1], ['moda', 'mediana', 'media'])"
      ],
      "id": "9e9f8d48-4ac2-422a-bbcc-115caebd5eb3",
      "execution_count": null,
      "outputs": []
    },
    {
      "cell_type": "code",
      "metadata": {
        "id": "f0d6e9ff-b3bc-4820-b4a0-be8e1a183359",
        "outputId": "f133387b-7d9e-408f-846e-266f50df863c"
      },
      "source": [
        "xCoords.index"
      ],
      "id": "f0d6e9ff-b3bc-4820-b4a0-be8e1a183359",
      "execution_count": null,
      "outputs": [
        {
          "output_type": "execute_result",
          "data": {
            "text/plain": [
              "Index(['moda', 'mediana', 'media'], dtype='object')"
            ]
          },
          "metadata": {
            "tags": []
          },
          "execution_count": 18
        }
      ]
    },
    {
      "cell_type": "markdown",
      "metadata": {
        "id": "0dc186e2-13d5-4dda-8f91-ea34fc71ae3e"
      },
      "source": [
        "### 4.4.1 Gráfico único"
      ],
      "id": "0dc186e2-13d5-4dda-8f91-ea34fc71ae3e"
    },
    {
      "cell_type": "code",
      "metadata": {
        "id": "2b434923-e184-4e91-9615-e9137c903550",
        "outputId": "1f10b006-2ca1-425a-91be-9737ba2b7b0f",
        "colab": {
          "referenced_widgets": [
            "05beaee2fd244cbc9d24986aac39dd86"
          ]
        }
      },
      "source": [
        "# Cria uma imagem vazia\n",
        "fig = plt.figure()\n",
        "\n",
        "# Plota o histograma\n",
        "h = plt.hist(s1, bins = 5)\n",
        "\n",
        "# Coloca título nos eixos\n",
        "plt.title(\"Distribuição da variável S1\", loc = 'left')\n",
        "\n",
        "# Coloca nome nos eixos\n",
        "plt.xlabel('s1')\n",
        "plt.ylabel('Frequência')\n",
        "\n",
        "# Define a coordenada das linhas\n",
        "xCoords = pd.Series([moda1, mediana1, media1], ['moda', 'mediana', 'media'])\n",
        "\n",
        "# Define a cor das linhas\n",
        "colors = ['r', 'k', 'y']\n",
        "\n",
        "# Plota linhas verticais\n",
        "for xc,xn,c in zip(xCoords, xCoords.index, colors):\n",
        "    plt.axvline(x = xc, label = xn, c = c)\n",
        "    \n",
        "plt.legend()"
      ],
      "id": "2b434923-e184-4e91-9615-e9137c903550",
      "execution_count": null,
      "outputs": [
        {
          "output_type": "display_data",
          "data": {
            "application/vnd.jupyter.widget-view+json": {
              "model_id": "05beaee2fd244cbc9d24986aac39dd86",
              "version_major": 2,
              "version_minor": 0
            },
            "text/plain": [
              "Canvas(toolbar=Toolbar(toolitems=[('Home', 'Reset original view', 'home', 'home'), ('Back', 'Back to previous …"
            ]
          },
          "metadata": {
            "tags": []
          }
        },
        {
          "output_type": "execute_result",
          "data": {
            "text/plain": [
              "<matplotlib.legend.Legend at 0x2821c851be0>"
            ]
          },
          "metadata": {
            "tags": []
          },
          "execution_count": 53
        }
      ]
    },
    {
      "cell_type": "markdown",
      "metadata": {
        "id": "f9b27f41-6491-4925-a2c6-b522dbe6fd8f"
      },
      "source": [
        "### 4.4.2 Múltiplos gráficos"
      ],
      "id": "f9b27f41-6491-4925-a2c6-b522dbe6fd8f"
    },
    {
      "cell_type": "code",
      "metadata": {
        "id": "7e5b2433-fc1e-425a-9391-fb2f50c868a7",
        "colab": {
          "referenced_widgets": [
            "ac9a93430c924c649a95427810f5185a"
          ]
        },
        "outputId": "5af4dac1-c5ee-49d4-98d0-5fb2413b00e2"
      },
      "source": [
        "# Cria a figura e os subplots\n",
        "fig = plt.figure()\n",
        "plt.subplots_adjust(hspace = 0.3, wspace = 0.4)\n",
        "fig.suptitle('Comparação de distribuições, modas, médias e medianas', x=0.1, y=.95, horizontalalignment = 'left', verticalalignment = 'top')\n",
        "ax1 = fig.add_subplot(2, 2, 1)\n",
        "ax2 = fig.add_subplot(2, 2, 2)\n",
        "ax3 = fig.add_subplot(2, 2, 3)\n",
        "\n",
        "# Cria os gráficos de histograma e acerta os nomes dos eixos\n",
        "ax1.hist(s1, bins = 5)\n",
        "ax1.set_xlabel('s1')\n",
        "ax1.set_ylabel('Frequência')\n",
        "\n",
        "ax2.hist(s2, bins = 5)\n",
        "ax2.set_xlabel('s2')\n",
        "ax2.set_ylabel('Frequência')\n",
        "\n",
        "ax3.hist(s3, bins = 5)\n",
        "ax3.set_xlabel('s3')\n",
        "ax3.set_ylabel('Frequência')\n",
        "\n",
        "# Cria as séries com as coordenadas das linhas verticais\n",
        "\n",
        "xCoords1 = pd.Series([moda1, mediana1, media1], ['moda', 'mediana', 'media'])\n",
        "xCoords2 = pd.Series([moda2, mediana2, media2], ['moda', 'mediana', 'media'])\n",
        "xCoords3 = pd.Series([moda3, mediana3, media3], ['moda', 'mediana', 'media'])\n",
        "\n",
        "# Plota as linhas\n",
        "\n",
        "for xc,xn,c in zip(xCoords1, xCoords1.index, colors):\n",
        "    ax1.axvline(x = xc, label = xn, c = c)\n",
        "    \n",
        "for xc,xn,c in zip(xCoords2, xCoords2.index, colors):\n",
        "    ax2.axvline(x = xc, label = xn, c = c)\n",
        "    \n",
        "for xc,xn,c in zip(xCoords3, xCoords3.index, colors):\n",
        "    ax3.axvline(x = xc, label = xn, c = c)"
      ],
      "id": "7e5b2433-fc1e-425a-9391-fb2f50c868a7",
      "execution_count": null,
      "outputs": [
        {
          "output_type": "display_data",
          "data": {
            "application/vnd.jupyter.widget-view+json": {
              "model_id": "ac9a93430c924c649a95427810f5185a",
              "version_major": 2,
              "version_minor": 0
            },
            "text/plain": [
              "Canvas(toolbar=Toolbar(toolitems=[('Home', 'Reset original view', 'home', 'home'), ('Back', 'Back to previous …"
            ]
          },
          "metadata": {
            "tags": []
          }
        }
      ]
    }
  ]
}