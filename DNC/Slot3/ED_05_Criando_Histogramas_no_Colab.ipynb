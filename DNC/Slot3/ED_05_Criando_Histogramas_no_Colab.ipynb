{
  "nbformat": 4,
  "nbformat_minor": 5,
  "metadata": {
    "kernelspec": {
      "display_name": "Python 3",
      "language": "python",
      "name": "python3"
    },
    "language_info": {
      "codemirror_mode": {
        "name": "ipython",
        "version": 3
      },
      "file_extension": ".py",
      "mimetype": "text/x-python",
      "name": "python",
      "nbconvert_exporter": "python",
      "pygments_lexer": "ipython3",
      "version": "3.8.10"
    },
    "colab": {
      "name": "ED 05 - Criando Histogramas no Colab.ipynb",
      "provenance": [],
      "include_colab_link": true
    }
  },
  "cells": [
    {
      "cell_type": "markdown",
      "metadata": {
        "id": "view-in-github",
        "colab_type": "text"
      },
      "source": [
        "<a href=\"https://colab.research.google.com/github/euviniciusmendonca/python/blob/main/ED_05_Criando_Histogramas_no_Colab.ipynb\" target=\"_parent\"><img src=\"https://colab.research.google.com/assets/colab-badge.svg\" alt=\"Open In Colab\"/></a>"
      ]
    },
    {
      "cell_type": "markdown",
      "metadata": {
        "id": "3e62324a-36a8-405f-94a1-78d25362fdd7"
      },
      "source": [
        "# EXEMPLOS DE ESTATÍSTIVA BÁSICA"
      ],
      "id": "3e62324a-36a8-405f-94a1-78d25362fdd7"
    },
    {
      "cell_type": "markdown",
      "metadata": {
        "id": "484481cb-12f9-40f5-adf4-b47f99a76ed6"
      },
      "source": [
        "# 1 CARREGAMENTO DAS BIBLIOTECAS"
      ],
      "id": "484481cb-12f9-40f5-adf4-b47f99a76ed6"
    },
    {
      "cell_type": "code",
      "metadata": {
        "id": "2be594f4-6e49-4da2-9dd4-660ac172bdfa"
      },
      "source": [
        "import pandas as pd\n",
        "import numpy as np\n",
        "import matplotlib.pyplot as plt\n",
        "import seaborn as sns\n",
        "import scipy.stats as stats\n",
        "%matplotlib widget"
      ],
      "id": "2be594f4-6e49-4da2-9dd4-660ac172bdfa",
      "execution_count": null,
      "outputs": []
    },
    {
      "cell_type": "markdown",
      "metadata": {
        "tags": [],
        "id": "92c81ed2-36b8-4ce1-a4eb-f2cbd514a0fd"
      },
      "source": [
        "# 2 GERAÇÃO DOS DADOS"
      ],
      "id": "92c81ed2-36b8-4ce1-a4eb-f2cbd514a0fd"
    },
    {
      "cell_type": "code",
      "metadata": {
        "id": "8171cdd5-fb12-46f1-b7c0-c60abb46d733",
        "outputId": "6448bf6b-c7d7-4c75-c7cf-832f0bc8608f"
      },
      "source": [
        "s1 = pd.Series([7, 7, 6, 2,\t5, 4, 3, 7,\t3, 1, 2, 4, 8, 6, 3, 7, 9, 6, 1, 3])\n",
        "pd.DataFrame.head(s1)"
      ],
      "id": "8171cdd5-fb12-46f1-b7c0-c60abb46d733",
      "execution_count": null,
      "outputs": [
        {
          "output_type": "execute_result",
          "data": {
            "text/plain": [
              "0    7\n",
              "1    7\n",
              "2    6\n",
              "3    2\n",
              "4    5\n",
              "dtype: int64"
            ]
          },
          "metadata": {
            "tags": []
          },
          "execution_count": 2
        }
      ]
    },
    {
      "cell_type": "code",
      "metadata": {
        "id": "37b4bd8a-a325-47ce-8bfa-d4ccacfd85c9",
        "outputId": "76226ca5-e4dd-4787-fb5d-b00ad983e973"
      },
      "source": [
        "s2 = pd.Series([3, 3, 5, 12, 3, 4, 10, 5, 4, 4, 3, 4, 8, 4, 5, 5, 6, 6, 4, 7])\n",
        "pd.DataFrame.head(s2)"
      ],
      "id": "37b4bd8a-a325-47ce-8bfa-d4ccacfd85c9",
      "execution_count": null,
      "outputs": [
        {
          "output_type": "execute_result",
          "data": {
            "text/plain": [
              "0     3\n",
              "1     3\n",
              "2     5\n",
              "3    12\n",
              "4     3\n",
              "dtype: int64"
            ]
          },
          "metadata": {
            "tags": []
          },
          "execution_count": 3
        }
      ]
    },
    {
      "cell_type": "code",
      "metadata": {
        "id": "341af8c0-4edc-4f37-8b64-2852609d5fb0",
        "outputId": "3310bc15-8b39-4541-da50-e7551c3a412e"
      },
      "source": [
        "s3 = pd.Series([7, 7, 7, 8, 8, 7, 7, 7, 4, 8, 7, 8, 8, 9, 8, 8, 7, 9, 8, 8])\n",
        "pd.DataFrame.head(s3)"
      ],
      "id": "341af8c0-4edc-4f37-8b64-2852609d5fb0",
      "execution_count": null,
      "outputs": [
        {
          "output_type": "execute_result",
          "data": {
            "text/plain": [
              "0    7\n",
              "1    7\n",
              "2    7\n",
              "3    8\n",
              "4    8\n",
              "dtype: int64"
            ]
          },
          "metadata": {
            "tags": []
          },
          "execution_count": 4
        }
      ]
    },
    {
      "cell_type": "markdown",
      "metadata": {
        "id": "7f401ab9-48e8-418a-a4d3-aaa5ac064ec5"
      },
      "source": [
        "# 3 ANÁLISE GRÁFICA DESCRITIVA 01"
      ],
      "id": "7f401ab9-48e8-418a-a4d3-aaa5ac064ec5"
    },
    {
      "cell_type": "markdown",
      "metadata": {
        "id": "c855d56a-1f7c-48da-a305-001dfb0755f8"
      },
      "source": [
        "## 3.1 Gráfico de histograma"
      ],
      "id": "c855d56a-1f7c-48da-a305-001dfb0755f8"
    },
    {
      "cell_type": "code",
      "metadata": {
        "id": "23683e3e-9204-4b1b-8995-2d7406145ece",
        "colab": {
          "referenced_widgets": [
            "d6ba5038ebe047cab1e0c791f1e8883e"
          ]
        },
        "outputId": "40f4d4ad-d9a0-4207-93fb-53ab34dfe220"
      },
      "source": [
        "# Cria uma imagem vazia\n",
        "fig = plt.figure()\n",
        "\n",
        "# Plota o histograma\n",
        "plt.hist(s1, bins = 5)\n",
        "\n",
        "# Coloca título nos eixos\n",
        "plt.title(\"Distribuição da variável S1\", loc = 'left')\n",
        "\n",
        "# Coloca nome nos eixos\n",
        "plt.xlabel('s1')\n",
        "plt.ylabel('Frequência')"
      ],
      "id": "23683e3e-9204-4b1b-8995-2d7406145ece",
      "execution_count": null,
      "outputs": [
        {
          "output_type": "display_data",
          "data": {
            "application/vnd.jupyter.widget-view+json": {
              "model_id": "d6ba5038ebe047cab1e0c791f1e8883e",
              "version_major": 2,
              "version_minor": 0
            },
            "text/plain": [
              "Canvas(toolbar=Toolbar(toolitems=[('Home', 'Reset original view', 'home', 'home'), ('Back', 'Back to previous …"
            ]
          },
          "metadata": {
            "tags": []
          }
        },
        {
          "output_type": "execute_result",
          "data": {
            "text/plain": [
              "Text(0, 0.5, 'Frequência')"
            ]
          },
          "metadata": {
            "tags": []
          },
          "execution_count": 50
        }
      ]
    },
    {
      "cell_type": "markdown",
      "metadata": {
        "id": "c113a42e-0c19-4644-acbf-f02741735133"
      },
      "source": [
        "### Múltiplos gráficos"
      ],
      "id": "c113a42e-0c19-4644-acbf-f02741735133"
    },
    {
      "cell_type": "code",
      "metadata": {
        "id": "b75bfa2f-1620-4f58-b71e-7f9b75b2755c",
        "colab": {
          "referenced_widgets": [
            "ce898290695c4fbb91ddf86ccc0d3b16"
          ]
        },
        "outputId": "7df19e25-e1ce-407f-b49e-b5c50d21653e"
      },
      "source": [
        "# Cria a figura e os subplots\n",
        "fig = plt.figure()\n",
        "plt.subplots_adjust(hspace = 0.3, wspace = 0.4)\n",
        "fig.suptitle('Comparação de distribuições', x=0.1, y=.95, horizontalalignment = 'left', verticalalignment = 'top')\n",
        "ax1 = fig.add_subplot(2, 2, 1)\n",
        "ax2 = fig.add_subplot(2, 2, 2)\n",
        "ax3 = fig.add_subplot(2, 2, 3)\n",
        "\n",
        "# Cria os gráficos de histograma e acerta os nomes dos eixos\n",
        "ax1.hist(s1, bins = 5)\n",
        "ax1.set_xlabel('s1')\n",
        "ax1.set_ylabel('Frequência')\n",
        "\n",
        "ax2.hist(s2, bins = 5)\n",
        "ax2.set_xlabel('s2')\n",
        "ax2.set_ylabel('Frequência')\n",
        "\n",
        "ax3.hist(s3, bins = 5)\n",
        "ax3.set_xlabel('s3')\n",
        "ax3.set_ylabel('Frequência')"
      ],
      "id": "b75bfa2f-1620-4f58-b71e-7f9b75b2755c",
      "execution_count": null,
      "outputs": [
        {
          "output_type": "display_data",
          "data": {
            "application/vnd.jupyter.widget-view+json": {
              "model_id": "ce898290695c4fbb91ddf86ccc0d3b16",
              "version_major": 2,
              "version_minor": 0
            },
            "text/plain": [
              "Canvas(toolbar=Toolbar(toolitems=[('Home', 'Reset original view', 'home', 'home'), ('Back', 'Back to previous …"
            ]
          },
          "metadata": {
            "tags": []
          }
        },
        {
          "output_type": "execute_result",
          "data": {
            "text/plain": [
              "Text(0, 0.5, 'Frequência')"
            ]
          },
          "metadata": {
            "tags": []
          },
          "execution_count": 51
        }
      ]
    },
    {
      "cell_type": "markdown",
      "metadata": {
        "id": "36b3d789-bae6-42fa-9d86-2594a6bfd36a"
      },
      "source": [
        "### Histogramas superpostos"
      ],
      "id": "36b3d789-bae6-42fa-9d86-2594a6bfd36a"
    },
    {
      "cell_type": "code",
      "metadata": {
        "id": "0b135320-6841-49ec-9a55-af344d097790",
        "colab": {
          "referenced_widgets": [
            "d2a9d19481dd4a578bbeb92823ff7399"
          ]
        },
        "outputId": "cd3bc85b-5713-46bd-bc6c-d8fe061832e6"
      },
      "source": [
        "fig = plt.figure()\n",
        "plt.hist(s1, alpha = 0.5, label = 's1')\n",
        "plt.hist(s2, alpha = 0.5, label = 's1')\n",
        "plt.hist(s3, alpha = 0.5, label = 's1')\n",
        "# Código alternativo\n",
        "# plt.hist([s1, s2, s3], bins, label=['s1', 's2', 's3'])\n",
        "\n",
        "plt.legend(loc = 'upper right')\n",
        "plt.ylabel('Frequência')\n",
        "plt.title('Comparação entre variáveis', loc = 'left')\n",
        "\n"
      ],
      "id": "0b135320-6841-49ec-9a55-af344d097790",
      "execution_count": null,
      "outputs": [
        {
          "output_type": "display_data",
          "data": {
            "application/vnd.jupyter.widget-view+json": {
              "model_id": "d2a9d19481dd4a578bbeb92823ff7399",
              "version_major": 2,
              "version_minor": 0
            },
            "text/plain": [
              "Canvas(toolbar=Toolbar(toolitems=[('Home', 'Reset original view', 'home', 'home'), ('Back', 'Back to previous …"
            ]
          },
          "metadata": {
            "tags": []
          }
        },
        {
          "output_type": "execute_result",
          "data": {
            "text/plain": [
              "Text(0.0, 1.0, 'Comparação entre variáveis')"
            ]
          },
          "metadata": {
            "tags": []
          },
          "execution_count": 52
        }
      ]
    }
  ]
}