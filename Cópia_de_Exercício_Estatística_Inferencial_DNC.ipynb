{
  "cells": [
    {
      "cell_type": "markdown",
      "metadata": {
        "id": "view-in-github",
        "colab_type": "text"
      },
      "source": [
        "<a href=\"https://colab.research.google.com/github/euviniciusmendonca/estudo_python/blob/main/C%C3%B3pia_de_Exerc%C3%ADcio_Estat%C3%ADstica_Inferencial_DNC.ipynb\" target=\"_parent\"><img src=\"https://colab.research.google.com/assets/colab-badge.svg\" alt=\"Open In Colab\"/></a>"
      ]
    },
    {
      "cell_type": "markdown",
      "source": [
        "# Import e Conhecendo os dados"
      ],
      "metadata": {
        "id": "kLrY19gWG0Us"
      }
    },
    {
      "cell_type": "code",
      "execution_count": null,
      "metadata": {
        "id": "qC5sACf1v1Qe"
      },
      "outputs": [],
      "source": [
        "# Importação das bibliotecas\n",
        "from google.colab import files\n",
        "\n",
        "import numpy as np\n",
        "import pandas as pd\n",
        "\n",
        "import seaborn as sns\n",
        "import matplotlib.pyplot as plt\n",
        "\n",
        "from scipy import stats"
      ]
    },
    {
      "cell_type": "code",
      "execution_count": null,
      "metadata": {
        "id": "qJPJdg7-v17E"
      },
      "outputs": [],
      "source": [
        "# Upload dos dados\n",
        "df = pd.read_csv(\"Walmart 2.csv\")"
      ]
    },
    {
      "cell_type": "code",
      "source": [
        "# Preview da qualidade dos dados\n",
        "df.info()"
      ],
      "metadata": {
        "id": "U1RloeQk__nd",
        "colab": {
          "base_uri": "https://localhost:8080/"
        },
        "outputId": "c2d17c3d-cb0d-4c00-f5fd-933d71f0ec1d"
      },
      "execution_count": null,
      "outputs": [
        {
          "output_type": "stream",
          "name": "stdout",
          "text": [
            "<class 'pandas.core.frame.DataFrame'>\n",
            "RangeIndex: 6435 entries, 0 to 6434\n",
            "Data columns (total 8 columns):\n",
            " #   Column        Non-Null Count  Dtype  \n",
            "---  ------        --------------  -----  \n",
            " 0   Store         6435 non-null   int64  \n",
            " 1   Date          6435 non-null   object \n",
            " 2   Weekly_Sales  6435 non-null   float64\n",
            " 3   Holiday_Flag  6435 non-null   int64  \n",
            " 4   Temperature   6435 non-null   float64\n",
            " 5   Fuel_Price    6435 non-null   float64\n",
            " 6   CPI           6435 non-null   float64\n",
            " 7   Unemployment  6435 non-null   float64\n",
            "dtypes: float64(5), int64(2), object(1)\n",
            "memory usage: 402.3+ KB\n"
          ]
        }
      ]
    },
    {
      "cell_type": "markdown",
      "source": [
        "\n",
        "\n",
        "Você precisa avaliar a performance global das vendas semanais das lojas do Wallmart. Porém, o processo de estração de dados é devagar e custoso, por isso não seria possível recolher todas as vendas semanais do ano para fazer uma estimativa com precisão de 100%. A única saída é realizar uma amostragem dos dados de uma loja e em cima disso calcular o intervalo de confiança das vendas para que os superioes tenham uma noção da média das vendas da loja.\n",
        "\n",
        "Pratique os conceitos de amostragem vistos na revisão dentro do dataset e ao final, calcule o intervalo de confiança para uma amostra de 25 e outra de 50 das vendas semanais da loja 20. O valor encontrado está dentro da média populacional da loja 20?"
      ],
      "metadata": {
        "id": "NoMDuIWW_3Xi"
      }
    },
    {
      "cell_type": "markdown",
      "source": [
        "#**Etapa 1**\n"
      ],
      "metadata": {
        "id": "tVs6Ryps9Hm4"
      }
    },
    {
      "cell_type": "code",
      "source": [
        "store20 = df.loc[df[\"Store\"]==20]\n",
        "store20.info()"
      ],
      "metadata": {
        "colab": {
          "base_uri": "https://localhost:8080/"
        },
        "id": "Qny3V_a23vSp",
        "outputId": "e81a0460-5cf0-4897-fcfe-3c67146da0f9"
      },
      "execution_count": null,
      "outputs": [
        {
          "output_type": "stream",
          "name": "stdout",
          "text": [
            "<class 'pandas.core.frame.DataFrame'>\n",
            "Int64Index: 143 entries, 2717 to 2859\n",
            "Data columns (total 8 columns):\n",
            " #   Column        Non-Null Count  Dtype  \n",
            "---  ------        --------------  -----  \n",
            " 0   Store         143 non-null    int64  \n",
            " 1   Date          143 non-null    object \n",
            " 2   Weekly_Sales  143 non-null    float64\n",
            " 3   Holiday_Flag  143 non-null    int64  \n",
            " 4   Temperature   143 non-null    float64\n",
            " 5   Fuel_Price    143 non-null    float64\n",
            " 6   CPI           143 non-null    float64\n",
            " 7   Unemployment  143 non-null    float64\n",
            "dtypes: float64(5), int64(2), object(1)\n",
            "memory usage: 10.1+ KB\n"
          ]
        }
      ]
    },
    {
      "cell_type": "code",
      "source": [
        "sns.histplot(x = \"Weekly_Sales\", kde =True, data = df)"
      ],
      "metadata": {
        "colab": {
          "base_uri": "https://localhost:8080/",
          "height": 297
        },
        "id": "RNWlTE7u5Isb",
        "outputId": "132c5ae4-68df-4214-c2e4-3d1cf96dd811"
      },
      "execution_count": null,
      "outputs": [
        {
          "output_type": "execute_result",
          "data": {
            "text/plain": [
              "<matplotlib.axes._subplots.AxesSubplot at 0x7f3b7e971990>"
            ]
          },
          "metadata": {},
          "execution_count": 13
        },
        {
          "output_type": "display_data",
          "data": {
            "text/plain": [
              "<Figure size 432x288 with 1 Axes>"
            ],
            "image/png": "[encoded data removed]"
          },
          "metadata": {
            "needs_background": "light"
          }
        }
      ]
    },
    {
      "cell_type": "code",
      "source": [],
      "metadata": {
        "colab": {
          "base_uri": "https://localhost:8080/",
          "height": 1000
        },
        "id": "MocXuK2S553Q",
        "outputId": "96ece1db-d797-41d0-91b0-62def2a38dc8"
      },
      "execution_count": null,
      "outputs": [
        {
          "output_type": "execute_result",
          "data": {
            "text/plain": [
              "    Store  Weekly_Sales\n",
              "0      20    2107676.87\n",
              "1       4    2094712.96\n",
              "2      14    2020978.40\n",
              "3      13    2003620.31\n",
              "4       2    1925751.34\n",
              "5      10    1899424.57\n",
              "6      27    1775216.20\n",
              "7       6    1564728.19\n",
              "8       1    1555264.40\n",
              "9      39    1450668.13\n",
              "10     19    1444999.04\n",
              "11     31    1395901.44\n",
              "12     23    1389864.46\n",
              "13     24    1356755.39\n",
              "14     11    1356383.12\n",
              "15     28    1323522.24\n",
              "16     41    1268125.42\n",
              "17     32    1166568.15\n",
              "18     18    1084718.42\n",
              "19     22    1028501.04\n",
              "20     12    1009001.61\n",
              "21     26    1002911.84\n",
              "22     34     966781.56\n",
              "23     40     964128.04\n",
              "24     35     919724.98\n",
              "25      8     908749.52\n",
              "26     17     893581.39\n",
              "27     45     785981.41\n",
              "28     21     756069.08\n",
              "29     25     706721.53\n",
              "30     43     633324.72\n",
              "31     15     623312.47\n",
              "32      7     570617.31\n",
              "33     42     556403.86\n",
              "34      9     543980.55\n",
              "35     29     539451.43\n",
              "36     16     519247.73\n",
              "37     37     518900.28\n",
              "38     30     438579.62\n",
              "39      3     402704.44\n",
              "40     38     385731.65\n",
              "41     36     373511.99\n",
              "42      5     318011.81\n",
              "43     44     302748.87\n",
              "44     33     259861.69"
            ],
            "text/html": [
              "\n",
              "  <div id=\"df-1586845a-d57c-4a33-a033-692b17dd0f12\">\n",
              "    <div class=\"colab-df-container\">\n",
              "      <div>\n",
              "<style scoped>\n",
              "    .dataframe tbody tr th:only-of-type {\n",
              "        vertical-align: middle;\n",
              "    }\n",
              "\n",
              "    .dataframe tbody tr th {\n",
              "        vertical-align: top;\n",
              "    }\n",
              "\n",
              "    .dataframe thead th {\n",
              "        text-align: right;\n",
              "    }\n",
              "</style>\n",
              "<table border=\"1\" class=\"dataframe\">\n",
              "  <thead>\n",
              "    <tr style=\"text-align: right;\">\n",
              "      <th></th>\n",
              "      <th>Store</th>\n",
              "      <th>Weekly_Sales</th>\n",
              "    </tr>\n",
              "  </thead>\n",
              "  <tbody>\n",
              "    <tr>\n",
              "      <th>0</th>\n",
              "      <td>20</td>\n",
              "      <td>2107676.87</td>\n",
              "    </tr>\n",
              "    <tr>\n",
              "      <th>1</th>\n",
              "      <td>4</td>\n",
              "      <td>2094712.96</td>\n",
              "    </tr>\n",
              "    <tr>\n",
              "      <th>2</th>\n",
              "      <td>14</td>\n",
              "      <td>2020978.40</td>\n",
              "    </tr>\n",
              "    <tr>\n",
              "      <th>3</th>\n",
              "      <td>13</td>\n",
              "      <td>2003620.31</td>\n",
              "    </tr>\n",
              "    <tr>\n",
              "      <th>4</th>\n",
              "      <td>2</td>\n",
              "      <td>1925751.34</td>\n",
              "    </tr>\n",
              "    <tr>\n",
              "      <th>5</th>\n",
              "      <td>10</td>\n",
              "      <td>1899424.57</td>\n",
              "    </tr>\n",
              "    <tr>\n",
              "      <th>6</th>\n",
              "      <td>27</td>\n",
              "      <td>1775216.20</td>\n",
              "    </tr>\n",
              "    <tr>\n",
              "      <th>7</th>\n",
              "      <td>6</td>\n",
              "      <td>1564728.19</td>\n",
              "    </tr>\n",
              "    <tr>\n",
              "      <th>8</th>\n",
              "      <td>1</td>\n",
              "      <td>1555264.40</td>\n",
              "    </tr>\n",
              "    <tr>\n",
              "      <th>9</th>\n",
              "      <td>39</td>\n",
              "      <td>1450668.13</td>\n",
              "    </tr>\n",
              "    <tr>\n",
              "      <th>10</th>\n",
              "      <td>19</td>\n",
              "      <td>1444999.04</td>\n",
              "    </tr>\n",
              "    <tr>\n",
              "      <th>11</th>\n",
              "      <td>31</td>\n",
              "      <td>1395901.44</td>\n",
              "    </tr>\n",
              "    <tr>\n",
              "      <th>12</th>\n",
              "      <td>23</td>\n",
              "      <td>1389864.46</td>\n",
              "    </tr>\n",
              "    <tr>\n",
              "      <th>13</th>\n",
              "      <td>24</td>\n",
              "      <td>1356755.39</td>\n",
              "    </tr>\n",
              "    <tr>\n",
              "      <th>14</th>\n",
              "      <td>11</td>\n",
              "      <td>1356383.12</td>\n",
              "    </tr>\n",
              "    <tr>\n",
              "      <th>15</th>\n",
              "      <td>28</td>\n",
              "      <td>1323522.24</td>\n",
              "    </tr>\n",
              "    <tr>\n",
              "      <th>16</th>\n",
              "      <td>41</td>\n",
              "      <td>1268125.42</td>\n",
              "    </tr>\n",
              "    <tr>\n",
              "      <th>17</th>\n",
              "      <td>32</td>\n",
              "      <td>1166568.15</td>\n",
              "    </tr>\n",
              "    <tr>\n",
              "      <th>18</th>\n",
              "      <td>18</td>\n",
              "      <td>1084718.42</td>\n",
              "    </tr>\n",
              "    <tr>\n",
              "      <th>19</th>\n",
              "      <td>22</td>\n",
              "      <td>1028501.04</td>\n",
              "    </tr>\n",
              "    <tr>\n",
              "      <th>20</th>\n",
              "      <td>12</td>\n",
              "      <td>1009001.61</td>\n",
              "    </tr>\n",
              "    <tr>\n",
              "      <th>21</th>\n",
              "      <td>26</td>\n",
              "      <td>1002911.84</td>\n",
              "    </tr>\n",
              "    <tr>\n",
              "      <th>22</th>\n",
              "      <td>34</td>\n",
              "      <td>966781.56</td>\n",
              "    </tr>\n",
              "    <tr>\n",
              "      <th>23</th>\n",
              "      <td>40</td>\n",
              "      <td>964128.04</td>\n",
              "    </tr>\n",
              "    <tr>\n",
              "      <th>24</th>\n",
              "      <td>35</td>\n",
              "      <td>919724.98</td>\n",
              "    </tr>\n",
              "    <tr>\n",
              "      <th>25</th>\n",
              "      <td>8</td>\n",
              "      <td>908749.52</td>\n",
              "    </tr>\n",
              "    <tr>\n",
              "      <th>26</th>\n",
              "      <td>17</td>\n",
              "      <td>893581.39</td>\n",
              "    </tr>\n",
              "    <tr>\n",
              "      <th>27</th>\n",
              "      <td>45</td>\n",
              "      <td>785981.41</td>\n",
              "    </tr>\n",
              "    <tr>\n",
              "      <th>28</th>\n",
              "      <td>21</td>\n",
              "      <td>756069.08</td>\n",
              "    </tr>\n",
              "    <tr>\n",
              "      <th>29</th>\n",
              "      <td>25</td>\n",
              "      <td>706721.53</td>\n",
              "    </tr>\n",
              "    <tr>\n",
              "      <th>30</th>\n",
              "      <td>43</td>\n",
              "      <td>633324.72</td>\n",
              "    </tr>\n",
              "    <tr>\n",
              "      <th>31</th>\n",
              "      <td>15</td>\n",
              "      <td>623312.47</td>\n",
              "    </tr>\n",
              "    <tr>\n",
              "      <th>32</th>\n",
              "      <td>7</td>\n",
              "      <td>570617.31</td>\n",
              "    </tr>\n",
              "    <tr>\n",
              "      <th>33</th>\n",
              "      <td>42</td>\n",
              "      <td>556403.86</td>\n",
              "    </tr>\n",
              "    <tr>\n",
              "      <th>34</th>\n",
              "      <td>9</td>\n",
              "      <td>543980.55</td>\n",
              "    </tr>\n",
              "    <tr>\n",
              "      <th>35</th>\n",
              "      <td>29</td>\n",
              "      <td>539451.43</td>\n",
              "    </tr>\n",
              "    <tr>\n",
              "      <th>36</th>\n",
              "      <td>16</td>\n",
              "      <td>519247.73</td>\n",
              "    </tr>\n",
              "    <tr>\n",
              "      <th>37</th>\n",
              "      <td>37</td>\n",
              "      <td>518900.28</td>\n",
              "    </tr>\n",
              "    <tr>\n",
              "      <th>38</th>\n",
              "      <td>30</td>\n",
              "      <td>438579.62</td>\n",
              "    </tr>\n",
              "    <tr>\n",
              "      <th>39</th>\n",
              "      <td>3</td>\n",
              "      <td>402704.44</td>\n",
              "    </tr>\n",
              "    <tr>\n",
              "      <th>40</th>\n",
              "      <td>38</td>\n",
              "      <td>385731.65</td>\n",
              "    </tr>\n",
              "    <tr>\n",
              "      <th>41</th>\n",
              "      <td>36</td>\n",
              "      <td>373511.99</td>\n",
              "    </tr>\n",
              "    <tr>\n",
              "      <th>42</th>\n",
              "      <td>5</td>\n",
              "      <td>318011.81</td>\n",
              "    </tr>\n",
              "    <tr>\n",
              "      <th>43</th>\n",
              "      <td>44</td>\n",
              "      <td>302748.87</td>\n",
              "    </tr>\n",
              "    <tr>\n",
              "      <th>44</th>\n",
              "      <td>33</td>\n",
              "      <td>259861.69</td>\n",
              "    </tr>\n",
              "  </tbody>\n",
              "</table>\n",
              "</div>\n",
              "      <button class=\"colab-df-convert\" onclick=\"convertToInteractive('df-1586845a-d57c-4a33-a033-692b17dd0f12')\"\n",
              "              title=\"Convert this dataframe to an interactive table.\"\n",
              "              style=\"display:none;\">\n",
              "        \n",
              "  <svg xmlns=\"http://www.w3.org/2000/svg\" height=\"24px\"viewBox=\"0 0 24 24\"\n",
              "       width=\"24px\">\n",
              "    <path d=\"M0 0h24v24H0V0z\" fill=\"none\"/>\n",
              "    <path d=\"M18.56 5.44l.94 2.06.94-2.06 2.06-.94-2.06-.94-.94-2.06-.94 2.06-2.06.94zm-11 1L8.5 8.5l.94-2.06 2.06-.94-2.06-.94L8.5 2.5l-.94 2.06-2.06.94zm10 10l.94 2.06.94-2.06 2.06-.94-2.06-.94-.94-2.06-.94 2.06-2.06.94z\"/><path d=\"M17.41 7.96l-1.37-1.37c-.4-.4-.92-.59-1.43-.59-.52 0-1.04.2-1.43.59L10.3 9.45l-7.72 7.72c-.78.78-.78 2.05 0 2.83L4 21.41c.39.39.9.59 1.41.59.51 0 1.02-.2 1.41-.59l7.78-7.78 2.81-2.81c.8-.78.8-2.07 0-2.86zM5.41 20L4 18.59l7.72-7.72 1.47 1.35L5.41 20z\"/>\n",
              "  </svg>\n",
              "      </button>\n",
              "      \n",
              "  <style>\n",
              "    .colab-df-container {\n",
              "      display:flex;\n",
              "      flex-wrap:wrap;\n",
              "      gap: 12px;\n",
              "    }\n",
              "\n",
              "    .colab-df-convert {\n",
              "      background-color: #E8F0FE;\n",
              "      border: none;\n",
              "      border-radius: 50%;\n",
              "      cursor: pointer;\n",
              "      display: none;\n",
              "      fill: #1967D2;\n",
              "      height: 32px;\n",
              "      padding: 0 0 0 0;\n",
              "      width: 32px;\n",
              "    }\n",
              "\n",
              "    .colab-df-convert:hover {\n",
              "      background-color: #E2EBFA;\n",
              "      box-shadow: 0px 1px 2px rgba(60, 64, 67, 0.3), 0px 1px 3px 1px rgba(60, 64, 67, 0.15);\n",
              "      fill: #174EA6;\n",
              "    }\n",
              "\n",
              "    [theme=dark] .colab-df-convert {\n",
              "      background-color: #3B4455;\n",
              "      fill: #D2E3FC;\n",
              "    }\n",
              "\n",
              "    [theme=dark] .colab-df-convert:hover {\n",
              "      background-color: #434B5C;\n",
              "      box-shadow: 0px 1px 3px 1px rgba(0, 0, 0, 0.15);\n",
              "      filter: drop-shadow(0px 1px 2px rgba(0, 0, 0, 0.3));\n",
              "      fill: #FFFFFF;\n",
              "    }\n",
              "  </style>\n",
              "\n",
              "      <script>\n",
              "        const buttonEl =\n",
              "          document.querySelector('#df-1586845a-d57c-4a33-a033-692b17dd0f12 button.colab-df-convert');\n",
              "        buttonEl.style.display =\n",
              "          google.colab.kernel.accessAllowed ? 'block' : 'none';\n",
              "\n",
              "        async function convertToInteractive(key) {\n",
              "          const element = document.querySelector('#df-1586845a-d57c-4a33-a033-692b17dd0f12');\n",
              "          const dataTable =\n",
              "            await google.colab.kernel.invokeFunction('convertToInteractive',\n",
              "                                                     [key], {});\n",
              "          if (!dataTable) return;\n",
              "\n",
              "          const docLinkHtml = 'Like what you see? Visit the ' +\n",
              "            '<a target=\"_blank\" href=https://colab.research.google.com/notebooks/data_table.ipynb>data table notebook</a>'\n",
              "            + ' to learn more about interactive tables.';\n",
              "          element.innerHTML = '';\n",
              "          dataTable['output_type'] = 'display_data';\n",
              "          await google.colab.output.renderOutput(dataTable, element);\n",
              "          const docLink = document.createElement('div');\n",
              "          docLink.innerHTML = docLinkHtml;\n",
              "          element.appendChild(docLink);\n",
              "        }\n",
              "      </script>\n",
              "    </div>\n",
              "  </div>\n",
              "  "
            ]
          },
          "metadata": {},
          "execution_count": 18
        }
      ]
    },
    {
      "cell_type": "code",
      "source": [
        "pd.set_option(\"float_format\" ,\"{:.2f}\".format)\n",
        "Vendassemanais = df.groupby(\"Store\").agg({\"Weekly_Sales\" : \"mean\"})\n",
        "Vendassemanais.sort_values(\"Weekly_Sales\", ascending=False).reset_index()\n",
        "\n",
        "sns.barplot(data = df, x = \"Holiday_Flag\", y =\"Weekly_Sales\"  )"
      ],
      "metadata": {
        "colab": {
          "base_uri": "https://localhost:8080/",
          "height": 308
        },
        "id": "NgXCzPZ-6ryP",
        "outputId": "decafed8-b562-4698-b55e-97abefb70700"
      },
      "execution_count": null,
      "outputs": [
        {
          "output_type": "execute_result",
          "data": {
            "text/plain": [
              "<matplotlib.axes._subplots.AxesSubplot at 0x7f3b669e8210>"
            ]
          },
          "metadata": {},
          "execution_count": 23
        },
        {
          "output_type": "display_data",
          "data": {
            "text/plain": [
              "<Figure size 432x288 with 1 Axes>"
            ],
            "image/png": "[encoded data removed]"
          },
          "metadata": {
            "needs_background": "light"
          }
        }
      ]
    },
    {
      "cell_type": "code",
      "source": [
        "sns.barplot(data = store20, x = \"Holiday_Flag\", y =\"Weekly_Sales\" )"
      ],
      "metadata": {
        "colab": {
          "base_uri": "https://localhost:8080/",
          "height": 308
        },
        "id": "pF6bu39K7Mpe",
        "outputId": "eeadcea5-1b7e-4e5c-ccb3-59149e5ef5ee"
      },
      "execution_count": null,
      "outputs": [
        {
          "output_type": "execute_result",
          "data": {
            "text/plain": [
              "<matplotlib.axes._subplots.AxesSubplot at 0x7f3b6c114910>"
            ]
          },
          "metadata": {},
          "execution_count": 21
        },
        {
          "output_type": "display_data",
          "data": {
            "text/plain": [
              "<Figure size 432x288 with 1 Axes>"
            ],
            "image/png": "[encoded data removed]"
          },
          "metadata": {
            "needs_background": "light"
          }
        }
      ]
    },
    {
      "cell_type": "code",
      "source": [],
      "metadata": {
        "id": "WqIbyNur7e7u"
      },
      "execution_count": null,
      "outputs": []
    },
    {
      "cell_type": "markdown",
      "source": [
        "\n",
        "Nessa etapa iremos importar os dados e bibliotecas e verificar as vendas por loja\n",
        "\n",
        "\n",
        "1.  Importar as bibliotecas e os dados\n",
        "2.  Analisar os dados\n",
        "3.  Verifique as vendas semanais por loja\n",
        "4. Verifique se as vendas em período de feriado tem uma variação maior\n",
        "\n",
        "\n",
        "\n",
        "\n",
        "\n",
        "\n"
      ],
      "metadata": {
        "id": "kf4vkW1z9P2F"
      }
    },
    {
      "cell_type": "markdown",
      "source": [
        "#**Etapa 2**#"
      ],
      "metadata": {
        "id": "LnaBLejz9oBc"
      }
    },
    {
      "cell_type": "markdown",
      "source": [
        "Nessa etapa iremos verificar os tipos de amostragem\n",
        "\n",
        "\n",
        "\n",
        "1. Verifique as amostras (Simples, sistemática, estratificada e clusterizada)\n",
        "\n",
        "\n"
      ],
      "metadata": {
        "id": "p9FEP52r-Vcu"
      }
    },
    {
      "cell_type": "code",
      "source": [
        "sample_simp25 = store20.sample(25, random_state = 0)\n",
        "# sample_simp.head()\n",
        "sample_simp50 = store20.sample(50, random_state = 0)\n",
        "sample_simp50.head()"
      ],
      "metadata": {
        "colab": {
          "base_uri": "https://localhost:8080/",
          "height": 206
        },
        "id": "F6X6YrGg7kGo",
        "outputId": "74ebc5c5-f6a6-444e-b6a7-83e550827672"
      },
      "execution_count": null,
      "outputs": [
        {
          "output_type": "execute_result",
          "data": {
            "text/plain": [
              "      Store        Date  Weekly_Sales  Holiday_Flag  Temperature  Fuel_Price  \\\n",
              "2762     20  17-12-2010    2819193.17             0        24.07        3.14   \n",
              "2835     20  11-05-2012    2168097.11             0        63.19        3.89   \n",
              "2733     20  28-05-2010    2065984.95             0        70.97        2.90   \n",
              "2773     20  04-03-2011    2143424.61             0        37.33        3.43   \n",
              "2739     20  09-07-2010    2107285.85             0        78.09        2.79   \n",
              "\n",
              "        CPI  Unemployment  \n",
              "2762 204.63          7.48  \n",
              "2835 214.53          7.14  \n",
              "2733 204.14          7.86  \n",
              "2773 206.92          7.34  \n",
              "2739 204.36          7.53  "
            ],
            "text/html": [
              "\n",
              "  <div id=\"df-b930a346-fd08-44d7-b1b4-e0472647c5b7\">\n",
              "    <div class=\"colab-df-container\">\n",
              "      <div>\n",
              "<style scoped>\n",
              "    .dataframe tbody tr th:only-of-type {\n",
              "        vertical-align: middle;\n",
              "    }\n",
              "\n",
              "    .dataframe tbody tr th {\n",
              "        vertical-align: top;\n",
              "    }\n",
              "\n",
              "    .dataframe thead th {\n",
              "        text-align: right;\n",
              "    }\n",
              "</style>\n",
              "<table border=\"1\" class=\"dataframe\">\n",
              "  <thead>\n",
              "    <tr style=\"text-align: right;\">\n",
              "      <th></th>\n",
              "      <th>Store</th>\n",
              "      <th>Date</th>\n",
              "      <th>Weekly_Sales</th>\n",
              "      <th>Holiday_Flag</th>\n",
              "      <th>Temperature</th>\n",
              "      <th>Fuel_Price</th>\n",
              "      <th>CPI</th>\n",
              "      <th>Unemployment</th>\n",
              "    </tr>\n",
              "  </thead>\n",
              "  <tbody>\n",
              "    <tr>\n",
              "      <th>2762</th>\n",
              "      <td>20</td>\n",
              "      <td>17-12-2010</td>\n",
              "      <td>2819193.17</td>\n",
              "      <td>0</td>\n",
              "      <td>24.07</td>\n",
              "      <td>3.14</td>\n",
              "      <td>204.63</td>\n",
              "      <td>7.48</td>\n",
              "    </tr>\n",
              "    <tr>\n",
              "      <th>2835</th>\n",
              "      <td>20</td>\n",
              "      <td>11-05-2012</td>\n",
              "      <td>2168097.11</td>\n",
              "      <td>0</td>\n",
              "      <td>63.19</td>\n",
              "      <td>3.89</td>\n",
              "      <td>214.53</td>\n",
              "      <td>7.14</td>\n",
              "    </tr>\n",
              "    <tr>\n",
              "      <th>2733</th>\n",
              "      <td>20</td>\n",
              "      <td>28-05-2010</td>\n",
              "      <td>2065984.95</td>\n",
              "      <td>0</td>\n",
              "      <td>70.97</td>\n",
              "      <td>2.90</td>\n",
              "      <td>204.14</td>\n",
              "      <td>7.86</td>\n",
              "    </tr>\n",
              "    <tr>\n",
              "      <th>2773</th>\n",
              "      <td>20</td>\n",
              "      <td>04-03-2011</td>\n",
              "      <td>2143424.61</td>\n",
              "      <td>0</td>\n",
              "      <td>37.33</td>\n",
              "      <td>3.43</td>\n",
              "      <td>206.92</td>\n",
              "      <td>7.34</td>\n",
              "    </tr>\n",
              "    <tr>\n",
              "      <th>2739</th>\n",
              "      <td>20</td>\n",
              "      <td>09-07-2010</td>\n",
              "      <td>2107285.85</td>\n",
              "      <td>0</td>\n",
              "      <td>78.09</td>\n",
              "      <td>2.79</td>\n",
              "      <td>204.36</td>\n",
              "      <td>7.53</td>\n",
              "    </tr>\n",
              "  </tbody>\n",
              "</table>\n",
              "</div>\n",
              "      <button class=\"colab-df-convert\" onclick=\"convertToInteractive('df-b930a346-fd08-44d7-b1b4-e0472647c5b7')\"\n",
              "              title=\"Convert this dataframe to an interactive table.\"\n",
              "              style=\"display:none;\">\n",
              "        \n",
              "  <svg xmlns=\"http://www.w3.org/2000/svg\" height=\"24px\"viewBox=\"0 0 24 24\"\n",
              "       width=\"24px\">\n",
              "    <path d=\"M0 0h24v24H0V0z\" fill=\"none\"/>\n",
              "    <path d=\"M18.56 5.44l.94 2.06.94-2.06 2.06-.94-2.06-.94-.94-2.06-.94 2.06-2.06.94zm-11 1L8.5 8.5l.94-2.06 2.06-.94-2.06-.94L8.5 2.5l-.94 2.06-2.06.94zm10 10l.94 2.06.94-2.06 2.06-.94-2.06-.94-.94-2.06-.94 2.06-2.06.94z\"/><path d=\"M17.41 7.96l-1.37-1.37c-.4-.4-.92-.59-1.43-.59-.52 0-1.04.2-1.43.59L10.3 9.45l-7.72 7.72c-.78.78-.78 2.05 0 2.83L4 21.41c.39.39.9.59 1.41.59.51 0 1.02-.2 1.41-.59l7.78-7.78 2.81-2.81c.8-.78.8-2.07 0-2.86zM5.41 20L4 18.59l7.72-7.72 1.47 1.35L5.41 20z\"/>\n",
              "  </svg>\n",
              "      </button>\n",
              "      \n",
              "  <style>\n",
              "    .colab-df-container {\n",
              "      display:flex;\n",
              "      flex-wrap:wrap;\n",
              "      gap: 12px;\n",
              "    }\n",
              "\n",
              "    .colab-df-convert {\n",
              "      background-color: #E8F0FE;\n",
              "      border: none;\n",
              "      border-radius: 50%;\n",
              "      cursor: pointer;\n",
              "      display: none;\n",
              "      fill: #1967D2;\n",
              "      height: 32px;\n",
              "      padding: 0 0 0 0;\n",
              "      width: 32px;\n",
              "    }\n",
              "\n",
              "    .colab-df-convert:hover {\n",
              "      background-color: #E2EBFA;\n",
              "      box-shadow: 0px 1px 2px rgba(60, 64, 67, 0.3), 0px 1px 3px 1px rgba(60, 64, 67, 0.15);\n",
              "      fill: #174EA6;\n",
              "    }\n",
              "\n",
              "    [theme=dark] .colab-df-convert {\n",
              "      background-color: #3B4455;\n",
              "      fill: #D2E3FC;\n",
              "    }\n",
              "\n",
              "    [theme=dark] .colab-df-convert:hover {\n",
              "      background-color: #434B5C;\n",
              "      box-shadow: 0px 1px 3px 1px rgba(0, 0, 0, 0.15);\n",
              "      filter: drop-shadow(0px 1px 2px rgba(0, 0, 0, 0.3));\n",
              "      fill: #FFFFFF;\n",
              "    }\n",
              "  </style>\n",
              "\n",
              "      <script>\n",
              "        const buttonEl =\n",
              "          document.querySelector('#df-b930a346-fd08-44d7-b1b4-e0472647c5b7 button.colab-df-convert');\n",
              "        buttonEl.style.display =\n",
              "          google.colab.kernel.accessAllowed ? 'block' : 'none';\n",
              "\n",
              "        async function convertToInteractive(key) {\n",
              "          const element = document.querySelector('#df-b930a346-fd08-44d7-b1b4-e0472647c5b7');\n",
              "          const dataTable =\n",
              "            await google.colab.kernel.invokeFunction('convertToInteractive',\n",
              "                                                     [key], {});\n",
              "          if (!dataTable) return;\n",
              "\n",
              "          const docLinkHtml = 'Like what you see? Visit the ' +\n",
              "            '<a target=\"_blank\" href=https://colab.research.google.com/notebooks/data_table.ipynb>data table notebook</a>'\n",
              "            + ' to learn more about interactive tables.';\n",
              "          element.innerHTML = '';\n",
              "          dataTable['output_type'] = 'display_data';\n",
              "          await google.colab.output.renderOutput(dataTable, element);\n",
              "          const docLink = document.createElement('div');\n",
              "          docLink.innerHTML = docLinkHtml;\n",
              "          element.appendChild(docLink);\n",
              "        }\n",
              "      </script>\n",
              "    </div>\n",
              "  </div>\n",
              "  "
            ]
          },
          "metadata": {},
          "execution_count": 29
        }
      ]
    },
    {
      "cell_type": "code",
      "source": [
        "r_store20 = store20.mean()\n",
        "r_store20\n",
        "amostrasistematica = store20[\"Unemployment\"]"
      ],
      "metadata": {
        "colab": {
          "base_uri": "https://localhost:8080/"
        },
        "id": "C1qi8g7G8nvE",
        "outputId": "93cb66be-d0ca-4733-8443-11ef7360c139"
      },
      "execution_count": null,
      "outputs": [
        {
          "output_type": "stream",
          "name": "stderr",
          "text": [
            "/usr/local/lib/python3.7/dist-packages/ipykernel_launcher.py:1: FutureWarning: Dropping of nuisance columns in DataFrame reductions (with 'numeric_only=None') is deprecated; in a future version this will raise TypeError.  Select only valid columns before calling the reduction.\n",
            "  \"\"\"Entry point for launching an IPython kernel.\n"
          ]
        },
        {
          "output_type": "execute_result",
          "data": {
            "text/plain": [
              "Store               20.00\n",
              "Weekly_Sales   2107676.87\n",
              "Holiday_Flag         0.07\n",
              "Temperature         55.45\n",
              "Fuel_Price           3.42\n",
              "CPI                209.04\n",
              "Unemployment         7.37\n",
              "dtype: float64"
            ]
          },
          "metadata": {},
          "execution_count": 31
        }
      ]
    },
    {
      "cell_type": "markdown",
      "source": [
        "#**Etapa 3 (PLUS)**#"
      ],
      "metadata": {
        "id": "RIQh018h_B_F"
      }
    },
    {
      "cell_type": "markdown",
      "source": [
        "Vamos analisar os dados das lojas conforme solicitado acima\n",
        "\n",
        "\n",
        "\n",
        "1. Verificando as 20 lojas conforme solicitado utilizando distribuição normal\n",
        "\n",
        "2. Filtrando o dataset e plotando seu histograma\n",
        "\n",
        "3. Realizando o teste com amostragem aleatória simples com 25 amostras\n",
        "4. Verificando a média da população\n",
        "5. Visualizando a distruibuição por dados com ele são\n",
        "\n",
        "6. Visualizando a distribuição dos dados aplicando o teorema do limite central\n",
        "\n",
        "7. Realizando o teste com uma amostragem aleatória simples com 50 amostras -> Teorema do Limite Central -> Teste Normal\n",
        "\n",
        "8. Verificando a média da população\n",
        "\n"
      ],
      "metadata": {
        "id": "6xUlrHnv_HBD"
      }
    },
    {
      "cell_type": "markdown",
      "metadata": {
        "id": "IcVa7VlmS6lH"
      },
      "source": [
        "# Etapa 01\n",
        "\n"
      ]
    },
    {
      "cell_type": "markdown",
      "metadata": {
        "id": "-0aJvykDhAes"
      },
      "source": [
        "## População"
      ]
    },
    {
      "cell_type": "code",
      "source": [
        "# Todos os dados possíveis\n",
        "df.head()"
      ],
      "metadata": {
        "id": "J8a9lShMG4bH",
        "colab": {
          "base_uri": "https://localhost:8080/",
          "height": 206
        },
        "outputId": "2239224c-8bd6-445a-ca42-87c845f62d85"
      },
      "execution_count": null,
      "outputs": [
        {
          "output_type": "execute_result",
          "data": {
            "text/plain": [
              "   Store        Date  Weekly_Sales  Holiday_Flag  Temperature  Fuel_Price  \\\n",
              "0      1  05-02-2010    1643690.90             0        42.31        2.57   \n",
              "1      1  12-02-2010    1641957.44             1        38.51        2.55   \n",
              "2      1  19-02-2010    1611968.17             0        39.93        2.51   \n",
              "3      1  26-02-2010    1409727.59             0        46.63        2.56   \n",
              "4      1  05-03-2010    1554806.68             0        46.50        2.62   \n",
              "\n",
              "     CPI  Unemployment  media_WS_store  \n",
              "0 211.10          8.11      1555264.40  \n",
              "1 211.24          8.11      1555264.40  \n",
              "2 211.29          8.11      1555264.40  \n",
              "3 211.32          8.11      1555264.40  \n",
              "4 211.35          8.11      1555264.40  "
            ],
            "text/html": [
              "\n",
              "  <div id=\"df-22ca7e08-3abe-4669-8a74-786a0ea6ae11\">\n",
              "    <div class=\"colab-df-container\">\n",
              "      <div>\n",
              "<style scoped>\n",
              "    .dataframe tbody tr th:only-of-type {\n",
              "        vertical-align: middle;\n",
              "    }\n",
              "\n",
              "    .dataframe tbody tr th {\n",
              "        vertical-align: top;\n",
              "    }\n",
              "\n",
              "    .dataframe thead th {\n",
              "        text-align: right;\n",
              "    }\n",
              "</style>\n",
              "<table border=\"1\" class=\"dataframe\">\n",
              "  <thead>\n",
              "    <tr style=\"text-align: right;\">\n",
              "      <th></th>\n",
              "      <th>Store</th>\n",
              "      <th>Date</th>\n",
              "      <th>Weekly_Sales</th>\n",
              "      <th>Holiday_Flag</th>\n",
              "      <th>Temperature</th>\n",
              "      <th>Fuel_Price</th>\n",
              "      <th>CPI</th>\n",
              "      <th>Unemployment</th>\n",
              "      <th>media_WS_store</th>\n",
              "    </tr>\n",
              "  </thead>\n",
              "  <tbody>\n",
              "    <tr>\n",
              "      <th>0</th>\n",
              "      <td>1</td>\n",
              "      <td>05-02-2010</td>\n",
              "      <td>1643690.90</td>\n",
              "      <td>0</td>\n",
              "      <td>42.31</td>\n",
              "      <td>2.57</td>\n",
              "      <td>211.10</td>\n",
              "      <td>8.11</td>\n",
              "      <td>1555264.40</td>\n",
              "    </tr>\n",
              "    <tr>\n",
              "      <th>1</th>\n",
              "      <td>1</td>\n",
              "      <td>12-02-2010</td>\n",
              "      <td>1641957.44</td>\n",
              "      <td>1</td>\n",
              "      <td>38.51</td>\n",
              "      <td>2.55</td>\n",
              "      <td>211.24</td>\n",
              "      <td>8.11</td>\n",
              "      <td>1555264.40</td>\n",
              "    </tr>\n",
              "    <tr>\n",
              "      <th>2</th>\n",
              "      <td>1</td>\n",
              "      <td>19-02-2010</td>\n",
              "      <td>1611968.17</td>\n",
              "      <td>0</td>\n",
              "      <td>39.93</td>\n",
              "      <td>2.51</td>\n",
              "      <td>211.29</td>\n",
              "      <td>8.11</td>\n",
              "      <td>1555264.40</td>\n",
              "    </tr>\n",
              "    <tr>\n",
              "      <th>3</th>\n",
              "      <td>1</td>\n",
              "      <td>26-02-2010</td>\n",
              "      <td>1409727.59</td>\n",
              "      <td>0</td>\n",
              "      <td>46.63</td>\n",
              "      <td>2.56</td>\n",
              "      <td>211.32</td>\n",
              "      <td>8.11</td>\n",
              "      <td>1555264.40</td>\n",
              "    </tr>\n",
              "    <tr>\n",
              "      <th>4</th>\n",
              "      <td>1</td>\n",
              "      <td>05-03-2010</td>\n",
              "      <td>1554806.68</td>\n",
              "      <td>0</td>\n",
              "      <td>46.50</td>\n",
              "      <td>2.62</td>\n",
              "      <td>211.35</td>\n",
              "      <td>8.11</td>\n",
              "      <td>1555264.40</td>\n",
              "    </tr>\n",
              "  </tbody>\n",
              "</table>\n",
              "</div>\n",
              "      <button class=\"colab-df-convert\" onclick=\"convertToInteractive('df-22ca7e08-3abe-4669-8a74-786a0ea6ae11')\"\n",
              "              title=\"Convert this dataframe to an interactive table.\"\n",
              "              style=\"display:none;\">\n",
              "        \n",
              "  <svg xmlns=\"http://www.w3.org/2000/svg\" height=\"24px\"viewBox=\"0 0 24 24\"\n",
              "       width=\"24px\">\n",
              "    <path d=\"M0 0h24v24H0V0z\" fill=\"none\"/>\n",
              "    <path d=\"M18.56 5.44l.94 2.06.94-2.06 2.06-.94-2.06-.94-.94-2.06-.94 2.06-2.06.94zm-11 1L8.5 8.5l.94-2.06 2.06-.94-2.06-.94L8.5 2.5l-.94 2.06-2.06.94zm10 10l.94 2.06.94-2.06 2.06-.94-2.06-.94-.94-2.06-.94 2.06-2.06.94z\"/><path d=\"M17.41 7.96l-1.37-1.37c-.4-.4-.92-.59-1.43-.59-.52 0-1.04.2-1.43.59L10.3 9.45l-7.72 7.72c-.78.78-.78 2.05 0 2.83L4 21.41c.39.39.9.59 1.41.59.51 0 1.02-.2 1.41-.59l7.78-7.78 2.81-2.81c.8-.78.8-2.07 0-2.86zM5.41 20L4 18.59l7.72-7.72 1.47 1.35L5.41 20z\"/>\n",
              "  </svg>\n",
              "      </button>\n",
              "      \n",
              "  <style>\n",
              "    .colab-df-container {\n",
              "      display:flex;\n",
              "      flex-wrap:wrap;\n",
              "      gap: 12px;\n",
              "    }\n",
              "\n",
              "    .colab-df-convert {\n",
              "      background-color: #E8F0FE;\n",
              "      border: none;\n",
              "      border-radius: 50%;\n",
              "      cursor: pointer;\n",
              "      display: none;\n",
              "      fill: #1967D2;\n",
              "      height: 32px;\n",
              "      padding: 0 0 0 0;\n",
              "      width: 32px;\n",
              "    }\n",
              "\n",
              "    .colab-df-convert:hover {\n",
              "      background-color: #E2EBFA;\n",
              "      box-shadow: 0px 1px 2px rgba(60, 64, 67, 0.3), 0px 1px 3px 1px rgba(60, 64, 67, 0.15);\n",
              "      fill: #174EA6;\n",
              "    }\n",
              "\n",
              "    [theme=dark] .colab-df-convert {\n",
              "      background-color: #3B4455;\n",
              "      fill: #D2E3FC;\n",
              "    }\n",
              "\n",
              "    [theme=dark] .colab-df-convert:hover {\n",
              "      background-color: #434B5C;\n",
              "      box-shadow: 0px 1px 3px 1px rgba(0, 0, 0, 0.15);\n",
              "      filter: drop-shadow(0px 1px 2px rgba(0, 0, 0, 0.3));\n",
              "      fill: #FFFFFF;\n",
              "    }\n",
              "  </style>\n",
              "\n",
              "      <script>\n",
              "        const buttonEl =\n",
              "          document.querySelector('#df-22ca7e08-3abe-4669-8a74-786a0ea6ae11 button.colab-df-convert');\n",
              "        buttonEl.style.display =\n",
              "          google.colab.kernel.accessAllowed ? 'block' : 'none';\n",
              "\n",
              "        async function convertToInteractive(key) {\n",
              "          const element = document.querySelector('#df-22ca7e08-3abe-4669-8a74-786a0ea6ae11');\n",
              "          const dataTable =\n",
              "            await google.colab.kernel.invokeFunction('convertToInteractive',\n",
              "                                                     [key], {});\n",
              "          if (!dataTable) return;\n",
              "\n",
              "          const docLinkHtml = 'Like what you see? Visit the ' +\n",
              "            '<a target=\"_blank\" href=https://colab.research.google.com/notebooks/data_table.ipynb>data table notebook</a>'\n",
              "            + ' to learn more about interactive tables.';\n",
              "          element.innerHTML = '';\n",
              "          dataTable['output_type'] = 'display_data';\n",
              "          await google.colab.output.renderOutput(dataTable, element);\n",
              "          const docLink = document.createElement('div');\n",
              "          docLink.innerHTML = docLinkHtml;\n",
              "          element.appendChild(docLink);\n",
              "        }\n",
              "      </script>\n",
              "    </div>\n",
              "  </div>\n",
              "  "
            ]
          },
          "metadata": {},
          "execution_count": 44
        }
      ]
    },
    {
      "cell_type": "code",
      "source": [
        "# Boxplot das vendas semanais por loja\n",
        "ax = sns.boxplot(y= 'Weekly_Sales', x= 'Store', data = df, orient = 'v', width = 0.5)\n",
        "ax.figure.set_size_inches(20,6) "
      ],
      "metadata": {
        "id": "6AQsZYisOjqK",
        "colab": {
          "base_uri": "https://localhost:8080/",
          "height": 399
        },
        "outputId": "663e27bd-cf4e-4298-de35-98d749a1ab1c"
      },
      "execution_count": null,
      "outputs": [
        {
          "output_type": "display_data",
          "data": {
            "text/plain": [
              "<Figure size 1440x432 with 1 Axes>"
            ],
            "image/png": "[encoded data removed]"
          },
          "metadata": {
            "needs_background": "light"
          }
        }
      ]
    },
    {
      "cell_type": "code",
      "source": [
        "# Distribuição das vendas semanais da loja 20\n",
        "sns.histplot(x = \"Weekly_Sales\", kde =True, data = store20)"
      ],
      "metadata": {
        "id": "0pRxR78xBYVD",
        "colab": {
          "base_uri": "https://localhost:8080/",
          "height": 297
        },
        "outputId": "c1d0cb39-fa17-4779-deed-873632ee46e9"
      },
      "execution_count": null,
      "outputs": [
        {
          "output_type": "execute_result",
          "data": {
            "text/plain": [
              "<matplotlib.axes._subplots.AxesSubplot at 0x7f3b625019d0>"
            ]
          },
          "metadata": {},
          "execution_count": 52
        },
        {
          "output_type": "display_data",
          "data": {
            "text/plain": [
              "<Figure size 432x288 with 1 Axes>"
            ],
            "image/png": "[encoded data removed]"
          },
          "metadata": {
            "needs_background": "light"
          }
        }
      ]
    },
    {
      "cell_type": "code",
      "source": [
        "# Verificando se as vendas em período de feriado tem uma variação maior\n",
        "sns.barplot(data = df, x = \"Holiday_Flag\", y =\"Weekly_Sales\"  )\n",
        "sns.barplot(data = store20, x = \"Holiday_Flag\", y =\"Weekly_Sales\"  )"
      ],
      "metadata": {
        "id": "j6-VLUjAOn9z",
        "colab": {
          "base_uri": "https://localhost:8080/",
          "height": 308
        },
        "outputId": "e1335f5c-8e76-4a35-81a4-160d880c893c"
      },
      "execution_count": null,
      "outputs": [
        {
          "output_type": "execute_result",
          "data": {
            "text/plain": [
              "<matplotlib.axes._subplots.AxesSubplot at 0x7f3b623ab590>"
            ]
          },
          "metadata": {},
          "execution_count": 54
        },
        {
          "output_type": "display_data",
          "data": {
            "text/plain": [
              "<Figure size 432x288 with 1 Axes>"
            ],
            "image/png": "[encoded data removed]"
          },
          "metadata": {
            "needs_background": "light"
          }
        }
      ]
    },
    {
      "cell_type": "markdown",
      "source": [
        "# Etapa 02"
      ],
      "metadata": {
        "id": "tyYTSR_bowS8"
      }
    },
    {
      "cell_type": "markdown",
      "metadata": {
        "id": "bBkfbCMPg6-Q"
      },
      "source": [
        "## Amostragem Simples "
      ]
    },
    {
      "cell_type": "code",
      "source": [
        "# Amostrando simples usando o random_state\n",
        "sample_simp25 = store20.sample(25, random_state = 0)\n",
        "# sample_simp.head()\n",
        "sample_simp50 = store20.sample(50, random_state = 0)\n",
        "sample_simp50.head()"
      ],
      "metadata": {
        "id": "5UkmnHcYG-rf",
        "colab": {
          "base_uri": "https://localhost:8080/",
          "height": 206
        },
        "outputId": "9fdfbbc9-5637-4800-b3a8-81529368caa8"
      },
      "execution_count": null,
      "outputs": [
        {
          "output_type": "execute_result",
          "data": {
            "text/plain": [
              "      Store        Date  Weekly_Sales  Holiday_Flag  Temperature  Fuel_Price  \\\n",
              "2762     20  17-12-2010    2819193.17             0        24.07        3.14   \n",
              "2835     20  11-05-2012    2168097.11             0        63.19        3.89   \n",
              "2733     20  28-05-2010    2065984.95             0        70.97        2.90   \n",
              "2773     20  04-03-2011    2143424.61             0        37.33        3.43   \n",
              "2739     20  09-07-2010    2107285.85             0        78.09        2.79   \n",
              "\n",
              "        CPI  Unemployment  \n",
              "2762 204.63          7.48  \n",
              "2835 214.53          7.14  \n",
              "2733 204.14          7.86  \n",
              "2773 206.92          7.34  \n",
              "2739 204.36          7.53  "
            ],
            "text/html": [
              "\n",
              "  <div id=\"df-cb921912-5df8-4067-963e-f6b048c26de4\">\n",
              "    <div class=\"colab-df-container\">\n",
              "      <div>\n",
              "<style scoped>\n",
              "    .dataframe tbody tr th:only-of-type {\n",
              "        vertical-align: middle;\n",
              "    }\n",
              "\n",
              "    .dataframe tbody tr th {\n",
              "        vertical-align: top;\n",
              "    }\n",
              "\n",
              "    .dataframe thead th {\n",
              "        text-align: right;\n",
              "    }\n",
              "</style>\n",
              "<table border=\"1\" class=\"dataframe\">\n",
              "  <thead>\n",
              "    <tr style=\"text-align: right;\">\n",
              "      <th></th>\n",
              "      <th>Store</th>\n",
              "      <th>Date</th>\n",
              "      <th>Weekly_Sales</th>\n",
              "      <th>Holiday_Flag</th>\n",
              "      <th>Temperature</th>\n",
              "      <th>Fuel_Price</th>\n",
              "      <th>CPI</th>\n",
              "      <th>Unemployment</th>\n",
              "    </tr>\n",
              "  </thead>\n",
              "  <tbody>\n",
              "    <tr>\n",
              "      <th>2762</th>\n",
              "      <td>20</td>\n",
              "      <td>17-12-2010</td>\n",
              "      <td>2819193.17</td>\n",
              "      <td>0</td>\n",
              "      <td>24.07</td>\n",
              "      <td>3.14</td>\n",
              "      <td>204.63</td>\n",
              "      <td>7.48</td>\n",
              "    </tr>\n",
              "    <tr>\n",
              "      <th>2835</th>\n",
              "      <td>20</td>\n",
              "      <td>11-05-2012</td>\n",
              "      <td>2168097.11</td>\n",
              "      <td>0</td>\n",
              "      <td>63.19</td>\n",
              "      <td>3.89</td>\n",
              "      <td>214.53</td>\n",
              "      <td>7.14</td>\n",
              "    </tr>\n",
              "    <tr>\n",
              "      <th>2733</th>\n",
              "      <td>20</td>\n",
              "      <td>28-05-2010</td>\n",
              "      <td>2065984.95</td>\n",
              "      <td>0</td>\n",
              "      <td>70.97</td>\n",
              "      <td>2.90</td>\n",
              "      <td>204.14</td>\n",
              "      <td>7.86</td>\n",
              "    </tr>\n",
              "    <tr>\n",
              "      <th>2773</th>\n",
              "      <td>20</td>\n",
              "      <td>04-03-2011</td>\n",
              "      <td>2143424.61</td>\n",
              "      <td>0</td>\n",
              "      <td>37.33</td>\n",
              "      <td>3.43</td>\n",
              "      <td>206.92</td>\n",
              "      <td>7.34</td>\n",
              "    </tr>\n",
              "    <tr>\n",
              "      <th>2739</th>\n",
              "      <td>20</td>\n",
              "      <td>09-07-2010</td>\n",
              "      <td>2107285.85</td>\n",
              "      <td>0</td>\n",
              "      <td>78.09</td>\n",
              "      <td>2.79</td>\n",
              "      <td>204.36</td>\n",
              "      <td>7.53</td>\n",
              "    </tr>\n",
              "  </tbody>\n",
              "</table>\n",
              "</div>\n",
              "      <button class=\"colab-df-convert\" onclick=\"convertToInteractive('df-cb921912-5df8-4067-963e-f6b048c26de4')\"\n",
              "              title=\"Convert this dataframe to an interactive table.\"\n",
              "              style=\"display:none;\">\n",
              "        \n",
              "  <svg xmlns=\"http://www.w3.org/2000/svg\" height=\"24px\"viewBox=\"0 0 24 24\"\n",
              "       width=\"24px\">\n",
              "    <path d=\"M0 0h24v24H0V0z\" fill=\"none\"/>\n",
              "    <path d=\"M18.56 5.44l.94 2.06.94-2.06 2.06-.94-2.06-.94-.94-2.06-.94 2.06-2.06.94zm-11 1L8.5 8.5l.94-2.06 2.06-.94-2.06-.94L8.5 2.5l-.94 2.06-2.06.94zm10 10l.94 2.06.94-2.06 2.06-.94-2.06-.94-.94-2.06-.94 2.06-2.06.94z\"/><path d=\"M17.41 7.96l-1.37-1.37c-.4-.4-.92-.59-1.43-.59-.52 0-1.04.2-1.43.59L10.3 9.45l-7.72 7.72c-.78.78-.78 2.05 0 2.83L4 21.41c.39.39.9.59 1.41.59.51 0 1.02-.2 1.41-.59l7.78-7.78 2.81-2.81c.8-.78.8-2.07 0-2.86zM5.41 20L4 18.59l7.72-7.72 1.47 1.35L5.41 20z\"/>\n",
              "  </svg>\n",
              "      </button>\n",
              "      \n",
              "  <style>\n",
              "    .colab-df-container {\n",
              "      display:flex;\n",
              "      flex-wrap:wrap;\n",
              "      gap: 12px;\n",
              "    }\n",
              "\n",
              "    .colab-df-convert {\n",
              "      background-color: #E8F0FE;\n",
              "      border: none;\n",
              "      border-radius: 50%;\n",
              "      cursor: pointer;\n",
              "      display: none;\n",
              "      fill: #1967D2;\n",
              "      height: 32px;\n",
              "      padding: 0 0 0 0;\n",
              "      width: 32px;\n",
              "    }\n",
              "\n",
              "    .colab-df-convert:hover {\n",
              "      background-color: #E2EBFA;\n",
              "      box-shadow: 0px 1px 2px rgba(60, 64, 67, 0.3), 0px 1px 3px 1px rgba(60, 64, 67, 0.15);\n",
              "      fill: #174EA6;\n",
              "    }\n",
              "\n",
              "    [theme=dark] .colab-df-convert {\n",
              "      background-color: #3B4455;\n",
              "      fill: #D2E3FC;\n",
              "    }\n",
              "\n",
              "    [theme=dark] .colab-df-convert:hover {\n",
              "      background-color: #434B5C;\n",
              "      box-shadow: 0px 1px 3px 1px rgba(0, 0, 0, 0.15);\n",
              "      filter: drop-shadow(0px 1px 2px rgba(0, 0, 0, 0.3));\n",
              "      fill: #FFFFFF;\n",
              "    }\n",
              "  </style>\n",
              "\n",
              "      <script>\n",
              "        const buttonEl =\n",
              "          document.querySelector('#df-cb921912-5df8-4067-963e-f6b048c26de4 button.colab-df-convert');\n",
              "        buttonEl.style.display =\n",
              "          google.colab.kernel.accessAllowed ? 'block' : 'none';\n",
              "\n",
              "        async function convertToInteractive(key) {\n",
              "          const element = document.querySelector('#df-cb921912-5df8-4067-963e-f6b048c26de4');\n",
              "          const dataTable =\n",
              "            await google.colab.kernel.invokeFunction('convertToInteractive',\n",
              "                                                     [key], {});\n",
              "          if (!dataTable) return;\n",
              "\n",
              "          const docLinkHtml = 'Like what you see? Visit the ' +\n",
              "            '<a target=\"_blank\" href=https://colab.research.google.com/notebooks/data_table.ipynb>data table notebook</a>'\n",
              "            + ' to learn more about interactive tables.';\n",
              "          element.innerHTML = '';\n",
              "          dataTable['output_type'] = 'display_data';\n",
              "          await google.colab.output.renderOutput(dataTable, element);\n",
              "          const docLink = document.createElement('div');\n",
              "          docLink.innerHTML = docLinkHtml;\n",
              "          element.appendChild(docLink);\n",
              "        }\n",
              "      </script>\n",
              "    </div>\n",
              "  </div>\n",
              "  "
            ]
          },
          "metadata": {},
          "execution_count": 55
        }
      ]
    },
    {
      "cell_type": "code",
      "source": [
        "# Amostrando simples usando o seed\n",
        "np.random.seed(10)\n",
        "amostra25 = df.sample(25)\n",
        "amostra50 = df.sample(50)\n",
        "amostra50.head()\n"
      ],
      "metadata": {
        "id": "KR6zC54WHIPt",
        "colab": {
          "base_uri": "https://localhost:8080/",
          "height": 206
        },
        "outputId": "ab66876c-0ac4-442e-b855-c12f9a915d7b"
      },
      "execution_count": null,
      "outputs": [
        {
          "output_type": "execute_result",
          "data": {
            "text/plain": [
              "      Store        Date  Weekly_Sales  Holiday_Flag  Temperature  Fuel_Price  \\\n",
              "1986     14  13-07-2012    1544422.35             0        79.97        3.52   \n",
              "5276     37  20-07-2012     503744.56             0        81.76        3.31   \n",
              "5377     38  30-09-2011     366819.84             0        83.26        3.88   \n",
              "874       7  28-05-2010     442734.55             0        54.24        2.74   \n",
              "2036     15  01-10-2010     566945.95             0        59.69        2.84   \n",
              "\n",
              "        CPI  Unemployment  media_WS_store  \n",
              "1986 191.17          8.68      2020978.40  \n",
              "5276 220.61          6.62       518900.28  \n",
              "5377 129.61         13.50       385731.65  \n",
              "874  189.45          8.96       570617.31  \n",
              "2036 132.76          8.07       623312.47  "
            ],
            "text/html": [
              "\n",
              "  <div id=\"df-897661c8-ddd2-4bfd-86c1-6fbda7be0a37\">\n",
              "    <div class=\"colab-df-container\">\n",
              "      <div>\n",
              "<style scoped>\n",
              "    .dataframe tbody tr th:only-of-type {\n",
              "        vertical-align: middle;\n",
              "    }\n",
              "\n",
              "    .dataframe tbody tr th {\n",
              "        vertical-align: top;\n",
              "    }\n",
              "\n",
              "    .dataframe thead th {\n",
              "        text-align: right;\n",
              "    }\n",
              "</style>\n",
              "<table border=\"1\" class=\"dataframe\">\n",
              "  <thead>\n",
              "    <tr style=\"text-align: right;\">\n",
              "      <th></th>\n",
              "      <th>Store</th>\n",
              "      <th>Date</th>\n",
              "      <th>Weekly_Sales</th>\n",
              "      <th>Holiday_Flag</th>\n",
              "      <th>Temperature</th>\n",
              "      <th>Fuel_Price</th>\n",
              "      <th>CPI</th>\n",
              "      <th>Unemployment</th>\n",
              "      <th>media_WS_store</th>\n",
              "    </tr>\n",
              "  </thead>\n",
              "  <tbody>\n",
              "    <tr>\n",
              "      <th>1986</th>\n",
              "      <td>14</td>\n",
              "      <td>13-07-2012</td>\n",
              "      <td>1544422.35</td>\n",
              "      <td>0</td>\n",
              "      <td>79.97</td>\n",
              "      <td>3.52</td>\n",
              "      <td>191.17</td>\n",
              "      <td>8.68</td>\n",
              "      <td>2020978.40</td>\n",
              "    </tr>\n",
              "    <tr>\n",
              "      <th>5276</th>\n",
              "      <td>37</td>\n",
              "      <td>20-07-2012</td>\n",
              "      <td>503744.56</td>\n",
              "      <td>0</td>\n",
              "      <td>81.76</td>\n",
              "      <td>3.31</td>\n",
              "      <td>220.61</td>\n",
              "      <td>6.62</td>\n",
              "      <td>518900.28</td>\n",
              "    </tr>\n",
              "    <tr>\n",
              "      <th>5377</th>\n",
              "      <td>38</td>\n",
              "      <td>30-09-2011</td>\n",
              "      <td>366819.84</td>\n",
              "      <td>0</td>\n",
              "      <td>83.26</td>\n",
              "      <td>3.88</td>\n",
              "      <td>129.61</td>\n",
              "      <td>13.50</td>\n",
              "      <td>385731.65</td>\n",
              "    </tr>\n",
              "    <tr>\n",
              "      <th>874</th>\n",
              "      <td>7</td>\n",
              "      <td>28-05-2010</td>\n",
              "      <td>442734.55</td>\n",
              "      <td>0</td>\n",
              "      <td>54.24</td>\n",
              "      <td>2.74</td>\n",
              "      <td>189.45</td>\n",
              "      <td>8.96</td>\n",
              "      <td>570617.31</td>\n",
              "    </tr>\n",
              "    <tr>\n",
              "      <th>2036</th>\n",
              "      <td>15</td>\n",
              "      <td>01-10-2010</td>\n",
              "      <td>566945.95</td>\n",
              "      <td>0</td>\n",
              "      <td>59.69</td>\n",
              "      <td>2.84</td>\n",
              "      <td>132.76</td>\n",
              "      <td>8.07</td>\n",
              "      <td>623312.47</td>\n",
              "    </tr>\n",
              "  </tbody>\n",
              "</table>\n",
              "</div>\n",
              "      <button class=\"colab-df-convert\" onclick=\"convertToInteractive('df-897661c8-ddd2-4bfd-86c1-6fbda7be0a37')\"\n",
              "              title=\"Convert this dataframe to an interactive table.\"\n",
              "              style=\"display:none;\">\n",
              "        \n",
              "  <svg xmlns=\"http://www.w3.org/2000/svg\" height=\"24px\"viewBox=\"0 0 24 24\"\n",
              "       width=\"24px\">\n",
              "    <path d=\"M0 0h24v24H0V0z\" fill=\"none\"/>\n",
              "    <path d=\"M18.56 5.44l.94 2.06.94-2.06 2.06-.94-2.06-.94-.94-2.06-.94 2.06-2.06.94zm-11 1L8.5 8.5l.94-2.06 2.06-.94-2.06-.94L8.5 2.5l-.94 2.06-2.06.94zm10 10l.94 2.06.94-2.06 2.06-.94-2.06-.94-.94-2.06-.94 2.06-2.06.94z\"/><path d=\"M17.41 7.96l-1.37-1.37c-.4-.4-.92-.59-1.43-.59-.52 0-1.04.2-1.43.59L10.3 9.45l-7.72 7.72c-.78.78-.78 2.05 0 2.83L4 21.41c.39.39.9.59 1.41.59.51 0 1.02-.2 1.41-.59l7.78-7.78 2.81-2.81c.8-.78.8-2.07 0-2.86zM5.41 20L4 18.59l7.72-7.72 1.47 1.35L5.41 20z\"/>\n",
              "  </svg>\n",
              "      </button>\n",
              "      \n",
              "  <style>\n",
              "    .colab-df-container {\n",
              "      display:flex;\n",
              "      flex-wrap:wrap;\n",
              "      gap: 12px;\n",
              "    }\n",
              "\n",
              "    .colab-df-convert {\n",
              "      background-color: #E8F0FE;\n",
              "      border: none;\n",
              "      border-radius: 50%;\n",
              "      cursor: pointer;\n",
              "      display: none;\n",
              "      fill: #1967D2;\n",
              "      height: 32px;\n",
              "      padding: 0 0 0 0;\n",
              "      width: 32px;\n",
              "    }\n",
              "\n",
              "    .colab-df-convert:hover {\n",
              "      background-color: #E2EBFA;\n",
              "      box-shadow: 0px 1px 2px rgba(60, 64, 67, 0.3), 0px 1px 3px 1px rgba(60, 64, 67, 0.15);\n",
              "      fill: #174EA6;\n",
              "    }\n",
              "\n",
              "    [theme=dark] .colab-df-convert {\n",
              "      background-color: #3B4455;\n",
              "      fill: #D2E3FC;\n",
              "    }\n",
              "\n",
              "    [theme=dark] .colab-df-convert:hover {\n",
              "      background-color: #434B5C;\n",
              "      box-shadow: 0px 1px 3px 1px rgba(0, 0, 0, 0.15);\n",
              "      filter: drop-shadow(0px 1px 2px rgba(0, 0, 0, 0.3));\n",
              "      fill: #FFFFFF;\n",
              "    }\n",
              "  </style>\n",
              "\n",
              "      <script>\n",
              "        const buttonEl =\n",
              "          document.querySelector('#df-897661c8-ddd2-4bfd-86c1-6fbda7be0a37 button.colab-df-convert');\n",
              "        buttonEl.style.display =\n",
              "          google.colab.kernel.accessAllowed ? 'block' : 'none';\n",
              "\n",
              "        async function convertToInteractive(key) {\n",
              "          const element = document.querySelector('#df-897661c8-ddd2-4bfd-86c1-6fbda7be0a37');\n",
              "          const dataTable =\n",
              "            await google.colab.kernel.invokeFunction('convertToInteractive',\n",
              "                                                     [key], {});\n",
              "          if (!dataTable) return;\n",
              "\n",
              "          const docLinkHtml = 'Like what you see? Visit the ' +\n",
              "            '<a target=\"_blank\" href=https://colab.research.google.com/notebooks/data_table.ipynb>data table notebook</a>'\n",
              "            + ' to learn more about interactive tables.';\n",
              "          element.innerHTML = '';\n",
              "          dataTable['output_type'] = 'display_data';\n",
              "          await google.colab.output.renderOutput(dataTable, element);\n",
              "          const docLink = document.createElement('div');\n",
              "          docLink.innerHTML = docLinkHtml;\n",
              "          element.appendChild(docLink);\n",
              "        }\n",
              "      </script>\n",
              "    </div>\n",
              "  </div>\n",
              "  "
            ]
          },
          "metadata": {},
          "execution_count": 68
        }
      ]
    },
    {
      "cell_type": "code",
      "source": [
        "# Quantidade de classes distintas na amostra\n",
        "# a25 = amostra25.groupby(\"Store\")[\"Store\",\"Weekly_Sales\"].agg({\"Weekly_Sales\": \"count\"}).reset_index()\n",
        "# a25 = amostra25.groupby('Store')['Weekly_Sales']\n",
        "print(amostra25.value_counts(\"Store\"))\n",
        "print(amostra50.value_counts(\"Store\"))"
      ],
      "metadata": {
        "id": "_q1xOmmSHq5n",
        "colab": {
          "base_uri": "https://localhost:8080/"
        },
        "outputId": "cc6adfe5-2ce5-4857-a3c4-3be64110a384"
      },
      "execution_count": null,
      "outputs": [
        {
          "output_type": "stream",
          "name": "stdout",
          "text": [
            "Store\n",
            "7     3\n",
            "45    2\n",
            "5     2\n",
            "22    2\n",
            "19    1\n",
            "35    1\n",
            "34    1\n",
            "29    1\n",
            "27    1\n",
            "23    1\n",
            "20    1\n",
            "2     1\n",
            "3     1\n",
            "17    1\n",
            "15    1\n",
            "14    1\n",
            "13    1\n",
            "12    1\n",
            "9     1\n",
            "18    1\n",
            "dtype: int64\n",
            "Store\n",
            "38    4\n",
            "20    3\n",
            "7     3\n",
            "33    3\n",
            "36    3\n",
            "23    3\n",
            "6     2\n",
            "43    2\n",
            "26    2\n",
            "19    2\n",
            "13    2\n",
            "37    1\n",
            "41    1\n",
            "22    1\n",
            "30    1\n",
            "29    1\n",
            "28    1\n",
            "24    1\n",
            "2     1\n",
            "21    1\n",
            "3     1\n",
            "18    1\n",
            "17    1\n",
            "16    1\n",
            "15    1\n",
            "14    1\n",
            "12    1\n",
            "11    1\n",
            "8     1\n",
            "5     1\n",
            "4     1\n",
            "44    1\n",
            "dtype: int64\n"
          ]
        }
      ]
    },
    {
      "cell_type": "markdown",
      "metadata": {
        "id": "d_fHExX3oEVz"
      },
      "source": [
        "## Amostragem Sistemática "
      ]
    },
    {
      "cell_type": "code",
      "source": [
        "# Amostragem sistemática com passo e primeiro valor definidos\n",
        "passo = 10\n",
        "inicial = 0\n",
        "final= 70\n",
        "indices = np.arange(inicial,df.shape[0],passo)\n",
        "amostra = df.loc[indices]\n",
        "amostra"
      ],
      "metadata": {
        "id": "BMwm9x8rIfJL",
        "colab": {
          "base_uri": "https://localhost:8080/",
          "height": 424
        },
        "outputId": "32300216-0977-42d6-cf82-fe06106a3cb8"
      },
      "execution_count": null,
      "outputs": [
        {
          "output_type": "execute_result",
          "data": {
            "text/plain": [
              "      Store        Date  Weekly_Sales  Holiday_Flag  Temperature  Fuel_Price  \\\n",
              "0         1  05-02-2010    1643690.90             0        42.31        2.57   \n",
              "10        1  16-04-2010    1466058.28             0        66.32        2.81   \n",
              "20        1  25-06-2010    1422711.60             0        84.34        2.65   \n",
              "30        1  03-09-2010    1540163.53             0        81.21        2.58   \n",
              "40        1  12-11-2010    1494479.49             0        59.61        2.73   \n",
              "...     ...         ...           ...           ...          ...         ...   \n",
              "6390     45  23-12-2011    1521957.99             0        42.27        3.39   \n",
              "6400     45  02-03-2012     782796.01             0        41.55        3.82   \n",
              "6410     45  11-05-2012     770487.37             0        61.24        3.89   \n",
              "6420     45  20-07-2012     737613.65             0        78.89        3.57   \n",
              "6430     45  28-09-2012     713173.95             0        64.88        4.00   \n",
              "\n",
              "        CPI  Unemployment  media_WS_store  \n",
              "0    211.10          8.11      1555264.40  \n",
              "10   210.49          7.81      1555264.40  \n",
              "20   211.34          7.81      1555264.40  \n",
              "30   211.53          7.79      1555264.40  \n",
              "40   212.00          7.84      1555264.40  \n",
              "...     ...           ...             ...  \n",
              "6390 188.93          8.52       785981.41  \n",
              "6400 190.17          8.42       785981.41  \n",
              "6410 190.98          8.57       785981.41  \n",
              "6420 191.17          8.68       785981.41  \n",
              "6430 192.01          8.68       785981.41  \n",
              "\n",
              "[644 rows x 9 columns]"
            ],
            "text/html": [
              "\n",
              "  <div id=\"df-73338809-be00-49a4-8dcf-67dc4dca75d7\">\n",
              "    <div class=\"colab-df-container\">\n",
              "      <div>\n",
              "<style scoped>\n",
              "    .dataframe tbody tr th:only-of-type {\n",
              "        vertical-align: middle;\n",
              "    }\n",
              "\n",
              "    .dataframe tbody tr th {\n",
              "        vertical-align: top;\n",
              "    }\n",
              "\n",
              "    .dataframe thead th {\n",
              "        text-align: right;\n",
              "    }\n",
              "</style>\n",
              "<table border=\"1\" class=\"dataframe\">\n",
              "  <thead>\n",
              "    <tr style=\"text-align: right;\">\n",
              "      <th></th>\n",
              "      <th>Store</th>\n",
              "      <th>Date</th>\n",
              "      <th>Weekly_Sales</th>\n",
              "      <th>Holiday_Flag</th>\n",
              "      <th>Temperature</th>\n",
              "      <th>Fuel_Price</th>\n",
              "      <th>CPI</th>\n",
              "      <th>Unemployment</th>\n",
              "      <th>media_WS_store</th>\n",
              "    </tr>\n",
              "  </thead>\n",
              "  <tbody>\n",
              "    <tr>\n",
              "      <th>0</th>\n",
              "      <td>1</td>\n",
              "      <td>05-02-2010</td>\n",
              "      <td>1643690.90</td>\n",
              "      <td>0</td>\n",
              "      <td>42.31</td>\n",
              "      <td>2.57</td>\n",
              "      <td>211.10</td>\n",
              "      <td>8.11</td>\n",
              "      <td>1555264.40</td>\n",
              "    </tr>\n",
              "    <tr>\n",
              "      <th>10</th>\n",
              "      <td>1</td>\n",
              "      <td>16-04-2010</td>\n",
              "      <td>1466058.28</td>\n",
              "      <td>0</td>\n",
              "      <td>66.32</td>\n",
              "      <td>2.81</td>\n",
              "      <td>210.49</td>\n",
              "      <td>7.81</td>\n",
              "      <td>1555264.40</td>\n",
              "    </tr>\n",
              "    <tr>\n",
              "      <th>20</th>\n",
              "      <td>1</td>\n",
              "      <td>25-06-2010</td>\n",
              "      <td>1422711.60</td>\n",
              "      <td>0</td>\n",
              "      <td>84.34</td>\n",
              "      <td>2.65</td>\n",
              "      <td>211.34</td>\n",
              "      <td>7.81</td>\n",
              "      <td>1555264.40</td>\n",
              "    </tr>\n",
              "    <tr>\n",
              "      <th>30</th>\n",
              "      <td>1</td>\n",
              "      <td>03-09-2010</td>\n",
              "      <td>1540163.53</td>\n",
              "      <td>0</td>\n",
              "      <td>81.21</td>\n",
              "      <td>2.58</td>\n",
              "      <td>211.53</td>\n",
              "      <td>7.79</td>\n",
              "      <td>1555264.40</td>\n",
              "    </tr>\n",
              "    <tr>\n",
              "      <th>40</th>\n",
              "      <td>1</td>\n",
              "      <td>12-11-2010</td>\n",
              "      <td>1494479.49</td>\n",
              "      <td>0</td>\n",
              "      <td>59.61</td>\n",
              "      <td>2.73</td>\n",
              "      <td>212.00</td>\n",
              "      <td>7.84</td>\n",
              "      <td>1555264.40</td>\n",
              "    </tr>\n",
              "    <tr>\n",
              "      <th>...</th>\n",
              "      <td>...</td>\n",
              "      <td>...</td>\n",
              "      <td>...</td>\n",
              "      <td>...</td>\n",
              "      <td>...</td>\n",
              "      <td>...</td>\n",
              "      <td>...</td>\n",
              "      <td>...</td>\n",
              "      <td>...</td>\n",
              "    </tr>\n",
              "    <tr>\n",
              "      <th>6390</th>\n",
              "      <td>45</td>\n",
              "      <td>23-12-2011</td>\n",
              "      <td>1521957.99</td>\n",
              "      <td>0</td>\n",
              "      <td>42.27</td>\n",
              "      <td>3.39</td>\n",
              "      <td>188.93</td>\n",
              "      <td>8.52</td>\n",
              "      <td>785981.41</td>\n",
              "    </tr>\n",
              "    <tr>\n",
              "      <th>6400</th>\n",
              "      <td>45</td>\n",
              "      <td>02-03-2012</td>\n",
              "      <td>782796.01</td>\n",
              "      <td>0</td>\n",
              "      <td>41.55</td>\n",
              "      <td>3.82</td>\n",
              "      <td>190.17</td>\n",
              "      <td>8.42</td>\n",
              "      <td>785981.41</td>\n",
              "    </tr>\n",
              "    <tr>\n",
              "      <th>6410</th>\n",
              "      <td>45</td>\n",
              "      <td>11-05-2012</td>\n",
              "      <td>770487.37</td>\n",
              "      <td>0</td>\n",
              "      <td>61.24</td>\n",
              "      <td>3.89</td>\n",
              "      <td>190.98</td>\n",
              "      <td>8.57</td>\n",
              "      <td>785981.41</td>\n",
              "    </tr>\n",
              "    <tr>\n",
              "      <th>6420</th>\n",
              "      <td>45</td>\n",
              "      <td>20-07-2012</td>\n",
              "      <td>737613.65</td>\n",
              "      <td>0</td>\n",
              "      <td>78.89</td>\n",
              "      <td>3.57</td>\n",
              "      <td>191.17</td>\n",
              "      <td>8.68</td>\n",
              "      <td>785981.41</td>\n",
              "    </tr>\n",
              "    <tr>\n",
              "      <th>6430</th>\n",
              "      <td>45</td>\n",
              "      <td>28-09-2012</td>\n",
              "      <td>713173.95</td>\n",
              "      <td>0</td>\n",
              "      <td>64.88</td>\n",
              "      <td>4.00</td>\n",
              "      <td>192.01</td>\n",
              "      <td>8.68</td>\n",
              "      <td>785981.41</td>\n",
              "    </tr>\n",
              "  </tbody>\n",
              "</table>\n",
              "<p>644 rows × 9 columns</p>\n",
              "</div>\n",
              "      <button class=\"colab-df-convert\" onclick=\"convertToInteractive('df-73338809-be00-49a4-8dcf-67dc4dca75d7')\"\n",
              "              title=\"Convert this dataframe to an interactive table.\"\n",
              "              style=\"display:none;\">\n",
              "        \n",
              "  <svg xmlns=\"http://www.w3.org/2000/svg\" height=\"24px\"viewBox=\"0 0 24 24\"\n",
              "       width=\"24px\">\n",
              "    <path d=\"M0 0h24v24H0V0z\" fill=\"none\"/>\n",
              "    <path d=\"M18.56 5.44l.94 2.06.94-2.06 2.06-.94-2.06-.94-.94-2.06-.94 2.06-2.06.94zm-11 1L8.5 8.5l.94-2.06 2.06-.94-2.06-.94L8.5 2.5l-.94 2.06-2.06.94zm10 10l.94 2.06.94-2.06 2.06-.94-2.06-.94-.94-2.06-.94 2.06-2.06.94z\"/><path d=\"M17.41 7.96l-1.37-1.37c-.4-.4-.92-.59-1.43-.59-.52 0-1.04.2-1.43.59L10.3 9.45l-7.72 7.72c-.78.78-.78 2.05 0 2.83L4 21.41c.39.39.9.59 1.41.59.51 0 1.02-.2 1.41-.59l7.78-7.78 2.81-2.81c.8-.78.8-2.07 0-2.86zM5.41 20L4 18.59l7.72-7.72 1.47 1.35L5.41 20z\"/>\n",
              "  </svg>\n",
              "      </button>\n",
              "      \n",
              "  <style>\n",
              "    .colab-df-container {\n",
              "      display:flex;\n",
              "      flex-wrap:wrap;\n",
              "      gap: 12px;\n",
              "    }\n",
              "\n",
              "    .colab-df-convert {\n",
              "      background-color: #E8F0FE;\n",
              "      border: none;\n",
              "      border-radius: 50%;\n",
              "      cursor: pointer;\n",
              "      display: none;\n",
              "      fill: #1967D2;\n",
              "      height: 32px;\n",
              "      padding: 0 0 0 0;\n",
              "      width: 32px;\n",
              "    }\n",
              "\n",
              "    .colab-df-convert:hover {\n",
              "      background-color: #E2EBFA;\n",
              "      box-shadow: 0px 1px 2px rgba(60, 64, 67, 0.3), 0px 1px 3px 1px rgba(60, 64, 67, 0.15);\n",
              "      fill: #174EA6;\n",
              "    }\n",
              "\n",
              "    [theme=dark] .colab-df-convert {\n",
              "      background-color: #3B4455;\n",
              "      fill: #D2E3FC;\n",
              "    }\n",
              "\n",
              "    [theme=dark] .colab-df-convert:hover {\n",
              "      background-color: #434B5C;\n",
              "      box-shadow: 0px 1px 3px 1px rgba(0, 0, 0, 0.15);\n",
              "      filter: drop-shadow(0px 1px 2px rgba(0, 0, 0, 0.3));\n",
              "      fill: #FFFFFF;\n",
              "    }\n",
              "  </style>\n",
              "\n",
              "      <script>\n",
              "        const buttonEl =\n",
              "          document.querySelector('#df-73338809-be00-49a4-8dcf-67dc4dca75d7 button.colab-df-convert');\n",
              "        buttonEl.style.display =\n",
              "          google.colab.kernel.accessAllowed ? 'block' : 'none';\n",
              "\n",
              "        async function convertToInteractive(key) {\n",
              "          const element = document.querySelector('#df-73338809-be00-49a4-8dcf-67dc4dca75d7');\n",
              "          const dataTable =\n",
              "            await google.colab.kernel.invokeFunction('convertToInteractive',\n",
              "                                                     [key], {});\n",
              "          if (!dataTable) return;\n",
              "\n",
              "          const docLinkHtml = 'Like what you see? Visit the ' +\n",
              "            '<a target=\"_blank\" href=https://colab.research.google.com/notebooks/data_table.ipynb>data table notebook</a>'\n",
              "            + ' to learn more about interactive tables.';\n",
              "          element.innerHTML = '';\n",
              "          dataTable['output_type'] = 'display_data';\n",
              "          await google.colab.output.renderOutput(dataTable, element);\n",
              "          const docLink = document.createElement('div');\n",
              "          docLink.innerHTML = docLinkHtml;\n",
              "          element.appendChild(docLink);\n",
              "        }\n",
              "      </script>\n",
              "    </div>\n",
              "  </div>\n",
              "  "
            ]
          },
          "metadata": {},
          "execution_count": 98
        }
      ]
    },
    {
      "cell_type": "markdown",
      "metadata": {
        "id": "6g1OmQlGoFDO"
      },
      "source": [
        "## Amostragem Estratificada "
      ]
    },
    {
      "cell_type": "code",
      "source": [
        "# Verificando quantos tipos diferentes de classe temos na amostra\n",
        "df['Store'].value_counts() "
      ],
      "metadata": {
        "id": "EUwfD6QNI5K6",
        "colab": {
          "base_uri": "https://localhost:8080/"
        },
        "outputId": "03fab764-df53-4036-901c-c3eb26552837"
      },
      "execution_count": null,
      "outputs": [
        {
          "output_type": "execute_result",
          "data": {
            "text/plain": [
              "1     143\n",
              "24    143\n",
              "26    143\n",
              "27    143\n",
              "28    143\n",
              "29    143\n",
              "30    143\n",
              "31    143\n",
              "32    143\n",
              "33    143\n",
              "34    143\n",
              "35    143\n",
              "36    143\n",
              "37    143\n",
              "38    143\n",
              "39    143\n",
              "40    143\n",
              "41    143\n",
              "42    143\n",
              "43    143\n",
              "44    143\n",
              "25    143\n",
              "23    143\n",
              "2     143\n",
              "22    143\n",
              "3     143\n",
              "4     143\n",
              "5     143\n",
              "6     143\n",
              "7     143\n",
              "8     143\n",
              "9     143\n",
              "10    143\n",
              "11    143\n",
              "12    143\n",
              "13    143\n",
              "14    143\n",
              "15    143\n",
              "16    143\n",
              "17    143\n",
              "18    143\n",
              "19    143\n",
              "20    143\n",
              "21    143\n",
              "45    143\n",
              "Name: Store, dtype: int64"
            ]
          },
          "metadata": {},
          "execution_count": 102
        }
      ]
    },
    {
      "cell_type": "code",
      "source": [
        "\n",
        "\n",
        "# Amostragem estratificada usando train_test_split\n",
        "from sklearn.model_selection import train_test_split\n",
        "\n",
        "X_1, X_2 = train_test_split(df, test_size = 100 #Tamanho da amostra X_2 - Amostra alvo\n",
        "                            , stratify = df['Store'])\n",
        "X_2['Store'].value_counts() "
      ],
      "metadata": {
        "id": "cMBy6A9pI-Wk",
        "colab": {
          "base_uri": "https://localhost:8080/"
        },
        "outputId": "3819e7f3-b3f4-4ca0-ff66-0c38185d7d28"
      },
      "execution_count": null,
      "outputs": [
        {
          "output_type": "execute_result",
          "data": {
            "text/plain": [
              "21    3\n",
              "26    3\n",
              "6     3\n",
              "7     3\n",
              "25    3\n",
              "4     3\n",
              "39    3\n",
              "43    3\n",
              "37    3\n",
              "20    3\n",
              "10    2\n",
              "33    2\n",
              "19    2\n",
              "41    2\n",
              "24    2\n",
              "29    2\n",
              "16    2\n",
              "28    2\n",
              "18    2\n",
              "13    2\n",
              "22    2\n",
              "36    2\n",
              "2     2\n",
              "14    2\n",
              "40    2\n",
              "44    2\n",
              "15    2\n",
              "12    2\n",
              "38    2\n",
              "32    2\n",
              "23    2\n",
              "34    2\n",
              "11    2\n",
              "17    2\n",
              "9     2\n",
              "31    2\n",
              "1     2\n",
              "42    2\n",
              "27    2\n",
              "5     2\n",
              "35    2\n",
              "30    2\n",
              "8     2\n",
              "3     2\n",
              "45    2\n",
              "Name: Store, dtype: int64"
            ]
          },
          "metadata": {},
          "execution_count": 105
        }
      ]
    },
    {
      "cell_type": "code",
      "source": [
        "X_1['Store'].value_counts() "
      ],
      "metadata": {
        "colab": {
          "base_uri": "https://localhost:8080/"
        },
        "id": "0pMImzJUHJHH",
        "outputId": "f62494ea-1982-46fd-8dad-29a04a4a06cb"
      },
      "execution_count": null,
      "outputs": [
        {
          "output_type": "execute_result",
          "data": {
            "text/plain": [
              "9     141\n",
              "38    141\n",
              "16    141\n",
              "41    141\n",
              "19    141\n",
              "17    141\n",
              "45    141\n",
              "31    141\n",
              "5     141\n",
              "42    141\n",
              "33    141\n",
              "23    141\n",
              "28    141\n",
              "30    141\n",
              "29    141\n",
              "32    141\n",
              "15    141\n",
              "13    141\n",
              "44    141\n",
              "12    141\n",
              "3     141\n",
              "1     141\n",
              "27    141\n",
              "14    141\n",
              "24    141\n",
              "10    141\n",
              "2     141\n",
              "11    141\n",
              "34    141\n",
              "8     141\n",
              "35    141\n",
              "22    141\n",
              "40    141\n",
              "36    141\n",
              "18    141\n",
              "21    140\n",
              "39    140\n",
              "6     140\n",
              "7     140\n",
              "25    140\n",
              "26    140\n",
              "43    140\n",
              "37    140\n",
              "4     140\n",
              "20    140\n",
              "Name: Store, dtype: int64"
            ]
          },
          "metadata": {},
          "execution_count": 106
        }
      ]
    },
    {
      "cell_type": "markdown",
      "metadata": {
        "id": "1rDmAY66L-cF"
      },
      "source": [
        "## Amostragem Clusterizada "
      ]
    },
    {
      "cell_type": "code",
      "source": [
        "# Amostragem clusterizada selecionando apenas algumas semanas da loja 20\n",
        "amostra = df[df.Store==20].sample(frac=0.1)\n",
        "amostra "
      ],
      "metadata": {
        "id": "bfj6mkN7JlEq",
        "colab": {
          "base_uri": "https://localhost:8080/",
          "height": 488
        },
        "outputId": "baa250ab-6418-4226-dfc4-7f40ee6e7197"
      },
      "execution_count": null,
      "outputs": [
        {
          "output_type": "execute_result",
          "data": {
            "text/plain": [
              "      Store        Date  Weekly_Sales  Holiday_Flag  Temperature  Fuel_Price  \\\n",
              "2768     20  28-01-2011    1761506.68             0        23.21        3.24   \n",
              "2844     20  13-07-2012    2134680.12             0        78.27        3.52   \n",
              "2774     20  11-03-2011    1990932.77             0        39.53        3.58   \n",
              "2813     20  09-12-2011    2546123.78             0        41.64        3.42   \n",
              "2825     20  02-03-2012    2148822.76             0        39.98        3.82   \n",
              "2852     20  07-09-2012    2080529.06             1        76.36        3.91   \n",
              "2841     20  22-06-2012    2060588.69             0        76.51        3.56   \n",
              "2729     20  30-04-2010    1919053.21             0        54.75        2.92   \n",
              "2763     20  24-12-2010    3766687.43             0        25.17        3.14   \n",
              "2828     20  23-03-2012    1992436.96             0        66.11        3.90   \n",
              "2735     20  11-06-2010    2100489.79             0        67.32        2.81   \n",
              "2826     20  09-03-2012    2139265.40             0        41.14        3.85   \n",
              "2791     20  08-07-2011    2123787.79             0        74.69        3.71   \n",
              "2754     20  22-10-2010    1893955.27             0        50.52        2.92   \n",
              "\n",
              "        CPI  Unemployment  media_WS_store  \n",
              "2768 205.39          7.34      2107676.87  \n",
              "2844 214.73          7.28      2107676.87  \n",
              "2774 207.19          7.34      2107676.87  \n",
              "2813 211.87          7.08      2107676.87  \n",
              "2825 213.67          6.96      2107676.87  \n",
              "2852 215.22          7.28      2107676.87  \n",
              "2841 214.61          7.14      2107676.87  \n",
              "2729 203.65          7.86      2107676.87  \n",
              "2763 204.64          7.48      2107676.87  \n",
              "2828 214.09          6.96      2107676.87  \n",
              "2735 204.67          7.86      2107676.87  \n",
              "2826 213.87          6.96      2107676.87  \n",
              "2791 208.44          7.27      2107676.87  \n",
              "2754 205.06          7.48      2107676.87  "
            ],
            "text/html": [
              "\n",
              "  <div id=\"df-66b53acd-21e6-47b7-bdd3-a174f6b434d2\">\n",
              "    <div class=\"colab-df-container\">\n",
              "      <div>\n",
              "<style scoped>\n",
              "    .dataframe tbody tr th:only-of-type {\n",
              "        vertical-align: middle;\n",
              "    }\n",
              "\n",
              "    .dataframe tbody tr th {\n",
              "        vertical-align: top;\n",
              "    }\n",
              "\n",
              "    .dataframe thead th {\n",
              "        text-align: right;\n",
              "    }\n",
              "</style>\n",
              "<table border=\"1\" class=\"dataframe\">\n",
              "  <thead>\n",
              "    <tr style=\"text-align: right;\">\n",
              "      <th></th>\n",
              "      <th>Store</th>\n",
              "      <th>Date</th>\n",
              "      <th>Weekly_Sales</th>\n",
              "      <th>Holiday_Flag</th>\n",
              "      <th>Temperature</th>\n",
              "      <th>Fuel_Price</th>\n",
              "      <th>CPI</th>\n",
              "      <th>Unemployment</th>\n",
              "      <th>media_WS_store</th>\n",
              "    </tr>\n",
              "  </thead>\n",
              "  <tbody>\n",
              "    <tr>\n",
              "      <th>2768</th>\n",
              "      <td>20</td>\n",
              "      <td>28-01-2011</td>\n",
              "      <td>1761506.68</td>\n",
              "      <td>0</td>\n",
              "      <td>23.21</td>\n",
              "      <td>3.24</td>\n",
              "      <td>205.39</td>\n",
              "      <td>7.34</td>\n",
              "      <td>2107676.87</td>\n",
              "    </tr>\n",
              "    <tr>\n",
              "      <th>2844</th>\n",
              "      <td>20</td>\n",
              "      <td>13-07-2012</td>\n",
              "      <td>2134680.12</td>\n",
              "      <td>0</td>\n",
              "      <td>78.27</td>\n",
              "      <td>3.52</td>\n",
              "      <td>214.73</td>\n",
              "      <td>7.28</td>\n",
              "      <td>2107676.87</td>\n",
              "    </tr>\n",
              "    <tr>\n",
              "      <th>2774</th>\n",
              "      <td>20</td>\n",
              "      <td>11-03-2011</td>\n",
              "      <td>1990932.77</td>\n",
              "      <td>0</td>\n",
              "      <td>39.53</td>\n",
              "      <td>3.58</td>\n",
              "      <td>207.19</td>\n",
              "      <td>7.34</td>\n",
              "      <td>2107676.87</td>\n",
              "    </tr>\n",
              "    <tr>\n",
              "      <th>2813</th>\n",
              "      <td>20</td>\n",
              "      <td>09-12-2011</td>\n",
              "      <td>2546123.78</td>\n",
              "      <td>0</td>\n",
              "      <td>41.64</td>\n",
              "      <td>3.42</td>\n",
              "      <td>211.87</td>\n",
              "      <td>7.08</td>\n",
              "      <td>2107676.87</td>\n",
              "    </tr>\n",
              "    <tr>\n",
              "      <th>2825</th>\n",
              "      <td>20</td>\n",
              "      <td>02-03-2012</td>\n",
              "      <td>2148822.76</td>\n",
              "      <td>0</td>\n",
              "      <td>39.98</td>\n",
              "      <td>3.82</td>\n",
              "      <td>213.67</td>\n",
              "      <td>6.96</td>\n",
              "      <td>2107676.87</td>\n",
              "    </tr>\n",
              "    <tr>\n",
              "      <th>2852</th>\n",
              "      <td>20</td>\n",
              "      <td>07-09-2012</td>\n",
              "      <td>2080529.06</td>\n",
              "      <td>1</td>\n",
              "      <td>76.36</td>\n",
              "      <td>3.91</td>\n",
              "      <td>215.22</td>\n",
              "      <td>7.28</td>\n",
              "      <td>2107676.87</td>\n",
              "    </tr>\n",
              "    <tr>\n",
              "      <th>2841</th>\n",
              "      <td>20</td>\n",
              "      <td>22-06-2012</td>\n",
              "      <td>2060588.69</td>\n",
              "      <td>0</td>\n",
              "      <td>76.51</td>\n",
              "      <td>3.56</td>\n",
              "      <td>214.61</td>\n",
              "      <td>7.14</td>\n",
              "      <td>2107676.87</td>\n",
              "    </tr>\n",
              "    <tr>\n",
              "      <th>2729</th>\n",
              "      <td>20</td>\n",
              "      <td>30-04-2010</td>\n",
              "      <td>1919053.21</td>\n",
              "      <td>0</td>\n",
              "      <td>54.75</td>\n",
              "      <td>2.92</td>\n",
              "      <td>203.65</td>\n",
              "      <td>7.86</td>\n",
              "      <td>2107676.87</td>\n",
              "    </tr>\n",
              "    <tr>\n",
              "      <th>2763</th>\n",
              "      <td>20</td>\n",
              "      <td>24-12-2010</td>\n",
              "      <td>3766687.43</td>\n",
              "      <td>0</td>\n",
              "      <td>25.17</td>\n",
              "      <td>3.14</td>\n",
              "      <td>204.64</td>\n",
              "      <td>7.48</td>\n",
              "      <td>2107676.87</td>\n",
              "    </tr>\n",
              "    <tr>\n",
              "      <th>2828</th>\n",
              "      <td>20</td>\n",
              "      <td>23-03-2012</td>\n",
              "      <td>1992436.96</td>\n",
              "      <td>0</td>\n",
              "      <td>66.11</td>\n",
              "      <td>3.90</td>\n",
              "      <td>214.09</td>\n",
              "      <td>6.96</td>\n",
              "      <td>2107676.87</td>\n",
              "    </tr>\n",
              "    <tr>\n",
              "      <th>2735</th>\n",
              "      <td>20</td>\n",
              "      <td>11-06-2010</td>\n",
              "      <td>2100489.79</td>\n",
              "      <td>0</td>\n",
              "      <td>67.32</td>\n",
              "      <td>2.81</td>\n",
              "      <td>204.67</td>\n",
              "      <td>7.86</td>\n",
              "      <td>2107676.87</td>\n",
              "    </tr>\n",
              "    <tr>\n",
              "      <th>2826</th>\n",
              "      <td>20</td>\n",
              "      <td>09-03-2012</td>\n",
              "      <td>2139265.40</td>\n",
              "      <td>0</td>\n",
              "      <td>41.14</td>\n",
              "      <td>3.85</td>\n",
              "      <td>213.87</td>\n",
              "      <td>6.96</td>\n",
              "      <td>2107676.87</td>\n",
              "    </tr>\n",
              "    <tr>\n",
              "      <th>2791</th>\n",
              "      <td>20</td>\n",
              "      <td>08-07-2011</td>\n",
              "      <td>2123787.79</td>\n",
              "      <td>0</td>\n",
              "      <td>74.69</td>\n",
              "      <td>3.71</td>\n",
              "      <td>208.44</td>\n",
              "      <td>7.27</td>\n",
              "      <td>2107676.87</td>\n",
              "    </tr>\n",
              "    <tr>\n",
              "      <th>2754</th>\n",
              "      <td>20</td>\n",
              "      <td>22-10-2010</td>\n",
              "      <td>1893955.27</td>\n",
              "      <td>0</td>\n",
              "      <td>50.52</td>\n",
              "      <td>2.92</td>\n",
              "      <td>205.06</td>\n",
              "      <td>7.48</td>\n",
              "      <td>2107676.87</td>\n",
              "    </tr>\n",
              "  </tbody>\n",
              "</table>\n",
              "</div>\n",
              "      <button class=\"colab-df-convert\" onclick=\"convertToInteractive('df-66b53acd-21e6-47b7-bdd3-a174f6b434d2')\"\n",
              "              title=\"Convert this dataframe to an interactive table.\"\n",
              "              style=\"display:none;\">\n",
              "        \n",
              "  <svg xmlns=\"http://www.w3.org/2000/svg\" height=\"24px\"viewBox=\"0 0 24 24\"\n",
              "       width=\"24px\">\n",
              "    <path d=\"M0 0h24v24H0V0z\" fill=\"none\"/>\n",
              "    <path d=\"M18.56 5.44l.94 2.06.94-2.06 2.06-.94-2.06-.94-.94-2.06-.94 2.06-2.06.94zm-11 1L8.5 8.5l.94-2.06 2.06-.94-2.06-.94L8.5 2.5l-.94 2.06-2.06.94zm10 10l.94 2.06.94-2.06 2.06-.94-2.06-.94-.94-2.06-.94 2.06-2.06.94z\"/><path d=\"M17.41 7.96l-1.37-1.37c-.4-.4-.92-.59-1.43-.59-.52 0-1.04.2-1.43.59L10.3 9.45l-7.72 7.72c-.78.78-.78 2.05 0 2.83L4 21.41c.39.39.9.59 1.41.59.51 0 1.02-.2 1.41-.59l7.78-7.78 2.81-2.81c.8-.78.8-2.07 0-2.86zM5.41 20L4 18.59l7.72-7.72 1.47 1.35L5.41 20z\"/>\n",
              "  </svg>\n",
              "      </button>\n",
              "      \n",
              "  <style>\n",
              "    .colab-df-container {\n",
              "      display:flex;\n",
              "      flex-wrap:wrap;\n",
              "      gap: 12px;\n",
              "    }\n",
              "\n",
              "    .colab-df-convert {\n",
              "      background-color: #E8F0FE;\n",
              "      border: none;\n",
              "      border-radius: 50%;\n",
              "      cursor: pointer;\n",
              "      display: none;\n",
              "      fill: #1967D2;\n",
              "      height: 32px;\n",
              "      padding: 0 0 0 0;\n",
              "      width: 32px;\n",
              "    }\n",
              "\n",
              "    .colab-df-convert:hover {\n",
              "      background-color: #E2EBFA;\n",
              "      box-shadow: 0px 1px 2px rgba(60, 64, 67, 0.3), 0px 1px 3px 1px rgba(60, 64, 67, 0.15);\n",
              "      fill: #174EA6;\n",
              "    }\n",
              "\n",
              "    [theme=dark] .colab-df-convert {\n",
              "      background-color: #3B4455;\n",
              "      fill: #D2E3FC;\n",
              "    }\n",
              "\n",
              "    [theme=dark] .colab-df-convert:hover {\n",
              "      background-color: #434B5C;\n",
              "      box-shadow: 0px 1px 3px 1px rgba(0, 0, 0, 0.15);\n",
              "      filter: drop-shadow(0px 1px 2px rgba(0, 0, 0, 0.3));\n",
              "      fill: #FFFFFF;\n",
              "    }\n",
              "  </style>\n",
              "\n",
              "      <script>\n",
              "        const buttonEl =\n",
              "          document.querySelector('#df-66b53acd-21e6-47b7-bdd3-a174f6b434d2 button.colab-df-convert');\n",
              "        buttonEl.style.display =\n",
              "          google.colab.kernel.accessAllowed ? 'block' : 'none';\n",
              "\n",
              "        async function convertToInteractive(key) {\n",
              "          const element = document.querySelector('#df-66b53acd-21e6-47b7-bdd3-a174f6b434d2');\n",
              "          const dataTable =\n",
              "            await google.colab.kernel.invokeFunction('convertToInteractive',\n",
              "                                                     [key], {});\n",
              "          if (!dataTable) return;\n",
              "\n",
              "          const docLinkHtml = 'Like what you see? Visit the ' +\n",
              "            '<a target=\"_blank\" href=https://colab.research.google.com/notebooks/data_table.ipynb>data table notebook</a>'\n",
              "            + ' to learn more about interactive tables.';\n",
              "          element.innerHTML = '';\n",
              "          dataTable['output_type'] = 'display_data';\n",
              "          await google.colab.output.renderOutput(dataTable, element);\n",
              "          const docLink = document.createElement('div');\n",
              "          docLink.innerHTML = docLinkHtml;\n",
              "          element.appendChild(docLink);\n",
              "        }\n",
              "      </script>\n",
              "    </div>\n",
              "  </div>\n",
              "  "
            ]
          },
          "metadata": {},
          "execution_count": 108
        }
      ]
    },
    {
      "cell_type": "markdown",
      "source": [
        "# Etapa 03 (PLUS)"
      ],
      "metadata": {
        "id": "Uml1d84Ap7Rv"
      }
    },
    {
      "cell_type": "markdown",
      "source": [
        "## Distribuição Normal\n",
        "\n",
        "\n",
        "<img alt=\"Correlação\" width=\"85%\" src=\"https://proeducacional.com/packages/uploads/2020/08/img_5f2ae87aaa0c2.png\">\n"
      ],
      "metadata": {
        "id": "HRrl2bQdCaM4"
      }
    },
    {
      "cell_type": "markdown",
      "source": [
        "A partir deste momento, vamos analisar somente os dados da loja 20 conforme foi pedido lá em cima. Usando todos os dados da loja 20, veja se as vendas seguem uma distribuição normal."
      ],
      "metadata": {
        "id": "mfmGB8_9CbyT"
      }
    },
    {
      "cell_type": "code",
      "source": [
        "# Filtrando o dataset e vendo seu histograma\n",
        "store20 = df[df['Store'] == 20]\n",
        "sns.histplot(data = store20, x = \"Weekly_Sales\", kde=True)\n",
        "plt.axvline(store20[\"Weekly_Sales\"].mean(), c= \"red\")"
      ],
      "metadata": {
        "id": "-Tlxg_sqKxFN",
        "colab": {
          "base_uri": "https://localhost:8080/",
          "height": 297
        },
        "outputId": "141a5e65-2128-48e6-9560-23f176b1acfe"
      },
      "execution_count": null,
      "outputs": [
        {
          "output_type": "execute_result",
          "data": {
            "text/plain": [
              "<matplotlib.lines.Line2D at 0x7f3b612d1b10>"
            ]
          },
          "metadata": {},
          "execution_count": 115
        },
        {
          "output_type": "display_data",
          "data": {
            "text/plain": [
              "<Figure size 432x288 with 1 Axes>"
            ],
            "image/png": "[encoded data removed]"
          },
          "metadata": {
            "needs_background": "light"
          }
        }
      ]
    },
    {
      "cell_type": "code",
      "source": [],
      "metadata": {
        "id": "a449OOodK04A"
      },
      "execution_count": null,
      "outputs": []
    },
    {
      "cell_type": "markdown",
      "source": [
        "<img alt=\"Correlação\" width=\"85%\" src=\"https://www.dummies.com/wp-content/uploads/451825.image0.jpg\">\n",
        "\n",
        "\n",
        "\n"
      ],
      "metadata": {
        "id": "MSyR6udPMFgR"
      }
    },
    {
      "cell_type": "markdown",
      "source": [
        "<img alt=\"Correlação\" width=\"85%\" src=\"https://www.dummies.com/wp-content/uploads/451825.image0.jpg\">\n",
        "\n",
        "\n",
        "\n"
      ],
      "metadata": {
        "id": "_JO3BYzzCyMC"
      }
    },
    {
      "cell_type": "markdown",
      "source": [
        "![](data:image/png;base64,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)"
      ],
      "metadata": {
        "id": "SMon4nUQC6G-"
      }
    },
    {
      "cell_type": "markdown",
      "source": [
        "![](https://www.statisticshowto.com/wp-content/uploads/2021/12/confidence-limits.bmp)"
      ],
      "metadata": {
        "id": "opVOqOPWC29u"
      }
    },
    {
      "cell_type": "code",
      "source": [
        "# Realizando o teste com uma amostragem aleatória simples com 25 amostras -> Teste T\n"
      ],
      "metadata": {
        "id": "MeUaufkML6qB"
      },
      "execution_count": null,
      "outputs": []
    },
    {
      "cell_type": "code",
      "source": [
        "# Verificando a média da população\n"
      ],
      "metadata": {
        "id": "Q7peZV_hNliJ"
      },
      "execution_count": null,
      "outputs": []
    },
    {
      "cell_type": "code",
      "source": [
        "# Visualizando a distribuição dos dados como ele são\n"
      ],
      "metadata": {
        "id": "lTlVfagjDXyT"
      },
      "execution_count": null,
      "outputs": []
    },
    {
      "cell_type": "code",
      "source": [
        "# Visualizando a distribuição dos dados aplicando o teorema do limite central\n"
      ],
      "metadata": {
        "id": "yz1qjgL_DcPG"
      },
      "execution_count": null,
      "outputs": []
    },
    {
      "cell_type": "code",
      "source": [
        "# Realizando o teste com uma amostragem aleatória simples com 50 amostras -> Teorema do Limite Central -> Teste Normal\n",
        "\n"
      ],
      "metadata": {
        "id": "s2mAIEvpM1_B"
      },
      "execution_count": null,
      "outputs": []
    },
    {
      "cell_type": "code",
      "source": [
        "# Verificando a média da população\n"
      ],
      "metadata": {
        "id": "PjHelIIvDjF2"
      },
      "execution_count": null,
      "outputs": []
    }
  ],
  "metadata": {
    "colab": {
      "collapsed_sections": [
        "IcVa7VlmS6lH",
        "-0aJvykDhAes",
        "tyYTSR_bowS8",
        "bBkfbCMPg6-Q",
        "d_fHExX3oEVz",
        "6g1OmQlGoFDO",
        "1rDmAY66L-cF",
        "Uml1d84Ap7Rv"
      ],
      "provenance": [],
      "include_colab_link": true
    },
    "kernelspec": {
      "display_name": "Python 3",
      "name": "python3"
    },
    "language_info": {
      "name": "python"
    }
  },
  "nbformat": 4,
  "nbformat_minor": 0
}